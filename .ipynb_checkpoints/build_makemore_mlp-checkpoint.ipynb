{
 "cells": [
  {
   "cell_type": "code",
   "execution_count": 1,
   "id": "757dc797",
   "metadata": {},
   "outputs": [],
   "source": [
    "import torch\n",
    "import torch.nn.functional as F\n",
    "import matplotlib.pyplot as plt\n",
    "%matplotlib inline"
   ]
  },
  {
   "cell_type": "code",
   "execution_count": 2,
   "id": "aad18613",
   "metadata": {},
   "outputs": [
    {
     "data": {
      "text/plain": [
       "['emma', 'olivia', 'ava', 'isabella', 'sophia', 'charlotte', 'mia', 'amelia']"
      ]
     },
     "execution_count": 2,
     "metadata": {},
     "output_type": "execute_result"
    }
   ],
   "source": [
    "# read in all the words\n",
    "words = open('names.txt', 'r').read().splitlines()\n",
    "words[:8]"
   ]
  },
  {
   "cell_type": "code",
   "execution_count": 3,
   "id": "d955d6bf",
   "metadata": {},
   "outputs": [
    {
     "data": {
      "text/plain": [
       "32033"
      ]
     },
     "execution_count": 3,
     "metadata": {},
     "output_type": "execute_result"
    }
   ],
   "source": [
    "len(words)"
   ]
  },
  {
   "cell_type": "code",
   "execution_count": 8,
   "id": "4959f699",
   "metadata": {},
   "outputs": [
    {
     "name": "stdout",
     "output_type": "stream",
     "text": [
      "{1: 'a', 2: 'b', 3: 'c', 4: 'd', 5: 'e', 6: 'f', 7: 'g', 8: 'h', 9: 'i', 10: 'j', 11: 'k', 12: 'l', 13: 'm', 14: 'n', 15: 'o', 16: 'p', 17: 'q', 18: 'r', 19: 's', 20: 't', 21: 'u', 22: 'v', 23: 'w', 24: 'x', 25: 'y', 26: 'z', 0: '.'}\n"
     ]
    }
   ],
   "source": [
    "chars = sorted(list(set(''.join(words))))\n",
    "\n",
    "stoi = {s:i+1 for i,s in enumerate(chars)}\n",
    "stoi['.'] = 0\n",
    "\n",
    "itos = {i:s for s,i in stoi.items()}\n",
    "print(itos)"
   ]
  },
  {
   "cell_type": "code",
   "execution_count": 13,
   "id": "61f6ba60",
   "metadata": {},
   "outputs": [
    {
     "name": "stdout",
     "output_type": "stream",
     "text": [
      "emma\n",
      "... -----> e\n",
      "..e -----> m\n",
      ".em -----> m\n",
      "emm -----> a\n",
      "mma -----> .\n",
      "olivia\n",
      "... -----> o\n",
      "..o -----> l\n",
      ".ol -----> i\n",
      "oli -----> v\n",
      "liv -----> i\n",
      "ivi -----> a\n",
      "via -----> .\n",
      "ava\n",
      "... -----> a\n",
      "..a -----> v\n",
      ".av -----> a\n",
      "ava -----> .\n",
      "isabella\n",
      "... -----> i\n",
      "..i -----> s\n",
      ".is -----> a\n",
      "isa -----> b\n",
      "sab -----> e\n",
      "abe -----> l\n",
      "bel -----> l\n",
      "ell -----> a\n",
      "lla -----> .\n",
      "sophia\n",
      "... -----> s\n",
      "..s -----> o\n",
      ".so -----> p\n",
      "sop -----> h\n",
      "oph -----> i\n",
      "phi -----> a\n",
      "hia -----> .\n"
     ]
    }
   ],
   "source": [
    "# build the dataset\n",
    "\n",
    "block_size = 3 # context length: how many characters do we take to predict teh next one\n",
    "X, Y = [], []\n",
    "for w in words[:5]:\n",
    "    \n",
    "    print(w)\n",
    "    context = [0] * block_size # padding with .'s of block_size count\n",
    "    for ch in w + '.':\n",
    "        ix = stoi[ch]\n",
    "        X.append(context)\n",
    "        Y.append(ix)\n",
    "        print(''.join(itos[i] for i in context), '----->', itos[ix])\n",
    "        context = context[1:] + [ix] # crop & append\n",
    "\n",
    "X = torch.tensor(X)\n",
    "Y = torch.tensor(Y)"
   ]
  },
  {
   "cell_type": "code",
   "execution_count": 14,
   "id": "a05cbf1d",
   "metadata": {},
   "outputs": [
    {
     "data": {
      "text/plain": [
       "(torch.Size([32, 3]), torch.int64, torch.Size([32]), torch.int64)"
      ]
     },
     "execution_count": 14,
     "metadata": {},
     "output_type": "execute_result"
    }
   ],
   "source": [
    "X.shape, X.dtype, Y.shape, Y.dtype"
   ]
  },
  {
   "cell_type": "code",
   "execution_count": 15,
   "id": "8d348d4f",
   "metadata": {},
   "outputs": [
    {
     "data": {
      "text/plain": [
       "tensor([[ 0,  0,  0],\n",
       "        [ 0,  0,  5],\n",
       "        [ 0,  5, 13],\n",
       "        [ 5, 13, 13],\n",
       "        [13, 13,  1],\n",
       "        [ 0,  0,  0],\n",
       "        [ 0,  0, 15],\n",
       "        [ 0, 15, 12],\n",
       "        [15, 12,  9],\n",
       "        [12,  9, 22],\n",
       "        [ 9, 22,  9],\n",
       "        [22,  9,  1],\n",
       "        [ 0,  0,  0],\n",
       "        [ 0,  0,  1],\n",
       "        [ 0,  1, 22],\n",
       "        [ 1, 22,  1],\n",
       "        [ 0,  0,  0],\n",
       "        [ 0,  0,  9],\n",
       "        [ 0,  9, 19],\n",
       "        [ 9, 19,  1],\n",
       "        [19,  1,  2],\n",
       "        [ 1,  2,  5],\n",
       "        [ 2,  5, 12],\n",
       "        [ 5, 12, 12],\n",
       "        [12, 12,  1],\n",
       "        [ 0,  0,  0],\n",
       "        [ 0,  0, 19],\n",
       "        [ 0, 19, 15],\n",
       "        [19, 15, 16],\n",
       "        [15, 16,  8],\n",
       "        [16,  8,  9],\n",
       "        [ 8,  9,  1]])"
      ]
     },
     "execution_count": 15,
     "metadata": {},
     "output_type": "execute_result"
    }
   ],
   "source": [
    "X"
   ]
  },
  {
   "cell_type": "code",
   "execution_count": 16,
   "id": "245fe3e4",
   "metadata": {},
   "outputs": [
    {
     "data": {
      "text/plain": [
       "tensor([ 5, 13, 13,  1,  0, 15, 12,  9, 22,  9,  1,  0,  1, 22,  1,  0,  9, 19,\n",
       "         1,  2,  5, 12, 12,  1,  0, 19, 15, 16,  8,  9,  1,  0])"
      ]
     },
     "execution_count": 16,
     "metadata": {},
     "output_type": "execute_result"
    }
   ],
   "source": [
    "Y"
   ]
  },
  {
   "cell_type": "code",
   "execution_count": 17,
   "id": "4b9214d4",
   "metadata": {},
   "outputs": [],
   "source": [
    "# Let's try to map 27 characters into a 2 dimensional space\n",
    "\n",
    "C = torch.randn((27,2))"
   ]
  },
  {
   "cell_type": "markdown",
   "id": "17ac173c",
   "metadata": {},
   "source": [
    "#### Before trying to embed all integers in \"X\", let's try embedding a single integer, say - 5"
   ]
  },
  {
   "cell_type": "code",
   "execution_count": 18,
   "id": "494cb0ac",
   "metadata": {},
   "outputs": [
    {
     "data": {
      "text/plain": [
       "tensor([ 1.1143, -0.9153])"
      ]
     },
     "execution_count": 18,
     "metadata": {},
     "output_type": "execute_result"
    }
   ],
   "source": [
    "# One way could be just index into 5th row of C\n",
    "C[5]"
   ]
  },
  {
   "cell_type": "code",
   "execution_count": 22,
   "id": "a0d5dd15",
   "metadata": {},
   "outputs": [
    {
     "data": {
      "text/plain": [
       "tensor([ 1.1143, -0.9153])"
      ]
     },
     "execution_count": 22,
     "metadata": {},
     "output_type": "execute_result"
    }
   ],
   "source": [
    "# Other way could be doing \n",
    "# \"dot\" multiplication of One-Hot vector of 5 (made with 27 classes)\n",
    "# with C\n",
    "\n",
    "F.one_hot(torch.tensor(5), num_classes=27).float() @ C\n",
    "\n",
    "# This gives exact same thing as above"
   ]
  },
  {
   "cell_type": "markdown",
   "id": "ef943b3a",
   "metadata": {},
   "source": [
    "### Above - there are 2 things to be learnt\n",
    "1. When direct indexing into matrix C\n",
    "    - It can be seen as the embedding matrix of characters\n",
    "    - Those embeddings of corresponding chars can be fed into the first layer of the network\n",
    "2. Instead, we can take **One-Hot** repr of characters:\n",
    "    - Matrix multiply them to C, which can be thought of as weights of first layer (also called embed layer)\n",
    "    - The result of this would be identical to the approach 1.\n",
    "\n",
    "### We're going to just use the 1st approach, index into the C to get embeddings"
   ]
  },
  {
   "cell_type": "code",
   "execution_count": 23,
   "id": "9f6ae7fe",
   "metadata": {},
   "outputs": [
    {
     "data": {
      "text/plain": [
       "tensor([[ 1.1143, -0.9153],\n",
       "        [ 0.4073, -0.3208],\n",
       "        [ 0.6581,  0.0968]])"
      ]
     },
     "execution_count": 23,
     "metadata": {},
     "output_type": "execute_result"
    }
   ],
   "source": [
    "# It is not straight forward to index simultaneoudly for (32,3) matrix of integers from C\n",
    "# We have to use pytorch indexing \n",
    "\n",
    "# We can index using list\n",
    "\n",
    "C[[5,6,7]]"
   ]
  },
  {
   "cell_type": "code",
   "execution_count": 24,
   "id": "acc88929",
   "metadata": {},
   "outputs": [
    {
     "data": {
      "text/plain": [
       "tensor([[ 1.1143, -0.9153],\n",
       "        [ 0.4073, -0.3208],\n",
       "        [ 0.6581,  0.0968]])"
      ]
     },
     "execution_count": 24,
     "metadata": {},
     "output_type": "execute_result"
    }
   ],
   "source": [
    "# PyTorch indexing also works with tensor\n",
    "\n",
    "C[torch.tensor([5,6,7])]"
   ]
  },
  {
   "cell_type": "code",
   "execution_count": 25,
   "id": "5082ff3a",
   "metadata": {},
   "outputs": [
    {
     "data": {
      "text/plain": [
       "tensor([[ 1.1143, -0.9153],\n",
       "        [ 0.4073, -0.3208],\n",
       "        [ 0.6581,  0.0968],\n",
       "        [ 0.6581,  0.0968],\n",
       "        [ 0.6581,  0.0968]])"
      ]
     },
     "execution_count": 25,
     "metadata": {},
     "output_type": "execute_result"
    }
   ],
   "source": [
    "# WE can also repeat a row multiple times\n",
    "\n",
    "C[torch.tensor([5,6,7,7,7])]"
   ]
  },
  {
   "cell_type": "code",
   "execution_count": 26,
   "id": "86f86445",
   "metadata": {},
   "outputs": [
    {
     "data": {
      "text/plain": [
       "tensor([[[ 0.0462,  0.5760],\n",
       "         [ 0.0462,  0.5760],\n",
       "         [ 0.0462,  0.5760]],\n",
       "\n",
       "        [[ 0.0462,  0.5760],\n",
       "         [ 0.0462,  0.5760],\n",
       "         [ 1.1143, -0.9153]],\n",
       "\n",
       "        [[ 0.0462,  0.5760],\n",
       "         [ 1.1143, -0.9153],\n",
       "         [-1.8946, -0.4674]],\n",
       "\n",
       "        [[ 1.1143, -0.9153],\n",
       "         [-1.8946, -0.4674],\n",
       "         [-1.8946, -0.4674]],\n",
       "\n",
       "        [[-1.8946, -0.4674],\n",
       "         [-1.8946, -0.4674],\n",
       "         [ 1.1002, -0.1904]],\n",
       "\n",
       "        [[ 0.0462,  0.5760],\n",
       "         [ 0.0462,  0.5760],\n",
       "         [ 0.0462,  0.5760]],\n",
       "\n",
       "        [[ 0.0462,  0.5760],\n",
       "         [ 0.0462,  0.5760],\n",
       "         [-0.3499, -1.1790]],\n",
       "\n",
       "        [[ 0.0462,  0.5760],\n",
       "         [-0.3499, -1.1790],\n",
       "         [-1.4511,  0.0666]],\n",
       "\n",
       "        [[-0.3499, -1.1790],\n",
       "         [-1.4511,  0.0666],\n",
       "         [-0.5311, -0.4391]],\n",
       "\n",
       "        [[-1.4511,  0.0666],\n",
       "         [-0.5311, -0.4391],\n",
       "         [ 1.4045, -0.2465]],\n",
       "\n",
       "        [[-0.5311, -0.4391],\n",
       "         [ 1.4045, -0.2465],\n",
       "         [-0.5311, -0.4391]],\n",
       "\n",
       "        [[ 1.4045, -0.2465],\n",
       "         [-0.5311, -0.4391],\n",
       "         [ 1.1002, -0.1904]],\n",
       "\n",
       "        [[ 0.0462,  0.5760],\n",
       "         [ 0.0462,  0.5760],\n",
       "         [ 0.0462,  0.5760]],\n",
       "\n",
       "        [[ 0.0462,  0.5760],\n",
       "         [ 0.0462,  0.5760],\n",
       "         [ 1.1002, -0.1904]],\n",
       "\n",
       "        [[ 0.0462,  0.5760],\n",
       "         [ 1.1002, -0.1904],\n",
       "         [ 1.4045, -0.2465]],\n",
       "\n",
       "        [[ 1.1002, -0.1904],\n",
       "         [ 1.4045, -0.2465],\n",
       "         [ 1.1002, -0.1904]],\n",
       "\n",
       "        [[ 0.0462,  0.5760],\n",
       "         [ 0.0462,  0.5760],\n",
       "         [ 0.0462,  0.5760]],\n",
       "\n",
       "        [[ 0.0462,  0.5760],\n",
       "         [ 0.0462,  0.5760],\n",
       "         [-0.5311, -0.4391]],\n",
       "\n",
       "        [[ 0.0462,  0.5760],\n",
       "         [-0.5311, -0.4391],\n",
       "         [-0.4042,  0.1254]],\n",
       "\n",
       "        [[-0.5311, -0.4391],\n",
       "         [-0.4042,  0.1254],\n",
       "         [ 1.1002, -0.1904]],\n",
       "\n",
       "        [[-0.4042,  0.1254],\n",
       "         [ 1.1002, -0.1904],\n",
       "         [ 1.0539,  1.2690]],\n",
       "\n",
       "        [[ 1.1002, -0.1904],\n",
       "         [ 1.0539,  1.2690],\n",
       "         [ 1.1143, -0.9153]],\n",
       "\n",
       "        [[ 1.0539,  1.2690],\n",
       "         [ 1.1143, -0.9153],\n",
       "         [-1.4511,  0.0666]],\n",
       "\n",
       "        [[ 1.1143, -0.9153],\n",
       "         [-1.4511,  0.0666],\n",
       "         [-1.4511,  0.0666]],\n",
       "\n",
       "        [[-1.4511,  0.0666],\n",
       "         [-1.4511,  0.0666],\n",
       "         [ 1.1002, -0.1904]],\n",
       "\n",
       "        [[ 0.0462,  0.5760],\n",
       "         [ 0.0462,  0.5760],\n",
       "         [ 0.0462,  0.5760]],\n",
       "\n",
       "        [[ 0.0462,  0.5760],\n",
       "         [ 0.0462,  0.5760],\n",
       "         [-0.4042,  0.1254]],\n",
       "\n",
       "        [[ 0.0462,  0.5760],\n",
       "         [-0.4042,  0.1254],\n",
       "         [-0.3499, -1.1790]],\n",
       "\n",
       "        [[-0.4042,  0.1254],\n",
       "         [-0.3499, -1.1790],\n",
       "         [-0.9801, -0.7090]],\n",
       "\n",
       "        [[-0.3499, -1.1790],\n",
       "         [-0.9801, -0.7090],\n",
       "         [-1.5577,  0.3799]],\n",
       "\n",
       "        [[-0.9801, -0.7090],\n",
       "         [-1.5577,  0.3799],\n",
       "         [-0.5311, -0.4391]],\n",
       "\n",
       "        [[-1.5577,  0.3799],\n",
       "         [-0.5311, -0.4391],\n",
       "         [ 1.1002, -0.1904]]])"
      ]
     },
     "execution_count": 26,
     "metadata": {},
     "output_type": "execute_result"
    }
   ],
   "source": [
    "# Importantly, we can also index with multi-dimensional tensor\n",
    "\n",
    "C[X]"
   ]
  },
  {
   "cell_type": "code",
   "execution_count": 28,
   "id": "1edc0df5",
   "metadata": {},
   "outputs": [
    {
     "data": {
      "text/plain": [
       "torch.Size([32, 3, 2])"
      ]
     },
     "execution_count": 28,
     "metadata": {},
     "output_type": "execute_result"
    }
   ],
   "source": [
    "C[X].shape\n",
    "\n",
    "# This way we can embed all integers in X into 2 dimensional embeddings"
   ]
  },
  {
   "cell_type": "code",
   "execution_count": 33,
   "id": "61600f99",
   "metadata": {},
   "outputs": [
    {
     "data": {
      "text/plain": [
       "tensor(1)"
      ]
     },
     "execution_count": 33,
     "metadata": {},
     "output_type": "execute_result"
    }
   ],
   "source": [
    "X[13,2]"
   ]
  },
  {
   "cell_type": "code",
   "execution_count": 30,
   "id": "438daad1",
   "metadata": {},
   "outputs": [
    {
     "data": {
      "text/plain": [
       "tensor([ 1.1002, -0.1904])"
      ]
     },
     "execution_count": 30,
     "metadata": {},
     "output_type": "execute_result"
    }
   ],
   "source": [
    "C[X][13,2]"
   ]
  },
  {
   "cell_type": "code",
   "execution_count": 31,
   "id": "8954b4e0",
   "metadata": {},
   "outputs": [
    {
     "data": {
      "text/plain": [
       "tensor([ 1.1002, -0.1904])"
      ]
     },
     "execution_count": 31,
     "metadata": {},
     "output_type": "execute_result"
    }
   ],
   "source": [
    "# above is same as\n",
    "C[1]"
   ]
  },
  {
   "cell_type": "code",
   "execution_count": 34,
   "id": "94aa1496",
   "metadata": {},
   "outputs": [
    {
     "data": {
      "text/plain": [
       "torch.Size([32, 3, 2])"
      ]
     },
     "execution_count": 34,
     "metadata": {},
     "output_type": "execute_result"
    }
   ],
   "source": [
    "emb = C[X]\n",
    "emb.shape"
   ]
  },
  {
   "cell_type": "code",
   "execution_count": 35,
   "id": "2e5e344a",
   "metadata": {},
   "outputs": [],
   "source": [
    "W1 = torch.randn((6,100)) #6 - 2-d embeddings for 3 ; 100 - number of neurons taken in 1st hidden layer\n",
    "b1 = torch.randn(100)"
   ]
  },
  {
   "cell_type": "code",
   "execution_count": 40,
   "id": "d946de8a",
   "metadata": {},
   "outputs": [],
   "source": [
    "# Now we would ideally want to do \"Wx + b\"\n",
    "\n",
    "# emb @ W1 + b1\n",
    "\n",
    "# But this would not directly work"
   ]
  },
  {
   "cell_type": "markdown",
   "id": "c836b229",
   "metadata": {},
   "source": [
    "- We need to transform the tensor **emb** into a form\n",
    "    - such that **matrix multiplication** can work with **W1**"
   ]
  },
  {
   "cell_type": "code",
   "execution_count": 42,
   "id": "eeeb1c7d",
   "metadata": {},
   "outputs": [
    {
     "data": {
      "text/plain": [
       "tensor([[True, True, True, True, True, True],\n",
       "        [True, True, True, True, True, True],\n",
       "        [True, True, True, True, True, True],\n",
       "        [True, True, True, True, True, True],\n",
       "        [True, True, True, True, True, True],\n",
       "        [True, True, True, True, True, True],\n",
       "        [True, True, True, True, True, True],\n",
       "        [True, True, True, True, True, True],\n",
       "        [True, True, True, True, True, True],\n",
       "        [True, True, True, True, True, True],\n",
       "        [True, True, True, True, True, True],\n",
       "        [True, True, True, True, True, True],\n",
       "        [True, True, True, True, True, True],\n",
       "        [True, True, True, True, True, True],\n",
       "        [True, True, True, True, True, True],\n",
       "        [True, True, True, True, True, True],\n",
       "        [True, True, True, True, True, True],\n",
       "        [True, True, True, True, True, True],\n",
       "        [True, True, True, True, True, True],\n",
       "        [True, True, True, True, True, True],\n",
       "        [True, True, True, True, True, True],\n",
       "        [True, True, True, True, True, True],\n",
       "        [True, True, True, True, True, True],\n",
       "        [True, True, True, True, True, True],\n",
       "        [True, True, True, True, True, True],\n",
       "        [True, True, True, True, True, True],\n",
       "        [True, True, True, True, True, True],\n",
       "        [True, True, True, True, True, True],\n",
       "        [True, True, True, True, True, True],\n",
       "        [True, True, True, True, True, True],\n",
       "        [True, True, True, True, True, True],\n",
       "        [True, True, True, True, True, True]])"
      ]
     },
     "execution_count": 42,
     "metadata": {},
     "output_type": "execute_result"
    }
   ],
   "source": [
    "# Two ways to do it are shown here:\n",
    "\n",
    "emb.view(32,6) == torch.cat(torch.unbind(emb, 1), 1)"
   ]
  },
  {
   "cell_type": "code",
   "execution_count": 44,
   "id": "1d41d133",
   "metadata": {},
   "outputs": [
    {
     "data": {
      "text/plain": [
       "(torch.Size([32, 6]), torch.Size([32, 6]))"
      ]
     },
     "execution_count": 44,
     "metadata": {},
     "output_type": "execute_result"
    }
   ],
   "source": [
    "emb.view(32,6).shape, torch.cat(torch.unbind(emb, 1), 1).shape"
   ]
  },
  {
   "cell_type": "code",
   "execution_count": 46,
   "id": "fa5800d8",
   "metadata": {},
   "outputs": [],
   "source": [
    "# Hence, we can do Wx + b as this\n",
    "\n",
    "# emb.view(32,6) @ W1 + b1\n",
    "#This has a problem that we are hard-coding first dimenssion"
   ]
  },
  {
   "cell_type": "code",
   "execution_count": 48,
   "id": "c021d6b7",
   "metadata": {},
   "outputs": [
    {
     "name": "stdout",
     "output_type": "stream",
     "text": [
      "torch.Size([32, 6])\n",
      "torch.Size([32, 6])\n"
     ]
    }
   ],
   "source": [
    "# Other ways to do the transformation are:\n",
    "\n",
    "print(emb.view(emb.shape[0], 6).shape)\n",
    "# or\n",
    "print(emb.view(-1, 6).shape) # This just calculates what must be the number of first dimension, given the second"
   ]
  },
  {
   "cell_type": "code",
   "execution_count": 51,
   "id": "82d728d1",
   "metadata": {},
   "outputs": [
    {
     "data": {
      "text/plain": [
       "torch.Size([32, 100])"
      ]
     },
     "execution_count": 51,
     "metadata": {},
     "output_type": "execute_result"
    }
   ],
   "source": [
    "# Therefore: we now calculate hidden layer activations\n",
    "\n",
    "h = torch.tanh(emb.view(-1, 6) @ W1 + b1)\n",
    "h.shape"
   ]
  },
  {
   "cell_type": "code",
   "execution_count": 50,
   "id": "7aabc12e",
   "metadata": {},
   "outputs": [
    {
     "data": {
      "text/plain": [
       "tensor([[-0.7979,  0.9663, -0.6629,  ..., -0.4421,  0.4280, -0.2430],\n",
       "        [-0.9910, -0.9892, -0.8089,  ...,  0.9648,  0.0535, -0.6373],\n",
       "        [ 0.9282,  0.4420, -0.1531,  ..., -0.7087,  0.0041,  0.9991],\n",
       "        ...,\n",
       "        [ 0.7473, -0.4259, -0.0105,  ...,  0.9512, -0.9927,  0.9660],\n",
       "        [-0.9771, -0.9630, -0.8933,  ...,  0.9997, -0.9995,  0.9859],\n",
       "        [-0.9997, -0.9730, -0.9361,  ...,  0.9996,  0.9196, -0.8704]])"
      ]
     },
     "execution_count": 50,
     "metadata": {},
     "output_type": "execute_result"
    }
   ],
   "source": [
    "h"
   ]
  },
  {
   "cell_type": "code",
   "execution_count": 52,
   "id": "a90898c1",
   "metadata": {},
   "outputs": [],
   "source": [
    "W2 = torch.randn((100,27))\n",
    "b2 = torch.randn(27)"
   ]
  },
  {
   "cell_type": "code",
   "execution_count": 54,
   "id": "fecbef77",
   "metadata": {},
   "outputs": [
    {
     "data": {
      "text/plain": [
       "torch.Size([32, 27])"
      ]
     },
     "execution_count": 54,
     "metadata": {},
     "output_type": "execute_result"
    }
   ],
   "source": [
    "logits = h @ W2 + b2\n",
    "logits.shape"
   ]
  },
  {
   "cell_type": "code",
   "execution_count": 55,
   "id": "c194f6bb",
   "metadata": {},
   "outputs": [
    {
     "data": {
      "text/plain": [
       "torch.Size([32, 27])"
      ]
     },
     "execution_count": 55,
     "metadata": {},
     "output_type": "execute_result"
    }
   ],
   "source": [
    "counts = logits.exp()\n",
    "counts.shape"
   ]
  },
  {
   "cell_type": "code",
   "execution_count": 56,
   "id": "66a77293",
   "metadata": {},
   "outputs": [
    {
     "data": {
      "text/plain": [
       "torch.Size([32, 1])"
      ]
     },
     "execution_count": 56,
     "metadata": {},
     "output_type": "execute_result"
    }
   ],
   "source": [
    "(counts.sum(1, keepdim=True)).shape"
   ]
  },
  {
   "cell_type": "code",
   "execution_count": 57,
   "id": "e81fa509",
   "metadata": {},
   "outputs": [
    {
     "data": {
      "text/plain": [
       "torch.Size([32, 27])"
      ]
     },
     "execution_count": 57,
     "metadata": {},
     "output_type": "execute_result"
    }
   ],
   "source": [
    "probs = counts / counts.sum(1, keepdim=True)\n",
    "probs.shape"
   ]
  },
  {
   "cell_type": "code",
   "execution_count": 58,
   "id": "187de4a9",
   "metadata": {},
   "outputs": [
    {
     "data": {
      "text/plain": [
       "tensor([ 5, 13, 13,  1,  0, 15, 12,  9, 22,  9,  1,  0,  1, 22,  1,  0,  9, 19,\n",
       "         1,  2,  5, 12, 12,  1,  0, 19, 15, 16,  8,  9,  1,  0])"
      ]
     },
     "execution_count": 58,
     "metadata": {},
     "output_type": "execute_result"
    }
   ],
   "source": [
    "Y"
   ]
  },
  {
   "cell_type": "code",
   "execution_count": 59,
   "id": "fe70d4c2",
   "metadata": {},
   "outputs": [
    {
     "data": {
      "text/plain": [
       "torch.Size([32])"
      ]
     },
     "execution_count": 59,
     "metadata": {},
     "output_type": "execute_result"
    }
   ],
   "source": [
    "Y.shape"
   ]
  },
  {
   "cell_type": "markdown",
   "id": "c522ef7d",
   "metadata": {},
   "source": [
    "### Now we,\n",
    "    - index into rows of probs\n",
    "        - and pluck out probabilities assigned to the correct character"
   ]
  },
  {
   "cell_type": "code",
   "execution_count": 62,
   "id": "bee834c7",
   "metadata": {},
   "outputs": [
    {
     "data": {
      "text/plain": [
       "tensor([3.4117e-09, 1.0071e-05, 1.7430e-04, 8.7363e-08, 9.7624e-12, 1.2563e-06,\n",
       "        9.2550e-03, 5.5457e-03, 8.3474e-01, 2.1267e-08, 3.8001e-04, 5.1306e-07,\n",
       "        4.3669e-06, 3.7449e-14, 4.5443e-05, 1.5580e-02, 1.6101e-09, 3.4126e-08,\n",
       "        8.9654e-04, 4.5376e-13, 6.2242e-10, 1.5743e-01, 2.6351e-11, 3.0559e-07,\n",
       "        7.2201e-11, 1.4816e-06, 3.9673e-07, 4.1669e-07, 4.8723e-07, 6.3202e-01,\n",
       "        4.9001e-05, 4.5692e-08])"
      ]
     },
     "execution_count": 62,
     "metadata": {},
     "output_type": "execute_result"
    }
   ],
   "source": [
    "probs[torch.arange(32), Y]"
   ]
  },
  {
   "cell_type": "code",
   "execution_count": 63,
   "id": "0b6d5c2d",
   "metadata": {},
   "outputs": [
    {
     "data": {
      "text/plain": [
       "tensor(-13.9268)"
      ]
     },
     "execution_count": 63,
     "metadata": {},
     "output_type": "execute_result"
    }
   ],
   "source": [
    "loss = probs[torch.arange(32), Y].log().mean()\n",
    "loss"
   ]
  },
  {
   "cell_type": "code",
   "execution_count": 64,
   "id": "da7621d7",
   "metadata": {},
   "outputs": [],
   "source": [
    "# --------------------- Doing all of above: TOGETHER --------------------------------"
   ]
  },
  {
   "cell_type": "code",
   "execution_count": 65,
   "id": "0a379c0b",
   "metadata": {},
   "outputs": [
    {
     "data": {
      "text/plain": [
       "(torch.Size([32, 3]), torch.Size([32]))"
      ]
     },
     "execution_count": 65,
     "metadata": {},
     "output_type": "execute_result"
    }
   ],
   "source": [
    "X.shape, Y.shape"
   ]
  },
  {
   "cell_type": "code",
   "execution_count": 66,
   "id": "f5b45080",
   "metadata": {},
   "outputs": [],
   "source": [
    "g = torch.Generator().manual_seed(2147483647)\n",
    "C = torch.randn((27,2), generator = g)\n",
    "W1 = torch.randn((6,100), generator = g)\n",
    "b1 = torch.randn(100, generator = g)\n",
    "W2 = torch.randn((100,27), generator = g)\n",
    "b2 = torch.randn(27, generator = g)\n",
    "parameters = [C, W1, b1, W2, b2]"
   ]
  },
  {
   "cell_type": "code",
   "execution_count": 67,
   "id": "48e2f6de",
   "metadata": {},
   "outputs": [
    {
     "data": {
      "text/plain": [
       "3481"
      ]
     },
     "execution_count": 67,
     "metadata": {},
     "output_type": "execute_result"
    }
   ],
   "source": [
    "# Total parameters in model\n",
    "sum(p.nelement() for p in parameters)"
   ]
  },
  {
   "cell_type": "code",
   "execution_count": 68,
   "id": "3ce6fbcb",
   "metadata": {},
   "outputs": [
    {
     "data": {
      "text/plain": [
       "tensor(-17.7697)"
      ]
     },
     "execution_count": 68,
     "metadata": {},
     "output_type": "execute_result"
    }
   ],
   "source": [
    "emb = C[X] # (32, 3, 2)\n",
    "h = torch.tanh(emb.view(-1, 6) @ W1 + b1) # (32, 100)\n",
    "logits = h @ W2 + b2 # (32, 27)\n",
    "counts = logits.exp()\n",
    "probs = counts / counts.sum(1, keepdim=True)\n",
    "loss = probs[torch.arange(32), Y].log().mean()\n",
    "loss"
   ]
  },
  {
   "cell_type": "code",
   "execution_count": null,
   "id": "4c782158",
   "metadata": {},
   "outputs": [],
   "source": []
  }
 ],
 "metadata": {
  "kernelspec": {
   "display_name": "Python 3 (ipykernel)",
   "language": "python",
   "name": "python3"
  },
  "language_info": {
   "codemirror_mode": {
    "name": "ipython",
    "version": 3
   },
   "file_extension": ".py",
   "mimetype": "text/x-python",
   "name": "python",
   "nbconvert_exporter": "python",
   "pygments_lexer": "ipython3",
   "version": "3.9.13"
  }
 },
 "nbformat": 4,
 "nbformat_minor": 5
}
