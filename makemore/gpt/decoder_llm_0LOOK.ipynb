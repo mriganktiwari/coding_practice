{
 "cells": [
  {
   "cell_type": "code",
   "execution_count": 21,
   "metadata": {},
   "outputs": [],
   "source": [
    "import torch\n",
    "import torch.nn as nn\n",
    "import torch.nn.functional as F\n",
    "import matplotlib.pyplot as plt\n",
    "%matplotlib inline"
   ]
  },
  {
   "cell_type": "code",
   "execution_count": 2,
   "metadata": {},
   "outputs": [
    {
     "name": "stdout",
     "output_type": "stream",
     "text": [
      "First Citizen:\n",
      "Before we proceed any further, hear me speak.\n",
      "\n",
      "All:\n",
      "Speak, speak.\n",
      "\n",
      "First Citizen:\n",
      "You are all resolved rather to die than to famish?\n",
      "\n",
      "All:\n",
      "Resolved. resolved.\n",
      "\n",
      "First Citizen:\n",
      "First, you\n"
     ]
    }
   ],
   "source": [
    "text = open(\"input.txt\", 'r').read()\n",
    "print(text[:200])"
   ]
  },
  {
   "cell_type": "code",
   "execution_count": 14,
   "metadata": {},
   "outputs": [
    {
     "name": "stdout",
     "output_type": "stream",
     "text": [
      "65 \n",
      " !$&',-.3:;?ABCDEFGHIJKLMNOPQRSTUVWXYZabcdefghijklmnopqrstuvwxyz\n"
     ]
    }
   ],
   "source": [
    "chars = sorted(list(set(text)))\n",
    "vocab_size = len(chars)\n",
    "print(vocab_size, ''.join(chars))"
   ]
  },
  {
   "cell_type": "code",
   "execution_count": 4,
   "metadata": {},
   "outputs": [
    {
     "name": "stdout",
     "output_type": "stream",
     "text": [
      "{0: '\\n', 1: ' ', 2: '!', 3: '$', 4: '&', 5: \"'\", 6: ',', 7: '-', 8: '.', 9: '3', 10: ':', 11: ';', 12: '?', 13: 'A', 14: 'B', 15: 'C', 16: 'D', 17: 'E', 18: 'F', 19: 'G', 20: 'H', 21: 'I', 22: 'J', 23: 'K', 24: 'L', 25: 'M', 26: 'N', 27: 'O', 28: 'P', 29: 'Q', 30: 'R', 31: 'S', 32: 'T', 33: 'U', 34: 'V', 35: 'W', 36: 'X', 37: 'Y', 38: 'Z', 39: 'a', 40: 'b', 41: 'c', 42: 'd', 43: 'e', 44: 'f', 45: 'g', 46: 'h', 47: 'i', 48: 'j', 49: 'k', 50: 'l', 51: 'm', 52: 'n', 53: 'o', 54: 'p', 55: 'q', 56: 'r', 57: 's', 58: 't', 59: 'u', 60: 'v', 61: 'w', 62: 'x', 63: 'y', 64: 'z'}\n"
     ]
    }
   ],
   "source": [
    "stoi = {ch:i for i,ch in enumerate(chars)}\n",
    "itos = {i:ch for i,ch in enumerate(chars)}\n",
    "print(itos)"
   ]
  },
  {
   "cell_type": "code",
   "execution_count": 5,
   "metadata": {},
   "outputs": [],
   "source": [
    "encode = lambda s: [stoi[ch] for ch in s] # take a string and output a list of integers\n",
    "decode = lambda l: ''.join([itos[i] for i in l])"
   ]
  },
  {
   "cell_type": "code",
   "execution_count": 6,
   "metadata": {},
   "outputs": [
    {
     "name": "stdout",
     "output_type": "stream",
     "text": [
      "[46, 47, 1, 58, 46, 43, 56, 43, 1, 2, 2]\n",
      "hi there !!\n"
     ]
    }
   ],
   "source": [
    "print(encode(\"hi there !!\"))\n",
    "print(decode(encode(\"hi there !!\")))"
   ]
  },
  {
   "cell_type": "code",
   "execution_count": 16,
   "metadata": {},
   "outputs": [
    {
     "data": {
      "text/plain": [
       "torch.int64"
      ]
     },
     "execution_count": 16,
     "metadata": {},
     "output_type": "execute_result"
    }
   ],
   "source": [
    "data = torch.tensor(encode(text), dtype=torch.long)\n",
    "data.dtype"
   ]
  },
  {
   "cell_type": "code",
   "execution_count": 17,
   "metadata": {},
   "outputs": [],
   "source": [
    "n = int(0.9 * len(data))\n",
    "train_data = data[:n]\n",
    "val_data = data[n:]"
   ]
  },
  {
   "cell_type": "code",
   "execution_count": 18,
   "metadata": {},
   "outputs": [
    {
     "data": {
      "text/plain": [
       "tensor([18, 47, 56, 57, 58,  1, 15, 47, 58])"
      ]
     },
     "execution_count": 18,
     "metadata": {},
     "output_type": "execute_result"
    }
   ],
   "source": [
    "block_size = 8\n",
    "train_data[:block_size+1]"
   ]
  },
  {
   "cell_type": "code",
   "execution_count": 19,
   "metadata": {},
   "outputs": [
    {
     "name": "stdout",
     "output_type": "stream",
     "text": [
      "when the input is tensor([18]): the target is 47\n",
      "when the input is tensor([18, 47]): the target is 56\n",
      "when the input is tensor([18, 47, 56]): the target is 57\n",
      "when the input is tensor([18, 47, 56, 57]): the target is 58\n",
      "when the input is tensor([18, 47, 56, 57, 58]): the target is 1\n",
      "when the input is tensor([18, 47, 56, 57, 58,  1]): the target is 15\n",
      "when the input is tensor([18, 47, 56, 57, 58,  1, 15]): the target is 47\n",
      "when the input is tensor([18, 47, 56, 57, 58,  1, 15, 47]): the target is 58\n"
     ]
    }
   ],
   "source": [
    "x = train_data[:block_size]\n",
    "y = train_data[1:block_size+1]\n",
    "for t in range(block_size):\n",
    "    context = x[:t+1]\n",
    "    target = y[t]\n",
    "    print(f\"when the input is {context}: the target is {target}\")"
   ]
  },
  {
   "cell_type": "code",
   "execution_count": 11,
   "metadata": {},
   "outputs": [],
   "source": [
    "# torch.randint(len(data)-block_size, (batch_size,))"
   ]
  },
  {
   "cell_type": "code",
   "execution_count": 20,
   "metadata": {},
   "outputs": [
    {
     "name": "stdout",
     "output_type": "stream",
     "text": [
      "inputs:\n",
      "torch.Size([4, 8])\n",
      "tensor([[24, 43, 58,  5, 57,  1, 46, 43],\n",
      "        [44, 53, 56,  1, 58, 46, 39, 58],\n",
      "        [52, 58,  1, 58, 46, 39, 58,  1],\n",
      "        [25, 17, 27, 10,  0, 21,  1, 54]])\n",
      "targets:\n",
      "torch.Size([4, 8])\n",
      "tensor([[43, 58,  5, 57,  1, 46, 43, 39],\n",
      "        [53, 56,  1, 58, 46, 39, 58,  1],\n",
      "        [58,  1, 58, 46, 39, 58,  1, 46],\n",
      "        [17, 27, 10,  0, 21,  1, 54, 39]])\n",
      "----------------\n",
      "when input is [24] ----- the target: 43\n",
      "when input is [24, 43] ----- the target: 58\n",
      "when input is [24, 43, 58] ----- the target: 5\n",
      "when input is [24, 43, 58, 5] ----- the target: 57\n",
      "when input is [24, 43, 58, 5, 57] ----- the target: 1\n",
      "when input is [24, 43, 58, 5, 57, 1] ----- the target: 46\n",
      "when input is [24, 43, 58, 5, 57, 1, 46] ----- the target: 43\n",
      "when input is [24, 43, 58, 5, 57, 1, 46, 43] ----- the target: 39\n",
      "when input is [44] ----- the target: 53\n",
      "when input is [44, 53] ----- the target: 56\n",
      "when input is [44, 53, 56] ----- the target: 1\n",
      "when input is [44, 53, 56, 1] ----- the target: 58\n",
      "when input is [44, 53, 56, 1, 58] ----- the target: 46\n",
      "when input is [44, 53, 56, 1, 58, 46] ----- the target: 39\n",
      "when input is [44, 53, 56, 1, 58, 46, 39] ----- the target: 58\n",
      "when input is [44, 53, 56, 1, 58, 46, 39, 58] ----- the target: 1\n",
      "when input is [52] ----- the target: 58\n",
      "when input is [52, 58] ----- the target: 1\n",
      "when input is [52, 58, 1] ----- the target: 58\n",
      "when input is [52, 58, 1, 58] ----- the target: 46\n",
      "when input is [52, 58, 1, 58, 46] ----- the target: 39\n",
      "when input is [52, 58, 1, 58, 46, 39] ----- the target: 58\n",
      "when input is [52, 58, 1, 58, 46, 39, 58] ----- the target: 1\n",
      "when input is [52, 58, 1, 58, 46, 39, 58, 1] ----- the target: 46\n",
      "when input is [25] ----- the target: 17\n",
      "when input is [25, 17] ----- the target: 27\n",
      "when input is [25, 17, 27] ----- the target: 10\n",
      "when input is [25, 17, 27, 10] ----- the target: 0\n",
      "when input is [25, 17, 27, 10, 0] ----- the target: 21\n",
      "when input is [25, 17, 27, 10, 0, 21] ----- the target: 1\n",
      "when input is [25, 17, 27, 10, 0, 21, 1] ----- the target: 54\n",
      "when input is [25, 17, 27, 10, 0, 21, 1, 54] ----- the target: 39\n"
     ]
    }
   ],
   "source": [
    "# generalizing it for a batch of data\n",
    "torch.manual_seed(1337)\n",
    "batch_size = 4\n",
    "block_size = 8\n",
    "\n",
    "def get_batch(split):\n",
    "    data = train_data if split == 'train' else val_data\n",
    "    ix = torch.randint(len(data)-block_size, (batch_size,))\n",
    "    # print([data[i:i+block_size] for i in ix])\n",
    "    x = torch.stack([data[i:i+block_size] for i in ix])\n",
    "    y = torch.stack([data[i+1:i+block_size+1] for i in ix])\n",
    "    return x,y\n",
    "\n",
    "xb,yb = get_batch(\"train\")\n",
    "print(\"inputs:\")\n",
    "print(xb.shape)\n",
    "print(xb)\n",
    "print(\"targets:\")\n",
    "print(yb.shape)\n",
    "print(yb)\n",
    "print(\"----------------\")\n",
    "\n",
    "for b in range(batch_size):\n",
    "    for t in range(block_size):\n",
    "        context = xb[b, :t+1] #batch_size, t\n",
    "        target = yb[b, t] #batch_size,1\n",
    "        print(f\"when input is {context.tolist()} ----- the target: {target}\")"
   ]
  },
  {
   "cell_type": "code",
   "execution_count": 25,
   "metadata": {},
   "outputs": [
    {
     "name": "stdout",
     "output_type": "stream",
     "text": [
      "torch.Size([32, 65]) tensor(4.5262, grad_fn=<NllLossBackward0>)\n"
     ]
    }
   ],
   "source": [
    "# define and evaluate the model:\n",
    "\n",
    "class BigramLanguageModel(nn.Module):\n",
    "    def __init__(self):\n",
    "        super().__init__()\n",
    "        self.token_embedding_table = nn.Embedding(vocab_size, vocab_size)\n",
    "    \n",
    "    def forward(self, idx, targets):\n",
    "        logits = self.token_embedding_table(idx) # (B,T,C=vocab_size)\n",
    "        \n",
    "        # loss = F.cross_entropy(logits, targets) # RuntimeError: Expected target size [4, 65], got [4, 8]\n",
    "        B,T,C = logits.shape\n",
    "        logits = logits.view(B*T, C)\n",
    "        targets = targets.view(B*T)\n",
    "        loss = F.cross_entropy(logits, targets)\n",
    "\n",
    "        return logits, loss\n",
    "    \n",
    "m = BigramLanguageModel()\n",
    "logits, loss = m(xb, yb)\n",
    "print(logits.shape, loss)"
   ]
  },
  {
   "cell_type": "code",
   "execution_count": 27,
   "metadata": {},
   "outputs": [
    {
     "data": {
      "text/plain": [
       "tensor(4.1744)"
      ]
     },
     "execution_count": 27,
     "metadata": {},
     "output_type": "execute_result"
    }
   ],
   "source": [
    "# expected initial loss is around ?\n",
    "-torch.log(torch.tensor(1/65))"
   ]
  },
  {
   "cell_type": "code",
   "execution_count": 31,
   "metadata": {},
   "outputs": [
    {
     "name": "stdout",
     "output_type": "stream",
     "text": [
      "torch.Size([32, 65]) tensor(4.7369, grad_fn=<NllLossBackward0>)\n",
      "\n",
      "U;FSmqMVd&\n",
      "csL:z&lhI$OLyS,oNTS,;!Us;yLZr'u?RytaluC,iKfYjG,l3jWHJy:hqM;caMmTJ,?zlukJ!Gk!LXG,tE k:$zmpf:R&ejQCgBSNhI::bBHMR'-YQzqk3ki;.eXGXAvrd&xp,Tw'UmYoht?zuheWHgjlq;3hDvsl$ezhL Zj-ZKUj$UURfMMpfbVJ,MV\n"
     ]
    }
   ],
   "source": [
    "# including generation from the model\n",
    "\n",
    "class BigramLanguageModel(nn.Module):\n",
    "    def __init__(self):\n",
    "        super().__init__()\n",
    "        self.token_embedding_table = nn.Embedding(vocab_size, vocab_size)\n",
    "    \n",
    "    def forward(self, idx, targets=None):\n",
    "        logits = self.token_embedding_table(idx) # (B,T,C=vocab_size)\n",
    "        if targets is None:\n",
    "            loss = None\n",
    "        else:         \n",
    "            # loss = F.cross_entropy(logits, targets) # RuntimeError: Expected target size [4, 65], got [4, 8]\n",
    "            B,T,C = logits.shape\n",
    "            logits = logits.view(B*T, C)\n",
    "            targets = targets.view(B*T)\n",
    "            loss = F.cross_entropy(logits, targets)\n",
    "        return logits, loss\n",
    "    \n",
    "    def generate(self, idx, max_new_tokens):\n",
    "        # idx is (B, T) array of indices in the current context\n",
    "        # job of generate is to extend it to (B,T+1), (B,T+2), (B,T+3) ... and so on; upto max_new_tokens\n",
    "        for _ in range(max_new_tokens):\n",
    "            logits, loss = self(idx)\n",
    "            logits = logits[:,-1,:] # (B,C); focussing only on the last time-step channels as it is BIGRAM lm.\n",
    "            probs = F.softmax(logits, dim=-1) # (B,C)\n",
    "            idx_next = torch.multinomial(probs, num_samples=1) # (B,1)\n",
    "            idx = torch.cat((idx,idx_next), dim=1) # (B,T+1)\n",
    "        return idx\n",
    "\n",
    "m = BigramLanguageModel()\n",
    "logits, loss = m(xb, yb)\n",
    "print(logits.shape, loss)\n",
    "\n",
    "# input for starting generation\n",
    "idx = torch.zeros((1,1), dtype=torch.long) # B=1,T=1, 0 - is to start with newline character\n",
    "print(decode(m.generate(idx, max_new_tokens=200)[0].tolist()))"
   ]
  },
  {
   "cell_type": "code",
   "execution_count": 34,
   "metadata": {},
   "outputs": [
    {
     "name": "stdout",
     "output_type": "stream",
     "text": [
      "2.533872365951538\n"
     ]
    }
   ],
   "source": [
    "# training the model\n",
    "\n",
    "optimizer = torch.optim.AdamW(m.parameters(), lr=1e-3)\n",
    "\n",
    "batch_size = 32\n",
    "for steps in range(10000):\n",
    "    xb,yb = get_batch(\"train\")\n",
    "    logits, loss = m(xb,yb)\n",
    "    optimizer.zero_grad(set_to_none=None)\n",
    "    loss.backward()\n",
    "    optimizer.step()\n",
    "\n",
    "print(loss.item())"
   ]
  },
  {
   "cell_type": "code",
   "execution_count": 36,
   "metadata": {},
   "outputs": [
    {
     "name": "stdout",
     "output_type": "stream",
     "text": [
      "\n",
      "ARTofter esthon m, in fegoino pad t\n",
      "\n",
      "Swn, Thathes toecimPulou o tof maindome m, nomo;\n",
      "Hathmeporbrderse t wind whrde fl w.\n",
      "hametespr, athen, henghead,\n",
      "by t,\n",
      "Floulivedig che ay tink'GA:\n",
      "\n",
      "\n",
      "MBEETo he w wede he ate s y wo u tho.\n",
      "Wern tou wethicke, gh he wis?\n",
      "\n",
      "\n",
      "Ge owony ctwhomyied shin d o ubusthy ne, Asehen boumpr t d ke e bee t hirm w mands so'sey sothoul mn n wofirw ho'ds ar?\n",
      "R: ls th, myon!\n",
      "WI Fr mby\n",
      "\n",
      "G;\n",
      "t the ermy yong\n",
      "ALUthe.\n",
      "Sove. noul y,\n",
      "HO:\n",
      "An nothyillly,\n",
      "Sind h myourt r itonf plin\n",
      "Thy al n, \n"
     ]
    }
   ],
   "source": [
    "idx = torch.zeros((1,1), dtype=torch.long) # B=1,T=1, 0 - is to start with newline character\n",
    "print(decode(m.generate(idx, max_new_tokens=500)[0].tolist()))"
   ]
  },
  {
   "cell_type": "code",
   "execution_count": null,
   "metadata": {},
   "outputs": [],
   "source": []
  }
 ],
 "metadata": {
  "kernelspec": {
   "display_name": "torch",
   "language": "python",
   "name": "python3"
  },
  "language_info": {
   "codemirror_mode": {
    "name": "ipython",
    "version": 3
   },
   "file_extension": ".py",
   "mimetype": "text/x-python",
   "name": "python",
   "nbconvert_exporter": "python",
   "pygments_lexer": "ipython3",
   "version": "3.10.10"
  },
  "orig_nbformat": 4
 },
 "nbformat": 4,
 "nbformat_minor": 2
}
