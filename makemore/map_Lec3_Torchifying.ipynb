{
 "cells": [
  {
   "cell_type": "code",
   "execution_count": 1,
   "id": "43089d5e",
   "metadata": {
    "scrolled": true
   },
   "outputs": [
    {
     "name": "stderr",
     "output_type": "stream",
     "text": [
      "/home/mrigank/miniconda3/envs/fast/lib/python3.9/site-packages/tqdm/auto.py:22: TqdmWarning: IProgress not found. Please update jupyter and ipywidgets. See https://ipywidgets.readthedocs.io/en/stable/user_install.html\n",
      "  from .autonotebook import tqdm as notebook_tqdm\n"
     ]
    }
   ],
   "source": [
    "import torch\n",
    "import torch.nn.functional as F\n",
    "import matplotlib.pyplot as plt\n",
    "%matplotlib inline"
   ]
  },
  {
   "cell_type": "code",
   "execution_count": 2,
   "id": "59a11570",
   "metadata": {},
   "outputs": [
    {
     "data": {
      "text/plain": [
       "['emma', 'olivia', 'ava', 'isabella', 'sophia']"
      ]
     },
     "execution_count": 2,
     "metadata": {},
     "output_type": "execute_result"
    }
   ],
   "source": [
    "words = open('names.txt', 'r').read().splitlines()\n",
    "words[:5]"
   ]
  },
  {
   "cell_type": "code",
   "execution_count": 3,
   "id": "5e59b0d6",
   "metadata": {},
   "outputs": [
    {
     "data": {
      "text/plain": [
       "32033"
      ]
     },
     "execution_count": 3,
     "metadata": {},
     "output_type": "execute_result"
    }
   ],
   "source": [
    "len(words)"
   ]
  },
  {
   "cell_type": "code",
   "execution_count": 4,
   "id": "6380da7f",
   "metadata": {},
   "outputs": [
    {
     "name": "stdout",
     "output_type": "stream",
     "text": [
      "{1: 'a', 2: 'b', 3: 'c', 4: 'd', 5: 'e', 6: 'f', 7: 'g', 8: 'h', 9: 'i', 10: 'j', 11: 'k', 12: 'l', 13: 'm', 14: 'n', 15: 'o', 16: 'p', 17: 'q', 18: 'r', 19: 's', 20: 't', 21: 'u', 22: 'v', 23: 'w', 24: 'x', 25: 'y', 26: 'z', 0: '.'}\n"
     ]
    }
   ],
   "source": [
    "# build vocab of characters & integers\n",
    "\n",
    "chars = sorted(list(set(''.join(words))))\n",
    "stoi = {s:i+1 for i,s in enumerate(chars)}\n",
    "stoi['.'] = 0\n",
    "itos = {i:s for s,i in stoi.items()}\n",
    "vocab_size = len(itos)\n",
    "print(itos)"
   ]
  },
  {
   "cell_type": "code",
   "execution_count": 5,
   "id": "a7730ccf",
   "metadata": {},
   "outputs": [
    {
     "name": "stdout",
     "output_type": "stream",
     "text": [
      "torch.Size([182625, 3]) torch.Size([182625])\n",
      "torch.Size([22655, 3]) torch.Size([22655])\n",
      "torch.Size([22866, 3]) torch.Size([22866])\n"
     ]
    }
   ],
   "source": [
    "# build the dataset\n",
    "\n",
    "block_size = 3 # context length: how many characters do we take to predict the next one?\n",
    "\n",
    "def build_dataset(words):\n",
    "    X, Y = [], []\n",
    "    for w in words:\n",
    "        context = [0] * block_size\n",
    "        for ch in w + '.':\n",
    "            ix = stoi[ch]\n",
    "            X.append(context)\n",
    "            Y.append(ix)\n",
    "\n",
    "            context = context[1:] + [ix]\n",
    "    X = torch.tensor(X)\n",
    "    Y = torch.tensor(Y)\n",
    "    print(X.shape, Y.shape)\n",
    "    return X, Y\n",
    "\n",
    "\n",
    "import random\n",
    "random.seed(42)\n",
    "random.shuffle(words)\n",
    "\n",
    "n1 = int(0.8 * len(words))\n",
    "n2 = int(0.9 * len(words))\n",
    "\n",
    "Xtr, Ytr = build_dataset(words[:n1])\n",
    "Xdev, Ydev = build_dataset(words[n1:n2])\n",
    "Xte, Yte = build_dataset(words[n2:])"
   ]
  },
  {
   "cell_type": "code",
   "execution_count": null,
   "id": "70babdab",
   "metadata": {},
   "outputs": [],
   "source": [
    "# @torch.no_grad() # this decorator disables gradient tracking\n",
    "# def split_loss(split):\n",
    "#     x,y = {\n",
    "#         'train': (Xtr, Ytr),\n",
    "#         'val': (Xdev, Ydev),\n",
    "#         'test': (Xte, Yte)\n",
    "#     }[split]\n",
    "    \n",
    "#     emb = C[x]\n",
    "#     embcat = emb.view(emb.shape[0], -1)\n",
    "#     # h = torch.tanh(embcat @ W1 + b1)\n",
    "#     hpreact = embcat @ W1 # + b1\n",
    "# #     hpreact = bngain * (hpreact - hpreact.mean(0, keepdim=True)) / hpreact.std(0, keepdim=True) + bnbias\n",
    "#     hpreact = bngain * (hpreact - bnmean_running) / bnstd_running + bnbias\n",
    "#     h = torch.tanh(hpreact) # (N, n_hidden)\n",
    "#     logits = h @ W2 + b2\n",
    "#     loss = F.cross_entropy(logits, y)\n",
    "#     print(split, loss.item())\n",
    "\n",
    "# split_loss('train')\n",
    "# split_loss('val')"
   ]
  },
  {
   "cell_type": "markdown",
   "id": "bce5907d",
   "metadata": {},
   "source": [
    "## ------------------ Summary + Torchifying ------------------------"
   ]
  },
  {
   "cell_type": "code",
   "execution_count": 26,
   "id": "6d28aab3",
   "metadata": {},
   "outputs": [],
   "source": [
    "# class Linear:\n",
    "  \n",
    "#     def __init__(self, fan_in, fan_out, bias=True):\n",
    "#         self.weight = torch.randn((fan_in, fan_out), generator=g) / fan_in**0.5\n",
    "#         self.bias = torch.zeros(fan_out) if bias else None\n",
    "\n",
    "#     def __call__(self, x):\n",
    "#         self.out = x @ self.weight\n",
    "#         if self.bias is not None:\n",
    "#           self.out += self.bias\n",
    "#         return self.out\n",
    "\n",
    "#     def parameters(self):\n",
    "#         return [self.weight] + ([] if self.bias is None else [self.bias])\n",
    "# class BatchNorm1d:\n",
    "  \n",
    "#     def __init__(self, dim, eps=1e-5, momentum=0.1):\n",
    "#         self.eps = eps\n",
    "#         self.momentum = momentum\n",
    "#         self.training = True\n",
    "#         # parameters (trained with backprop)\n",
    "#         self.gamma = torch.ones(dim)\n",
    "#         self.beta = torch.zeros(dim)\n",
    "#         # buffers (trained with a running 'momentum update')\n",
    "#         self.running_mean = torch.zeros(dim)\n",
    "#         self.running_var = torch.ones(dim)\n",
    "\n",
    "#     def __call__(self, x):\n",
    "#         # calculate the forward pass\n",
    "#         if self.training:\n",
    "#             xmean = x.mean(0, keepdim=True) # batch mean\n",
    "#             xvar = x.var(0, keepdim=True) # batch variance\n",
    "#         else:\n",
    "#             xmean = self.running_mean\n",
    "#             xvar = self.running_var\n",
    "#         xhat = (x - xmean) / torch.sqrt(xvar + self.eps) # normalize to unit variance\n",
    "#         self.out = self.gamma * xhat + self.beta\n",
    "#         # update the buffers\n",
    "#         if self.training:\n",
    "#             with torch.no_grad():\n",
    "#                 self.running_mean = (1 - self.momentum) * self.running_mean + self.momentum * xmean\n",
    "#                 self.running_var = (1 - self.momentum) * self.running_var + self.momentum * xvar\n",
    "#         return self.out\n",
    "\n",
    "#     def parameters(self):\n",
    "#         return [self.gamma, self.beta]\n",
    "\n",
    "\n",
    "# class Tanh:\n",
    "#     def __call__(self, x):\n",
    "#         self.out = torch.tanh(x)\n",
    "#         return self.out\n",
    "    \n",
    "#     def parameters(self):\n",
    "#         return []\n",
    "\n",
    "# n_embd = 10\n",
    "# n_hidden = 100\n",
    "\n",
    "# g = torch.Generator().manual_seed(2147483647)\n",
    "\n",
    "# C = torch.randn((vocab_size, n_embd), generator=g)\n",
    "# layers = [\n",
    "#     Linear(n_embd*block_size, n_hidden, bias=False), BatchNorm1d(n_hidden), Tanh(),\n",
    "#     Linear(         n_hidden, n_hidden, bias=False), BatchNorm1d(n_hidden), Tanh(),\n",
    "#     Linear(         n_hidden, n_hidden, bias=False), BatchNorm1d(n_hidden), Tanh(),\n",
    "#     Linear(         n_hidden, n_hidden, bias=False), BatchNorm1d(n_hidden), Tanh(),\n",
    "#     Linear(         n_hidden, n_hidden, bias=False), BatchNorm1d(n_hidden), Tanh(),\n",
    "#     Linear(         n_hidden, vocab_size, bias=False), BatchNorm1d(vocab_size),\n",
    "# ]\n",
    "\n",
    "# with torch.no_grad():\n",
    "#     # last layer: make less confident\n",
    "#     layers[-1].gamma *= 0.1\n",
    "    \n",
    "#     # all other layers apply gain\n",
    "#     for layer in layers[:-1]:\n",
    "#         if isinstance(layer, Linear):\n",
    "#             layer.weight *= 5 #5/3\n",
    "\n",
    "# parameters = [C] + [p for layer in layers for p in layer.parameters()]\n",
    "# print(sum(p.nelement() for p in parameters))\n",
    "\n",
    "# for p in parameters:\n",
    "#     p.requires_grad = True"
   ]
  },
  {
   "cell_type": "code",
   "execution_count": 43,
   "id": "6c998752",
   "metadata": {},
   "outputs": [
    {
     "name": "stdout",
     "output_type": "stream",
     "text": [
      "46497\n"
     ]
    }
   ],
   "source": [
    "# Let's train a deeper network\n",
    "# The classes we create here are the same API as nn.Module in PyTorch\n",
    "\n",
    "class Linear:\n",
    "  \n",
    "  def __init__(self, fan_in, fan_out, bias=True):\n",
    "    self.weight = torch.randn((fan_in, fan_out), generator=g) / fan_in**0.5\n",
    "    self.bias = torch.zeros(fan_out) if bias else None\n",
    "  \n",
    "  def __call__(self, x):\n",
    "    self.out = x @ self.weight\n",
    "    if self.bias is not None:\n",
    "      self.out += self.bias\n",
    "    return self.out\n",
    "  \n",
    "  def parameters(self):\n",
    "    return [self.weight] + ([] if self.bias is None else [self.bias])\n",
    "\n",
    "\n",
    "class BatchNorm1d:\n",
    "  \n",
    "  def __init__(self, dim, eps=1e-5, momentum=0.1):\n",
    "    self.eps = eps\n",
    "    self.momentum = momentum\n",
    "    self.training = True\n",
    "    # parameters (trained with backprop)\n",
    "    self.gamma = torch.ones(dim)\n",
    "    self.beta = torch.zeros(dim)\n",
    "    # buffers (trained with a running 'momentum update')\n",
    "    self.running_mean = torch.zeros(dim)\n",
    "    self.running_var = torch.ones(dim)\n",
    "  \n",
    "  def __call__(self, x):\n",
    "    # calculate the forward pass\n",
    "    if self.training:\n",
    "      xmean = x.mean(0, keepdim=True) # batch mean\n",
    "      xvar = x.var(0, keepdim=True) # batch variance\n",
    "    else:\n",
    "      xmean = self.running_mean\n",
    "      xvar = self.running_var\n",
    "    xhat = (x - xmean) / torch.sqrt(xvar + self.eps) # normalize to unit variance\n",
    "    self.out = self.gamma * xhat + self.beta\n",
    "    # update the buffers\n",
    "    if self.training:\n",
    "      with torch.no_grad():\n",
    "        self.running_mean = (1 - self.momentum) * self.running_mean + self.momentum * xmean\n",
    "        self.running_var = (1 - self.momentum) * self.running_var + self.momentum * xvar\n",
    "    return self.out\n",
    "  \n",
    "  def parameters(self):\n",
    "    return [self.gamma, self.beta]\n",
    "\n",
    "class Tanh:\n",
    "  def __call__(self, x):\n",
    "    self.out = torch.tanh(x)\n",
    "    return self.out\n",
    "  def parameters(self):\n",
    "    return []\n",
    "\n",
    "n_embd = 10 # the dimensionality of the character embedding vectors\n",
    "n_hidden = 100 # the number of neurons in the hidden layer of the MLP\n",
    "g = torch.Generator().manual_seed(2147483647) # for reproducibility\n",
    "\n",
    "C = torch.randn((vocab_size, n_embd),            generator=g)\n",
    "# layers = [\n",
    "#   Linear(n_embd * block_size, n_hidden, bias=False), BatchNorm1d(n_hidden), Tanh(),\n",
    "#   Linear(           n_hidden, n_hidden, bias=False), BatchNorm1d(n_hidden), Tanh(),\n",
    "#   Linear(           n_hidden, n_hidden, bias=False), BatchNorm1d(n_hidden), Tanh(),\n",
    "#   Linear(           n_hidden, n_hidden, bias=False), BatchNorm1d(n_hidden), Tanh(),\n",
    "#   Linear(           n_hidden, n_hidden, bias=False), BatchNorm1d(n_hidden), Tanh(),\n",
    "#   Linear(           n_hidden, vocab_size, bias=False), BatchNorm1d(vocab_size),\n",
    "# ]\n",
    "layers = [\n",
    "  Linear(n_embd * block_size, n_hidden), Tanh(),\n",
    "  Linear(           n_hidden, n_hidden), Tanh(),\n",
    "  Linear(           n_hidden, n_hidden), Tanh(),\n",
    "  Linear(           n_hidden, n_hidden), Tanh(),\n",
    "  Linear(           n_hidden, n_hidden), Tanh(),\n",
    "  Linear(           n_hidden, vocab_size),\n",
    "]\n",
    "\n",
    "with torch.no_grad():\n",
    "  # last layer: make less confident\n",
    "# layers[-1].gamma *= 0.1\n",
    "  layers[-1].weight *= 0.1\n",
    "  # all other layers: apply gain\n",
    "  for layer in layers[:-1]:\n",
    "    if isinstance(layer, Linear):\n",
    "      layer.weight *= 5/3\n",
    "\n",
    "parameters = [C] + [p for layer in layers for p in layer.parameters()]\n",
    "print(sum(p.nelement() for p in parameters)) # number of parameters in total\n",
    "for p in parameters:\n",
    "  p.requires_grad = True"
   ]
  },
  {
   "cell_type": "code",
   "execution_count": 44,
   "id": "fe554f0f",
   "metadata": {},
   "outputs": [
    {
     "name": "stdout",
     "output_type": "stream",
     "text": [
      "      0/ 200000: 3.2962\n"
     ]
    }
   ],
   "source": [
    "batch_size = 32\n",
    "max_steps = 200000\n",
    "lossi = []\n",
    "\n",
    "for i in range(max_steps):\n",
    "    \n",
    "    # minibatch construct\n",
    "    ix = torch.randint(0, Xtr.shape[0], (batch_size,), generator=g)\n",
    "    Xb, Yb = Xtr[ix], Ytr[ix]\n",
    "    \n",
    "    \n",
    "    # forward pass\n",
    "    emb = C[Xb]\n",
    "    x = emb.view(emb.shape[0], -1)\n",
    "    for layer in layers:\n",
    "        x = layer(x)\n",
    "    loss = F.cross_entropy(x, Yb)\n",
    "    \n",
    "    \n",
    "    # backward pass\n",
    "    for layer in layers:\n",
    "        layer.out.retain_grad()\n",
    "    for p in parameters:\n",
    "        p.grad = None\n",
    "    loss.backward()\n",
    "    \n",
    "    # update\n",
    "    lr = 0.1 if i < 100000 else 0.01\n",
    "    for p in parameters:\n",
    "        p.data += -lr * p.grad\n",
    "    \n",
    "    # track stats\n",
    "    if i % 10000 == 0:\n",
    "        print(f'{i:7d}/{max_steps:7d}: {loss.item():.4f}')\n",
    "    lossi.append(loss.log10().item())\n",
    "    \n",
    "    break"
   ]
  },
  {
   "cell_type": "markdown",
   "id": "5c44fb8f",
   "metadata": {},
   "source": [
    "## Diagnostic tools"
   ]
  },
  {
   "cell_type": "code",
   "execution_count": 45,
   "id": "0086647f",
   "metadata": {},
   "outputs": [
    {
     "name": "stdout",
     "output_type": "stream",
     "text": [
      "layer 1 (      Tanh): mean -0.02, std 0.75, saturated: 20.25%\n",
      "layer 3 (      Tanh): mean -0.00, std 0.69, saturated: 8.38%\n",
      "layer 5 (      Tanh): mean +0.00, std 0.67, saturated: 6.62%\n",
      "layer 7 (      Tanh): mean -0.01, std 0.66, saturated: 5.47%\n",
      "layer 9 (      Tanh): mean -0.02, std 0.66, saturated: 6.12%\n"
     ]
    },
    {
     "data": {
      "text/plain": [
       "Text(0.5, 1.0, 'activation distribution')"
      ]
     },
     "execution_count": 45,
     "metadata": {},
     "output_type": "execute_result"
    },
    {
     "data": {
      "image/png": "[encoded data removed]",
      "text/plain": [
       "<Figure size 1440x288 with 1 Axes>"
      ]
     },
     "metadata": {
      "needs_background": "light"
     },
     "output_type": "display_data"
    }
   ],
   "source": [
    "# Visualizing activations of forward pass (Tanh layers)\n",
    "\n",
    "plt.figure(figsize=(20,4)) # width & height of the plot\n",
    "legends = []\n",
    "\n",
    "for i, layer in enumerate(layers[:-1]): # exclude last layer\n",
    "    if isinstance(layer, Tanh):\n",
    "        t = layer.out\n",
    "        print('layer %d (%10s): mean %+.2f, std %.2f, saturated: %.2f%%' % (i, layer.__class__.__name__, t.mean(), t.std(), (t.abs() > 0.97).float().mean()*100))\n",
    "        hy, hx = torch.histogram(t, density=True)\n",
    "        plt.plot(hx[:-1].detach(), hy.detach())\n",
    "        legends.append(f'layer {i} ({layer.__class__.__name__}')\n",
    "plt.legend(legends);\n",
    "plt.title('activation distribution')"
   ]
  },
  {
   "cell_type": "code",
   "execution_count": null,
   "id": "cb17a210",
   "metadata": {},
   "outputs": [],
   "source": []
  }
 ],
 "metadata": {
  "kernelspec": {
   "display_name": "Python 3 (ipykernel)",
   "language": "python",
   "name": "python3"
  },
  "language_info": {
   "codemirror_mode": {
    "name": "ipython",
    "version": 3
   },
   "file_extension": ".py",
   "mimetype": "text/x-python",
   "name": "python",
   "nbconvert_exporter": "python",
   "pygments_lexer": "ipython3",
   "version": "3.9.13"
  }
 },
 "nbformat": 4,
 "nbformat_minor": 5
}
