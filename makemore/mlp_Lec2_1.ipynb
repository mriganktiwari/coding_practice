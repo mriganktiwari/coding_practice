{
 "cells": [
  {
   "cell_type": "code",
   "execution_count": 1,
   "id": "757dc797",
   "metadata": {},
   "outputs": [
    {
     "name": "stderr",
     "output_type": "stream",
     "text": [
      "/home/mrigank/miniconda3/envs/fast/lib/python3.9/site-packages/tqdm/auto.py:22: TqdmWarning: IProgress not found. Please update jupyter and ipywidgets. See https://ipywidgets.readthedocs.io/en/stable/user_install.html\n",
      "  from .autonotebook import tqdm as notebook_tqdm\n"
     ]
    }
   ],
   "source": [
    "import torch\n",
    "import torch.nn.functional as F\n",
    "import matplotlib.pyplot as plt\n",
    "%matplotlib inline"
   ]
  },
  {
   "cell_type": "code",
   "execution_count": 2,
   "id": "aad18613",
   "metadata": {},
   "outputs": [
    {
     "data": {
      "text/plain": [
       "['emma', 'olivia', 'ava', 'isabella', 'sophia', 'charlotte', 'mia', 'amelia']"
      ]
     },
     "execution_count": 2,
     "metadata": {},
     "output_type": "execute_result"
    }
   ],
   "source": [
    "# read in all the words\n",
    "words = open('names.txt', 'r').read().splitlines()\n",
    "words[:8]"
   ]
  },
  {
   "cell_type": "code",
   "execution_count": 3,
   "id": "d955d6bf",
   "metadata": {},
   "outputs": [
    {
     "data": {
      "text/plain": [
       "32033"
      ]
     },
     "execution_count": 3,
     "metadata": {},
     "output_type": "execute_result"
    }
   ],
   "source": [
    "len(words)"
   ]
  },
  {
   "cell_type": "code",
   "execution_count": 4,
   "id": "4959f699",
   "metadata": {},
   "outputs": [
    {
     "name": "stdout",
     "output_type": "stream",
     "text": [
      "{1: 'a', 2: 'b', 3: 'c', 4: 'd', 5: 'e', 6: 'f', 7: 'g', 8: 'h', 9: 'i', 10: 'j', 11: 'k', 12: 'l', 13: 'm', 14: 'n', 15: 'o', 16: 'p', 17: 'q', 18: 'r', 19: 's', 20: 't', 21: 'u', 22: 'v', 23: 'w', 24: 'x', 25: 'y', 26: 'z', 0: '.'}\n"
     ]
    }
   ],
   "source": [
    "chars = sorted(list(set(''.join(words))))\n",
    "\n",
    "stoi = {s:i+1 for i,s in enumerate(chars)}\n",
    "stoi['.'] = 0\n",
    "\n",
    "itos = {i:s for s,i in stoi.items()}\n",
    "print(itos)"
   ]
  },
  {
   "cell_type": "code",
   "execution_count": 5,
   "id": "61f6ba60",
   "metadata": {},
   "outputs": [
    {
     "name": "stdout",
     "output_type": "stream",
     "text": [
      "emma\n",
      "... -----> e\n",
      "..e -----> m\n",
      ".em -----> m\n",
      "emm -----> a\n",
      "mma -----> .\n",
      "olivia\n",
      "... -----> o\n",
      "..o -----> l\n",
      ".ol -----> i\n",
      "oli -----> v\n",
      "liv -----> i\n",
      "ivi -----> a\n",
      "via -----> .\n",
      "ava\n",
      "... -----> a\n",
      "..a -----> v\n",
      ".av -----> a\n",
      "ava -----> .\n",
      "isabella\n",
      "... -----> i\n",
      "..i -----> s\n",
      ".is -----> a\n",
      "isa -----> b\n",
      "sab -----> e\n",
      "abe -----> l\n",
      "bel -----> l\n",
      "ell -----> a\n",
      "lla -----> .\n",
      "sophia\n",
      "... -----> s\n",
      "..s -----> o\n",
      ".so -----> p\n",
      "sop -----> h\n",
      "oph -----> i\n",
      "phi -----> a\n",
      "hia -----> .\n"
     ]
    }
   ],
   "source": [
    "# build the dataset\n",
    "\n",
    "block_size = 3 # context length: how many characters do we take to predict teh next one\n",
    "X, Y = [], []\n",
    "for w in words[:5]:\n",
    "    \n",
    "    print(w)\n",
    "    context = [0] * block_size # padding with .'s of block_size count\n",
    "    for ch in w + '.':\n",
    "        ix = stoi[ch]\n",
    "        X.append(context)\n",
    "        Y.append(ix)\n",
    "        print(''.join(itos[i] for i in context), '----->', itos[ix])\n",
    "        context = context[1:] + [ix] # crop & append\n",
    "\n",
    "X = torch.tensor(X)\n",
    "Y = torch.tensor(Y)"
   ]
  },
  {
   "cell_type": "code",
   "execution_count": 6,
   "id": "a05cbf1d",
   "metadata": {},
   "outputs": [
    {
     "data": {
      "text/plain": [
       "(torch.Size([32, 3]), torch.int64, torch.Size([32]), torch.int64)"
      ]
     },
     "execution_count": 6,
     "metadata": {},
     "output_type": "execute_result"
    }
   ],
   "source": [
    "X.shape, X.dtype, Y.shape, Y.dtype"
   ]
  },
  {
   "cell_type": "code",
   "execution_count": 7,
   "id": "8d348d4f",
   "metadata": {},
   "outputs": [
    {
     "data": {
      "text/plain": [
       "tensor([[ 0,  0,  0],\n",
       "        [ 0,  0,  5],\n",
       "        [ 0,  5, 13],\n",
       "        [ 5, 13, 13],\n",
       "        [13, 13,  1],\n",
       "        [ 0,  0,  0],\n",
       "        [ 0,  0, 15],\n",
       "        [ 0, 15, 12],\n",
       "        [15, 12,  9],\n",
       "        [12,  9, 22],\n",
       "        [ 9, 22,  9],\n",
       "        [22,  9,  1],\n",
       "        [ 0,  0,  0],\n",
       "        [ 0,  0,  1],\n",
       "        [ 0,  1, 22],\n",
       "        [ 1, 22,  1],\n",
       "        [ 0,  0,  0],\n",
       "        [ 0,  0,  9],\n",
       "        [ 0,  9, 19],\n",
       "        [ 9, 19,  1],\n",
       "        [19,  1,  2],\n",
       "        [ 1,  2,  5],\n",
       "        [ 2,  5, 12],\n",
       "        [ 5, 12, 12],\n",
       "        [12, 12,  1],\n",
       "        [ 0,  0,  0],\n",
       "        [ 0,  0, 19],\n",
       "        [ 0, 19, 15],\n",
       "        [19, 15, 16],\n",
       "        [15, 16,  8],\n",
       "        [16,  8,  9],\n",
       "        [ 8,  9,  1]])"
      ]
     },
     "execution_count": 7,
     "metadata": {},
     "output_type": "execute_result"
    }
   ],
   "source": [
    "X"
   ]
  },
  {
   "cell_type": "code",
   "execution_count": 8,
   "id": "245fe3e4",
   "metadata": {},
   "outputs": [
    {
     "data": {
      "text/plain": [
       "tensor([ 5, 13, 13,  1,  0, 15, 12,  9, 22,  9,  1,  0,  1, 22,  1,  0,  9, 19,\n",
       "         1,  2,  5, 12, 12,  1,  0, 19, 15, 16,  8,  9,  1,  0])"
      ]
     },
     "execution_count": 8,
     "metadata": {},
     "output_type": "execute_result"
    }
   ],
   "source": [
    "Y"
   ]
  },
  {
   "cell_type": "code",
   "execution_count": 9,
   "id": "7b0072c9",
   "metadata": {},
   "outputs": [
    {
     "data": {
      "text/plain": [
       "(torch.Size([32, 3]), torch.Size([32]))"
      ]
     },
     "execution_count": 9,
     "metadata": {},
     "output_type": "execute_result"
    }
   ],
   "source": [
    "X.shape, Y.shape"
   ]
  },
  {
   "cell_type": "code",
   "execution_count": 10,
   "id": "4b9214d4",
   "metadata": {},
   "outputs": [],
   "source": [
    "# Let's try to map 27 characters into a 2 dimensional space\n",
    "\n",
    "C = torch.randn((27,2))"
   ]
  },
  {
   "cell_type": "markdown",
   "id": "17ac173c",
   "metadata": {},
   "source": [
    "#### Before trying to embed all integers in \"X\", let's try embedding a single integer, say - 5"
   ]
  },
  {
   "cell_type": "code",
   "execution_count": 11,
   "id": "494cb0ac",
   "metadata": {},
   "outputs": [
    {
     "data": {
      "text/plain": [
       "tensor([-0.8644,  0.1158])"
      ]
     },
     "execution_count": 11,
     "metadata": {},
     "output_type": "execute_result"
    }
   ],
   "source": [
    "# One way could be just index into 5th row of C\n",
    "C[5]"
   ]
  },
  {
   "cell_type": "code",
   "execution_count": 12,
   "id": "a0d5dd15",
   "metadata": {},
   "outputs": [
    {
     "data": {
      "text/plain": [
       "tensor([-0.8644,  0.1158])"
      ]
     },
     "execution_count": 12,
     "metadata": {},
     "output_type": "execute_result"
    }
   ],
   "source": [
    "# Other way could be doing \n",
    "# \"dot\" multiplication of One-Hot vector of 5 (made with 27 classes)\n",
    "# with C\n",
    "\n",
    "F.one_hot(torch.tensor(5), num_classes=27).float() @ C\n",
    "\n",
    "# This gives exact same thing as above"
   ]
  },
  {
   "cell_type": "markdown",
   "id": "ef943b3a",
   "metadata": {},
   "source": [
    "### Above - there are 2 things to be learnt\n",
    "1. When direct indexing into matrix C\n",
    "    - It can be seen as the embedding matrix of characters\n",
    "    - Those embeddings of corresponding chars can be fed into the first layer of the network\n",
    "2. Instead, we can take **One-Hot** repr of characters:\n",
    "    - Matrix multiply them to C, which can be thought of as weights of first layer (also called embed layer)\n",
    "    - The result of this would be identical to the approach 1.\n",
    "\n",
    "### We're going to just use the 1st approach, index into the C to get embeddings"
   ]
  },
  {
   "cell_type": "code",
   "execution_count": 13,
   "id": "9f6ae7fe",
   "metadata": {},
   "outputs": [
    {
     "data": {
      "text/plain": [
       "tensor([[-0.8644,  0.1158],\n",
       "        [-1.7914,  1.0711],\n",
       "        [ 0.5970, -0.3702]])"
      ]
     },
     "execution_count": 13,
     "metadata": {},
     "output_type": "execute_result"
    }
   ],
   "source": [
    "# It is not straight forward to index simultaneoudly for (32,3) matrix of integers from C\n",
    "# We have to use pytorch indexing \n",
    "\n",
    "# We can index using list\n",
    "\n",
    "C[[5,6,7]]"
   ]
  },
  {
   "cell_type": "code",
   "execution_count": 14,
   "id": "acc88929",
   "metadata": {},
   "outputs": [
    {
     "data": {
      "text/plain": [
       "tensor([[-0.8644,  0.1158],\n",
       "        [-1.7914,  1.0711],\n",
       "        [ 0.5970, -0.3702]])"
      ]
     },
     "execution_count": 14,
     "metadata": {},
     "output_type": "execute_result"
    }
   ],
   "source": [
    "# PyTorch indexing also works with tensor\n",
    "\n",
    "C[torch.tensor([5,6,7])]"
   ]
  },
  {
   "cell_type": "code",
   "execution_count": 15,
   "id": "5082ff3a",
   "metadata": {},
   "outputs": [
    {
     "data": {
      "text/plain": [
       "tensor([[-0.8644,  0.1158],\n",
       "        [-1.7914,  1.0711],\n",
       "        [ 0.5970, -0.3702],\n",
       "        [ 0.5970, -0.3702],\n",
       "        [ 0.5970, -0.3702]])"
      ]
     },
     "execution_count": 15,
     "metadata": {},
     "output_type": "execute_result"
    }
   ],
   "source": [
    "# WE can also repeat a row multiple times\n",
    "\n",
    "C[torch.tensor([5,6,7,7,7])]"
   ]
  },
  {
   "cell_type": "code",
   "execution_count": 16,
   "id": "86f86445",
   "metadata": {},
   "outputs": [],
   "source": [
    "# Importantly, we can also index with multi-dimensional tensor\n",
    "\n",
    "# C[X]"
   ]
  },
  {
   "cell_type": "code",
   "execution_count": 17,
   "id": "1edc0df5",
   "metadata": {},
   "outputs": [
    {
     "data": {
      "text/plain": [
       "torch.Size([32, 3, 2])"
      ]
     },
     "execution_count": 17,
     "metadata": {},
     "output_type": "execute_result"
    }
   ],
   "source": [
    "C[X].shape\n",
    "\n",
    "# This way we can embed all integers in X into 2 dimensional embeddings"
   ]
  },
  {
   "cell_type": "code",
   "execution_count": 18,
   "id": "61600f99",
   "metadata": {},
   "outputs": [
    {
     "data": {
      "text/plain": [
       "tensor(1)"
      ]
     },
     "execution_count": 18,
     "metadata": {},
     "output_type": "execute_result"
    }
   ],
   "source": [
    "X[13,2]"
   ]
  },
  {
   "cell_type": "code",
   "execution_count": 19,
   "id": "438daad1",
   "metadata": {},
   "outputs": [
    {
     "data": {
      "text/plain": [
       "tensor([-1.8448, -0.3257])"
      ]
     },
     "execution_count": 19,
     "metadata": {},
     "output_type": "execute_result"
    }
   ],
   "source": [
    "C[X][13,2]"
   ]
  },
  {
   "cell_type": "code",
   "execution_count": 20,
   "id": "8954b4e0",
   "metadata": {},
   "outputs": [
    {
     "data": {
      "text/plain": [
       "tensor([-1.8448, -0.3257])"
      ]
     },
     "execution_count": 20,
     "metadata": {},
     "output_type": "execute_result"
    }
   ],
   "source": [
    "# above is same as\n",
    "C[1]"
   ]
  },
  {
   "cell_type": "code",
   "execution_count": 21,
   "id": "94aa1496",
   "metadata": {},
   "outputs": [
    {
     "data": {
      "text/plain": [
       "torch.Size([32, 3, 2])"
      ]
     },
     "execution_count": 21,
     "metadata": {},
     "output_type": "execute_result"
    }
   ],
   "source": [
    "emb = C[X]\n",
    "emb.shape"
   ]
  },
  {
   "cell_type": "code",
   "execution_count": 22,
   "id": "2e5e344a",
   "metadata": {},
   "outputs": [],
   "source": [
    "W1 = torch.randn((6,100)) #6 - 2-d embeddings for 3 ; 100 - number of neurons taken in 1st hidden layer\n",
    "b1 = torch.randn(100)"
   ]
  },
  {
   "cell_type": "code",
   "execution_count": 23,
   "id": "d946de8a",
   "metadata": {},
   "outputs": [],
   "source": [
    "# Now we would ideally want to do \"Wx + b\"\n",
    "\n",
    "# emb @ W1 + b1\n",
    "\n",
    "# But this would not directly work"
   ]
  },
  {
   "cell_type": "markdown",
   "id": "c836b229",
   "metadata": {},
   "source": [
    "- We need to transform the tensor **emb** into a form\n",
    "    - such that **matrix multiplication** can work with **W1**"
   ]
  },
  {
   "cell_type": "code",
   "execution_count": 24,
   "id": "eeeb1c7d",
   "metadata": {},
   "outputs": [
    {
     "data": {
      "text/plain": [
       "tensor([[True, True, True, True, True, True],\n",
       "        [True, True, True, True, True, True],\n",
       "        [True, True, True, True, True, True],\n",
       "        [True, True, True, True, True, True],\n",
       "        [True, True, True, True, True, True],\n",
       "        [True, True, True, True, True, True],\n",
       "        [True, True, True, True, True, True],\n",
       "        [True, True, True, True, True, True],\n",
       "        [True, True, True, True, True, True],\n",
       "        [True, True, True, True, True, True],\n",
       "        [True, True, True, True, True, True],\n",
       "        [True, True, True, True, True, True],\n",
       "        [True, True, True, True, True, True],\n",
       "        [True, True, True, True, True, True],\n",
       "        [True, True, True, True, True, True],\n",
       "        [True, True, True, True, True, True],\n",
       "        [True, True, True, True, True, True],\n",
       "        [True, True, True, True, True, True],\n",
       "        [True, True, True, True, True, True],\n",
       "        [True, True, True, True, True, True],\n",
       "        [True, True, True, True, True, True],\n",
       "        [True, True, True, True, True, True],\n",
       "        [True, True, True, True, True, True],\n",
       "        [True, True, True, True, True, True],\n",
       "        [True, True, True, True, True, True],\n",
       "        [True, True, True, True, True, True],\n",
       "        [True, True, True, True, True, True],\n",
       "        [True, True, True, True, True, True],\n",
       "        [True, True, True, True, True, True],\n",
       "        [True, True, True, True, True, True],\n",
       "        [True, True, True, True, True, True],\n",
       "        [True, True, True, True, True, True]])"
      ]
     },
     "execution_count": 24,
     "metadata": {},
     "output_type": "execute_result"
    }
   ],
   "source": [
    "# Two ways to do it are shown here:\n",
    "\n",
    "emb.view(32,6) == torch.cat(torch.unbind(emb, 1), 1)"
   ]
  },
  {
   "cell_type": "code",
   "execution_count": 25,
   "id": "1d41d133",
   "metadata": {},
   "outputs": [
    {
     "data": {
      "text/plain": [
       "(torch.Size([32, 6]), torch.Size([32, 6]))"
      ]
     },
     "execution_count": 25,
     "metadata": {},
     "output_type": "execute_result"
    }
   ],
   "source": [
    "emb.view(32,6).shape, torch.cat(torch.unbind(emb, 1), 1).shape"
   ]
  },
  {
   "cell_type": "code",
   "execution_count": 26,
   "id": "fa5800d8",
   "metadata": {},
   "outputs": [],
   "source": [
    "# Hence, we can do Wx + b as this\n",
    "\n",
    "# emb.view(32,6) @ W1 + b1\n",
    "#This has a problem that we are hard-coding first dimenssion"
   ]
  },
  {
   "cell_type": "code",
   "execution_count": 27,
   "id": "c021d6b7",
   "metadata": {},
   "outputs": [
    {
     "name": "stdout",
     "output_type": "stream",
     "text": [
      "torch.Size([32, 6])\n",
      "torch.Size([32, 6])\n"
     ]
    }
   ],
   "source": [
    "# Other ways to do the transformation are:\n",
    "\n",
    "print(emb.view(emb.shape[0], 6).shape)\n",
    "# or\n",
    "print(emb.view(-1, 6).shape) # This just calculates what must be the number of first dimension, given the second"
   ]
  },
  {
   "cell_type": "code",
   "execution_count": 28,
   "id": "82d728d1",
   "metadata": {},
   "outputs": [
    {
     "data": {
      "text/plain": [
       "torch.Size([32, 100])"
      ]
     },
     "execution_count": 28,
     "metadata": {},
     "output_type": "execute_result"
    }
   ],
   "source": [
    "# Therefore: we now calculate hidden layer activations\n",
    "\n",
    "h = torch.tanh(emb.view(-1, 6) @ W1 + b1)\n",
    "h.shape"
   ]
  },
  {
   "cell_type": "code",
   "execution_count": 29,
   "id": "7aabc12e",
   "metadata": {},
   "outputs": [
    {
     "data": {
      "text/plain": [
       "tensor([[-1.0000,  0.8495, -0.9801,  ..., -0.7679, -0.9998, -1.0000],\n",
       "        [-1.0000,  0.9859, -0.5639,  ..., -0.9904,  0.9991, -1.0000],\n",
       "        [-0.0010, -0.9456, -0.8710,  ..., -0.9059, -0.9963, -0.9986],\n",
       "        ...,\n",
       "        [ 1.0000, -0.8194,  0.9986,  ..., -0.9984,  1.0000,  0.9047],\n",
       "        [ 1.0000,  0.9642, -0.0975,  ...,  0.0317,  0.9978,  0.9998],\n",
       "        [ 0.9493,  0.8696, -0.7591,  ..., -0.9434,  1.0000,  0.9999]])"
      ]
     },
     "execution_count": 29,
     "metadata": {},
     "output_type": "execute_result"
    }
   ],
   "source": [
    "h"
   ]
  },
  {
   "cell_type": "code",
   "execution_count": 30,
   "id": "a90898c1",
   "metadata": {},
   "outputs": [],
   "source": [
    "W2 = torch.randn((100,27))\n",
    "b2 = torch.randn(27)"
   ]
  },
  {
   "cell_type": "code",
   "execution_count": 31,
   "id": "fecbef77",
   "metadata": {},
   "outputs": [
    {
     "data": {
      "text/plain": [
       "torch.Size([32, 27])"
      ]
     },
     "execution_count": 31,
     "metadata": {},
     "output_type": "execute_result"
    }
   ],
   "source": [
    "logits = h @ W2 + b2\n",
    "logits.shape"
   ]
  },
  {
   "cell_type": "code",
   "execution_count": 32,
   "id": "c194f6bb",
   "metadata": {},
   "outputs": [
    {
     "data": {
      "text/plain": [
       "torch.Size([32, 27])"
      ]
     },
     "execution_count": 32,
     "metadata": {},
     "output_type": "execute_result"
    }
   ],
   "source": [
    "counts = logits.exp()\n",
    "counts.shape"
   ]
  },
  {
   "cell_type": "code",
   "execution_count": 33,
   "id": "66a77293",
   "metadata": {},
   "outputs": [
    {
     "data": {
      "text/plain": [
       "torch.Size([32, 1])"
      ]
     },
     "execution_count": 33,
     "metadata": {},
     "output_type": "execute_result"
    }
   ],
   "source": [
    "(counts.sum(1, keepdim=True)).shape"
   ]
  },
  {
   "cell_type": "code",
   "execution_count": 34,
   "id": "e81fa509",
   "metadata": {},
   "outputs": [
    {
     "data": {
      "text/plain": [
       "torch.Size([32, 27])"
      ]
     },
     "execution_count": 34,
     "metadata": {},
     "output_type": "execute_result"
    }
   ],
   "source": [
    "probs = counts / counts.sum(1, keepdim=True)\n",
    "probs.shape"
   ]
  },
  {
   "cell_type": "code",
   "execution_count": 35,
   "id": "187de4a9",
   "metadata": {},
   "outputs": [
    {
     "data": {
      "text/plain": [
       "tensor([ 5, 13, 13,  1,  0, 15, 12,  9, 22,  9,  1,  0,  1, 22,  1,  0,  9, 19,\n",
       "         1,  2,  5, 12, 12,  1,  0, 19, 15, 16,  8,  9,  1,  0])"
      ]
     },
     "execution_count": 35,
     "metadata": {},
     "output_type": "execute_result"
    }
   ],
   "source": [
    "Y"
   ]
  },
  {
   "cell_type": "code",
   "execution_count": 36,
   "id": "fe70d4c2",
   "metadata": {},
   "outputs": [
    {
     "data": {
      "text/plain": [
       "torch.Size([32])"
      ]
     },
     "execution_count": 36,
     "metadata": {},
     "output_type": "execute_result"
    }
   ],
   "source": [
    "Y.shape"
   ]
  },
  {
   "cell_type": "markdown",
   "id": "c522ef7d",
   "metadata": {},
   "source": [
    "### Now we,\n",
    "    - index into rows of probs\n",
    "        - and pluck out probabilities assigned to the correct character"
   ]
  },
  {
   "cell_type": "code",
   "execution_count": 37,
   "id": "bee834c7",
   "metadata": {},
   "outputs": [
    {
     "data": {
      "text/plain": [
       "tensor([4.8660e-12, 1.3630e-08, 4.6028e-11, 2.4103e-07, 1.6041e-05, 6.3498e-05,\n",
       "        1.7794e-08, 6.1464e-10, 9.2567e-14, 2.2132e-04, 1.4435e-02, 2.0594e-12,\n",
       "        3.7969e-10, 1.9359e-07, 5.0277e-11, 5.9435e-13, 1.7969e-07, 4.2873e-07,\n",
       "        5.0654e-11, 1.9535e-05, 3.8721e-08, 2.9722e-09, 6.1793e-07, 9.9908e-01,\n",
       "        8.2567e-11, 1.8280e-09, 1.5508e-03, 2.6089e-17, 5.9295e-06, 3.2866e-07,\n",
       "        6.7313e-01, 3.3168e-14])"
      ]
     },
     "execution_count": 37,
     "metadata": {},
     "output_type": "execute_result"
    }
   ],
   "source": [
    "probs[torch.arange(32), Y]"
   ]
  },
  {
   "cell_type": "code",
   "execution_count": 38,
   "id": "0b6d5c2d",
   "metadata": {},
   "outputs": [
    {
     "data": {
      "text/plain": [
       "tensor(-17.6149)"
      ]
     },
     "execution_count": 38,
     "metadata": {},
     "output_type": "execute_result"
    }
   ],
   "source": [
    "loss = probs[torch.arange(32), Y].log().mean()\n",
    "loss"
   ]
  },
  {
   "cell_type": "code",
   "execution_count": 39,
   "id": "da7621d7",
   "metadata": {},
   "outputs": [],
   "source": [
    "# --------------------- Doing all of above: TOGETHER --------------------------------"
   ]
  },
  {
   "cell_type": "code",
   "execution_count": 40,
   "id": "0a379c0b",
   "metadata": {},
   "outputs": [
    {
     "data": {
      "text/plain": [
       "(torch.Size([32, 3]), torch.Size([32]))"
      ]
     },
     "execution_count": 40,
     "metadata": {},
     "output_type": "execute_result"
    }
   ],
   "source": [
    "X.shape, Y.shape"
   ]
  },
  {
   "cell_type": "code",
   "execution_count": 41,
   "id": "f5b45080",
   "metadata": {},
   "outputs": [],
   "source": [
    "g = torch.Generator().manual_seed(2147483647)\n",
    "C = torch.randn((27,2), generator = g)\n",
    "W1 = torch.randn((6,100), generator = g)\n",
    "b1 = torch.randn(100, generator = g)\n",
    "W2 = torch.randn((100,27), generator = g)\n",
    "b2 = torch.randn(27, generator = g)\n",
    "parameters = [C, W1, b1, W2, b2]"
   ]
  },
  {
   "cell_type": "code",
   "execution_count": 42,
   "id": "48e2f6de",
   "metadata": {},
   "outputs": [
    {
     "data": {
      "text/plain": [
       "3481"
      ]
     },
     "execution_count": 42,
     "metadata": {},
     "output_type": "execute_result"
    }
   ],
   "source": [
    "# Total parameters in model\n",
    "sum(p.nelement() for p in parameters)"
   ]
  },
  {
   "cell_type": "code",
   "execution_count": 43,
   "id": "7ef364ed",
   "metadata": {},
   "outputs": [],
   "source": [
    "for p in parameters:\n",
    "    p.requires_grad = True"
   ]
  },
  {
   "cell_type": "code",
   "execution_count": 44,
   "id": "3ce6fbcb",
   "metadata": {},
   "outputs": [
    {
     "name": "stdout",
     "output_type": "stream",
     "text": [
      "17.769712448120117\n",
      "13.656402587890625\n",
      "11.298768997192383\n",
      "9.452457427978516\n",
      "7.984262466430664\n",
      "6.891321182250977\n",
      "6.1000142097473145\n",
      "5.452036380767822\n",
      "4.8981523513793945\n",
      "4.414663791656494\n",
      "3.985849380493164\n",
      "3.6028308868408203\n",
      "3.2621419429779053\n",
      "2.961381435394287\n",
      "2.6982972621917725\n",
      "2.469712734222412\n",
      "2.271660566329956\n",
      "2.101283550262451\n",
      "1.9571772813796997\n",
      "1.8374860286712646\n",
      "1.7380964756011963\n",
      "1.6535115242004395\n",
      "1.5790901184082031\n",
      "1.5117661952972412\n",
      "1.4496049880981445\n",
      "1.3913118839263916\n",
      "1.3359922170639038\n",
      "1.2830530405044556\n",
      "1.2321914434432983\n",
      "1.183381199836731\n",
      "1.1367988586425781\n",
      "1.092664361000061\n",
      "1.0510923862457275\n",
      "1.0120266675949097\n",
      "0.9752703309059143\n",
      "0.940556526184082\n",
      "0.907612681388855\n",
      "0.8761921525001526\n",
      "0.8460891842842102\n",
      "0.817135751247406\n",
      "0.7891989946365356\n",
      "0.7621747851371765\n",
      "0.7359814047813416\n",
      "0.7105578780174255\n",
      "0.6858609914779663\n",
      "0.6618654131889343\n",
      "0.6385656595230103\n",
      "0.6159818768501282\n",
      "0.5941656827926636\n",
      "0.5732104778289795\n",
      "0.553256094455719\n",
      "0.5344879627227783\n",
      "0.5171167850494385\n",
      "0.5013313293457031\n",
      "0.4872424900531769\n",
      "0.4748404324054718\n",
      "0.463997483253479\n",
      "0.4545142650604248\n",
      "0.44617071747779846\n",
      "0.43876639008522034\n",
      "0.4321332275867462\n",
      "0.4261387884616852\n",
      "0.42067986726760864\n",
      "0.4156752824783325\n",
      "0.41106146574020386\n",
      "0.4067871570587158\n",
      "0.4028106927871704\n",
      "0.3990973234176636\n",
      "0.3956179618835449\n",
      "0.3923477530479431\n",
      "0.389265239238739\n",
      "0.38635194301605225\n",
      "0.3835917115211487\n",
      "0.3809700012207031\n",
      "0.37847423553466797\n",
      "0.37609291076660156\n",
      "0.3738163411617279\n",
      "0.37163498997688293\n",
      "0.369541198015213\n",
      "0.3675267994403839\n",
      "0.36558544635772705\n",
      "0.36371132731437683\n",
      "0.3618985116481781\n",
      "0.36014169454574585\n",
      "0.3584362864494324\n",
      "0.3567781448364258\n",
      "0.3551628589630127\n",
      "0.3535870611667633\n",
      "0.35204699635505676\n",
      "0.3505399227142334\n",
      "0.3490624725818634\n",
      "0.34761226177215576\n",
      "0.3461867570877075\n",
      "0.3447837233543396\n",
      "0.34340107440948486\n",
      "0.3420369029045105\n",
      "0.340690016746521\n",
      "0.3393588364124298\n",
      "0.3380419611930847\n",
      "0.33673885464668274\n",
      "0.3354487717151642\n",
      "0.3341713845729828\n",
      "0.3329060673713684\n",
      "0.33165305852890015\n",
      "0.3304125964641571\n",
      "0.32918503880500793\n",
      "0.32797086238861084\n",
      "0.32677069306373596\n",
      "0.3255854845046997\n",
      "0.324415922164917\n",
      "0.3232630789279938\n",
      "0.32212793827056885\n",
      "0.3210112750530243\n",
      "0.31991392374038696\n",
      "0.3188368082046509\n",
      "0.3177805542945862\n",
      "0.316745787858963\n",
      "0.31573301553726196\n",
      "0.3147425055503845\n",
      "0.3137745261192322\n",
      "0.3128294348716736\n",
      "0.3119067847728729\n",
      "0.31100699305534363\n",
      "0.31012964248657227\n",
      "0.3092743456363678\n",
      "0.3084411323070526\n",
      "0.3076291084289551\n",
      "0.3068382740020752\n",
      "0.3060680627822876\n",
      "0.30531787872314453\n",
      "0.3045872449874878\n",
      "0.30387556552886963\n",
      "0.30318233370780945\n",
      "0.3025069832801819\n",
      "0.30184897780418396\n",
      "0.3012077510356903\n",
      "0.30058273673057556\n",
      "0.29997339844703674\n",
      "0.29937925934791565\n",
      "0.2987997829914093\n",
      "0.2982344627380371\n",
      "0.29768288135528564\n",
      "0.29714450240135193\n",
      "0.29661881923675537\n",
      "0.2961055338382721\n",
      "0.29560422897338867\n",
      "0.2951143980026245\n",
      "0.2946356534957886\n",
      "0.2941678464412689\n",
      "0.293710321187973\n",
      "0.29326289892196655\n",
      "0.29282522201538086\n",
      "0.2923969030380249\n",
      "0.2919778823852539\n",
      "0.2915675640106201\n",
      "0.2911657989025116\n",
      "0.29077231884002686\n",
      "0.290386825799942\n",
      "0.29000920057296753\n",
      "0.28963905572891235\n",
      "0.28927627205848694\n",
      "0.2889205515384674\n",
      "0.28857168555259705\n",
      "0.2882296144962311\n",
      "0.2878938615322113\n",
      "0.2875644862651825\n",
      "0.28724122047424316\n",
      "0.28692391514778137\n",
      "0.286612331867218\n",
      "0.28630638122558594\n",
      "0.2860059440135956\n",
      "0.28571078181266785\n",
      "0.2854207456111908\n",
      "0.28513580560684204\n",
      "0.2848557233810425\n",
      "0.2845804691314697\n",
      "0.28430986404418945\n",
      "0.28404372930526733\n",
      "0.2837820053100586\n",
      "0.28352460265159607\n",
      "0.28327131271362305\n",
      "0.28302210569381714\n",
      "0.28277695178985596\n",
      "0.28253573179244995\n",
      "0.28229820728302\n",
      "0.28206443786621094\n",
      "0.2818342447280884\n",
      "0.28160762786865234\n",
      "0.28138434886932373\n",
      "0.2811645269393921\n",
      "0.2809479832649231\n",
      "0.2807346284389496\n",
      "0.28052443265914917\n",
      "0.2803173065185547\n",
      "0.2801131308078766\n",
      "0.27991193532943726\n",
      "0.27971360087394714\n",
      "0.2795180380344391\n",
      "0.2793252170085907\n",
      "0.279135137796402\n",
      "0.2789476811885834\n",
      "0.2787627577781677\n",
      "0.2785803973674774\n",
      "0.2784004807472229\n",
      "0.2782229483127594\n",
      "0.2780478298664093\n",
      "0.27787503600120544\n",
      "0.27770447731018066\n",
      "0.27753618359565735\n",
      "0.27737000584602356\n",
      "0.2772060036659241\n",
      "0.2770441174507141\n",
      "0.2768843472003937\n",
      "0.27672648429870605\n",
      "0.2765706181526184\n",
      "0.2764166593551636\n",
      "0.2762646973133087\n",
      "0.2761145532131195\n",
      "0.27596622705459595\n",
      "0.2758197486400604\n",
      "0.2756749987602234\n",
      "0.27553197741508484\n",
      "0.2753906548023224\n",
      "0.27525097131729126\n",
      "0.27511298656463623\n",
      "0.27497658133506775\n",
      "0.2748417854309082\n",
      "0.2747085690498352\n",
      "0.2745767831802368\n",
      "0.274446576833725\n",
      "0.27431783080101013\n",
      "0.2741904854774475\n",
      "0.2740646004676819\n",
      "0.2739400863647461\n",
      "0.2738170027732849\n",
      "0.27369531989097595\n",
      "0.2735748291015625\n",
      "0.27345576882362366\n",
      "0.2733379006385803\n",
      "0.27322137355804443\n",
      "0.27310600876808167\n",
      "0.27299192547798157\n",
      "0.27287906408309937\n",
      "0.2727673053741455\n",
      "0.27265679836273193\n",
      "0.2725474238395691\n",
      "0.27243921160697937\n",
      "0.2723320424556732\n",
      "0.2722259759902954\n",
      "0.27212104201316833\n",
      "0.27201709151268005\n",
      "0.2719142735004425\n",
      "0.27181240916252136\n",
      "0.2717116177082062\n",
      "0.2716117799282074\n",
      "0.2715129256248474\n",
      "0.271415114402771\n",
      "0.27131813764572144\n",
      "0.27122217416763306\n",
      "0.2711271643638611\n",
      "0.27103298902511597\n",
      "0.27093979716300964\n",
      "0.27084746956825256\n",
      "0.27075597643852234\n",
      "0.27066534757614136\n",
      "0.2705756425857544\n",
      "0.2704867124557495\n",
      "0.27039864659309387\n",
      "0.27031129598617554\n",
      "0.27022483944892883\n",
      "0.2701391279697418\n",
      "0.27005428075790405\n",
      "0.2699701189994812\n",
      "0.26988673210144043\n",
      "0.26980412006378174\n",
      "0.26972219347953796\n",
      "0.26964104175567627\n",
      "0.26956063508987427\n",
      "0.2694808840751648\n",
      "0.269401878118515\n",
      "0.269323468208313\n",
      "0.26924583315849304\n",
      "0.269168883562088\n",
      "0.26909253001213074\n",
      "0.269016832113266\n",
      "0.26894181966781616\n",
      "0.2688674330711365\n",
      "0.26879367232322693\n",
      "0.2687205672264099\n",
      "0.2686479985713959\n",
      "0.26857611536979675\n",
      "0.2685048282146454\n",
      "0.2684340476989746\n",
      "0.26836392283439636\n",
      "0.2682943344116211\n",
      "0.26822537183761597\n",
      "0.2681569457054138\n",
      "0.26808908581733704\n",
      "0.26802173256874084\n",
      "0.2679549753665924\n",
      "0.26788875460624695\n",
      "0.2678230106830597\n",
      "0.26775774359703064\n",
      "0.26769310235977173\n",
      "0.267628937959671\n",
      "0.2675652801990509\n",
      "0.267502099275589\n",
      "0.26743945479393005\n",
      "0.26737722754478455\n",
      "0.26731550693511963\n",
      "0.2672543227672577\n",
      "0.2671934962272644\n",
      "0.2671332359313965\n",
      "0.2670733630657196\n",
      "0.2670139670372009\n",
      "0.26695507764816284\n",
      "0.2668965756893158\n",
      "0.2668384909629822\n",
      "0.26678091287612915\n",
      "0.2667236924171448\n",
      "0.2666669487953186\n",
      "0.2666105628013611\n",
      "0.26655465364456177\n",
      "0.2664991617202759\n",
      "0.26644399762153625\n",
      "0.26638928055763245\n",
      "0.2663349509239197\n",
      "0.26628103852272034\n",
      "0.26622751355171204\n",
      "0.2661742866039276\n",
      "0.2661215662956238\n",
      "0.2660691440105438\n",
      "0.2660171091556549\n",
      "0.26596543192863464\n",
      "0.2659141421318054\n",
      "0.26586323976516724\n",
      "0.26581260561943054\n",
      "0.2657623887062073\n",
      "0.2657124698162079\n",
      "0.2656629681587219\n",
      "0.26561376452445984\n",
      "0.265564888715744\n",
      "0.26551640033721924\n",
      "0.26546818017959595\n",
      "0.2654203176498413\n",
      "0.2653728127479553\n",
      "0.26532548666000366\n",
      "0.2652786076068878\n",
      "0.2652320861816406\n",
      "0.26518580317497253\n",
      "0.26513978838920593\n",
      "0.26509416103363037\n",
      "0.2650487720966339\n",
      "0.2650037109851837\n",
      "0.2649589478969574\n",
      "0.26491451263427734\n",
      "0.2648703455924988\n",
      "0.26482638716697693\n",
      "0.26478278636932373\n",
      "0.264739453792572\n",
      "0.2646963894367218\n",
      "0.26465362310409546\n",
      "0.264611154794693\n",
      "0.26456889510154724\n",
      "0.26452693343162537\n",
      "0.264485239982605\n",
      "0.26444387435913086\n",
      "0.2644026577472687\n",
      "0.26436176896095276\n",
      "0.26432108879089355\n",
      "0.2642807066440582\n",
      "0.264240562915802\n",
      "0.2642006278038025\n",
      "0.26416099071502686\n",
      "0.26412156224250793\n",
      "0.2640824317932129\n",
      "0.26404350996017456\n",
      "0.26400479674339294\n",
      "0.2639663815498352\n",
      "0.2639281153678894\n",
      "0.26389017701148987\n",
      "0.26385238766670227\n",
      "0.26381486654281616\n",
      "0.26377755403518677\n",
      "0.2637404799461365\n",
      "0.2637035846710205\n",
      "0.26366692781448364\n",
      "0.2636305093765259\n",
      "0.26359426975250244\n",
      "0.2635583281517029\n",
      "0.26352253556251526\n",
      "0.26348692178726196\n",
      "0.26345157623291016\n",
      "0.26341643929481506\n",
      "0.2633814811706543\n",
      "0.26334670186042786\n",
      "0.2633121609687805\n",
      "0.2632777988910675\n",
      "0.2632436156272888\n",
      "0.26320967078208923\n",
      "0.2631758749485016\n",
      "0.26314234733581543\n",
      "0.2631089985370636\n",
      "0.2630757689476013\n",
      "0.26304274797439575\n",
      "0.2630099654197693\n",
      "0.2629773020744324\n",
      "0.26294487714767456\n",
      "0.2629125714302063\n",
      "0.2628805339336395\n",
      "0.2628486454486847\n",
      "0.2628169059753418\n",
      "0.262785404920578\n",
      "0.26275402307510376\n",
      "0.2627228796482086\n",
      "0.262691855430603\n",
      "0.26266106963157654\n",
      "0.2626304030418396\n",
      "0.2625999450683594\n",
      "0.2625696361064911\n",
      "0.2625395655632019\n",
      "0.26250964403152466\n",
      "0.2624799907207489\n",
      "0.2624503970146179\n",
      "0.2624211013317108\n",
      "0.26239192485809326\n",
      "0.2623630166053772\n",
      "0.26233428716659546\n",
      "0.2623058557510376\n",
      "0.26227760314941406\n",
      "0.26224958896636963\n",
      "0.2622218728065491\n",
      "0.26219442486763\n",
      "0.2621673047542572\n",
      "0.26214057207107544\n",
      "0.26211416721343994\n",
      "0.26208820939064026\n",
      "0.2620627284049988\n",
      "0.26203781366348267\n",
      "0.2620135247707367\n",
      "0.261989951133728\n",
      "0.26196712255477905\n",
      "0.2619454562664032\n",
      "0.2619246244430542\n",
      "0.2619054317474365\n",
      "0.2618872821331024\n",
      "0.2618715465068817\n",
      "0.2618570327758789\n",
      "0.261846125125885\n",
      "0.2618366479873657\n",
      "0.26183247566223145\n",
      "0.26182982325553894\n",
      "0.2618350684642792\n",
      "0.26184171438217163\n",
      "0.26186007261276245\n",
      "0.26187899708747864\n",
      "0.26191553473472595\n",
      "0.26195028424263\n",
      "0.26201140880584717\n",
      "0.2620656490325928\n",
      "0.2621591091156006\n",
      "0.26223593950271606\n",
      "0.26236996054649353\n",
      "0.26246994733810425\n",
      "0.2626517713069916\n",
      "0.26277047395706177\n",
      "0.26300376653671265\n",
      "0.263129323720932\n",
      "0.26341065764427185\n",
      "0.263522744178772\n",
      "0.26383987069129944\n",
      "0.26391297578811646\n",
      "0.2642463743686676\n",
      "0.2642565965652466\n",
      "0.26458504796028137\n",
      "0.26451870799064636\n",
      "0.264825701713562\n",
      "0.26468372344970703\n",
      "0.2649613320827484\n",
      "0.2647562623023987\n",
      "0.2650041878223419\n",
      "0.2647545635700226\n",
      "0.2649773061275482\n",
      "0.26470044255256653\n",
      "0.2649032771587372\n",
      "0.2646125555038452\n",
      "0.26479995250701904\n",
      "0.2645047605037689\n",
      "0.2646801471710205\n",
      "0.2643863558769226\n",
      "0.2645519971847534\n",
      "0.264262855052948\n",
      "0.2644204795360565\n",
      "0.26413798332214355\n",
      "0.26428842544555664\n",
      "0.264013409614563\n",
      "0.2641574442386627\n",
      "0.26389050483703613\n",
      "0.26402872800827026\n",
      "0.26376983523368835\n",
      "0.26390257477760315\n",
      "0.2636515498161316\n",
      "0.2637791335582733\n",
      "0.2635359764099121\n",
      "0.2636588215827942\n",
      "0.26342320442199707\n",
      "0.26354148983955383\n",
      "0.2633133828639984\n",
      "0.2634274959564209\n",
      "0.2632063329219818\n",
      "0.26331642270088196\n",
      "0.2631019949913025\n",
      "0.2632081210613251\n",
      "0.2630002498626709\n",
      "0.26310276985168457\n",
      "0.2629009783267975\n",
      "0.2630000710487366\n",
      "0.2628042697906494\n",
      "0.2628999948501587\n",
      "0.26270997524261475\n",
      "0.2628025710582733\n",
      "0.26261794567108154\n",
      "0.26270753145217896\n",
      "0.2625281512737274\n",
      "0.26261478662490845\n",
      "0.2624405026435852\n",
      "0.26252448558807373\n",
      "0.26235488057136536\n",
      "0.2624361515045166\n",
      "0.2622712552547455\n",
      "0.2623501420021057\n",
      "0.26218968629837036\n",
      "0.2622661590576172\n",
      "0.2621099352836609\n",
      "0.26218411326408386\n",
      "0.2620319724082947\n",
      "0.2621040344238281\n",
      "0.26195573806762695\n",
      "0.2620256543159485\n",
      "0.2618812322616577\n",
      "0.26194921135902405\n",
      "0.26180824637413025\n",
      "0.26187434792518616\n",
      "0.2617368996143341\n",
      "0.26180121302604675\n",
      "0.26166704297065735\n",
      "0.2617296576499939\n",
      "0.26159873604774475\n",
      "0.2616596221923828\n",
      "0.2615317404270172\n",
      "0.26159098744392395\n",
      "0.2614660859107971\n",
      "0.26152390241622925\n",
      "0.2614017426967621\n",
      "0.2614580988883972\n",
      "0.2613387405872345\n",
      "0.261393666267395\n",
      "0.26127687096595764\n",
      "0.2613305449485779\n",
      "0.26121634244918823\n",
      "0.2612687349319458\n",
      "0.26115691661834717\n",
      "0.26120805740356445\n",
      "0.26109862327575684\n",
      "0.261148601770401\n",
      "0.26104140281677246\n",
      "0.2610902488231659\n",
      "0.26098519563674927\n",
      "0.26103296875953674\n",
      "0.26093000173568726\n",
      "0.260976642370224\n",
      "0.26087573170661926\n",
      "0.26092150807380676\n",
      "0.26082250475883484\n",
      "0.26086726784706116\n",
      "0.26077017188072205\n",
      "0.26081395149230957\n",
      "0.2607187330722809\n",
      "0.26076164841651917\n",
      "0.2606680989265442\n",
      "0.260710209608078\n",
      "0.2606184482574463\n",
      "0.26065972447395325\n",
      "0.26056960225105286\n",
      "0.2606101930141449\n",
      "0.2605215609073639\n",
      "0.2605612874031067\n",
      "0.26047423481941223\n",
      "0.2605133652687073\n",
      "0.2604277729988098\n",
      "0.26046618819236755\n",
      "0.2603820264339447\n",
      "0.2604197859764099\n",
      "0.2603369951248169\n",
      "0.2603740394115448\n",
      "0.26029253005981445\n",
      "0.26032891869544983\n",
      "0.26024875044822693\n",
      "0.2602846026420593\n",
      "0.2602056562900543\n",
      "0.2602408826351166\n",
      "0.2601631283760071\n",
      "0.26019778847694397\n",
      "0.26012122631073\n",
      "0.2601553201675415\n",
      "0.26007992029190063\n",
      "0.26011356711387634\n",
      "0.2600392699241638\n",
      "0.26007238030433655\n",
      "0.25999915599823\n",
      "0.2600317597389221\n",
      "0.25995954871177673\n",
      "0.25999167561531067\n",
      "0.25992047786712646\n",
      "0.25995221734046936\n",
      "0.2598819136619568\n",
      "0.25991326570510864\n",
      "0.2598440647125244\n",
      "0.25987496972084045\n",
      "0.2598066031932831\n",
      "0.2598370611667633\n",
      "0.2597694993019104\n",
      "0.259799599647522\n",
      "0.25973302125930786\n",
      "0.2597627341747284\n",
      "0.259696900844574\n",
      "0.25972628593444824\n",
      "0.2596612870693207\n",
      "0.2596902847290039\n",
      "0.2596261501312256\n",
      "0.25965484976768494\n",
      "0.25959134101867676\n",
      "0.2596195638179779\n",
      "0.25955691933631897\n",
      "0.2595849335193634\n",
      "0.2595230042934418\n",
      "0.25955069065093994\n",
      "0.25948938727378845\n",
      "0.25951671600341797\n",
      "0.2594561278820038\n",
      "0.2594831883907318\n",
      "0.25942328572273254\n",
      "0.2594500780105591\n",
      "0.25939086079597473\n",
      "0.2594173550605774\n",
      "0.2593587338924408\n",
      "0.25938495993614197\n",
      "0.2593269646167755\n",
      "0.2593529224395752\n",
      "0.2592955231666565\n",
      "0.2593211829662323\n",
      "0.25926437973976135\n",
      "0.25928983092308044\n",
      "0.25923359394073486\n",
      "0.25925877690315247\n",
      "0.25920313596725464\n",
      "0.2592281103134155\n",
      "0.25917303562164307\n"
     ]
    },
    {
     "name": "stdout",
     "output_type": "stream",
     "text": [
      "0.25919777154922485\n",
      "0.25914323329925537\n",
      "0.25916773080825806\n",
      "0.25911369919776917\n",
      "0.25913795828819275\n",
      "0.25908440351486206\n",
      "0.2591084837913513\n",
      "0.25905537605285645\n",
      "0.259079247713089\n",
      "0.2590266764163971\n",
      "0.25905030965805054\n",
      "0.25899821519851685\n",
      "0.2590217590332031\n",
      "0.25897011160850525\n",
      "0.25899335741996765\n",
      "0.25894221663475037\n",
      "0.25896525382995605\n",
      "0.2589144706726074\n",
      "0.258937269449234\n",
      "0.2588869631290436\n",
      "0.2589097321033478\n",
      "0.25885987281799316\n",
      "0.25888243317604065\n",
      "0.2588329613208771\n",
      "0.25885531306266785\n",
      "0.2588062584400177\n",
      "0.25882843136787415\n",
      "0.25877976417541504\n",
      "0.25880175828933716\n",
      "0.2587534785270691\n",
      "0.2587753236293793\n",
      "0.25872743129730225\n",
      "0.2587491571903229\n",
      "0.2587016224861145\n",
      "0.2587231695652008\n",
      "0.25867602229118347\n",
      "0.25869742035865784\n",
      "0.25865069031715393\n",
      "0.25867196917533875\n",
      "0.2586255967617035\n",
      "0.2586466073989868\n",
      "0.2586006224155426\n",
      "0.2586215138435364\n",
      "0.2585758864879608\n",
      "0.25859662890434265\n",
      "0.25855129957199097\n",
      "0.25857195258140564\n",
      "0.25852692127227783\n",
      "0.25854742527008057\n",
      "0.25850266218185425\n",
      "0.25852304697036743\n",
      "0.25847864151000977\n",
      "0.258498877286911\n",
      "0.258454829454422\n",
      "0.2584749162197113\n",
      "0.25843116641044617\n",
      "0.25845104455947876\n",
      "0.2584075927734375\n",
      "0.25842738151550293\n",
      "0.25838425755500793\n",
      "0.2584039270877838\n",
      "0.2583611011505127\n",
      "0.258380651473999\n",
      "0.2583380937576294\n",
      "0.2583574950695038\n",
      "0.2583152651786804\n",
      "0.2583344578742981\n",
      "0.2582925260066986\n",
      "0.2583116888999939\n",
      "0.2582700252532959\n",
      "0.2582889795303345\n",
      "0.25824758410453796\n",
      "0.25826647877693176\n",
      "0.25822532176971436\n",
      "0.2582440674304962\n",
      "0.25820326805114746\n",
      "0.25822192430496216\n",
      "0.2581813633441925\n",
      "0.25819990038871765\n",
      "0.2581596374511719\n",
      "0.2581779956817627\n",
      "0.2581380009651184\n",
      "0.25815626978874207\n",
      "0.2581165134906769\n",
      "0.25813472270965576\n",
      "0.25809523463249207\n",
      "0.2581132650375366\n",
      "0.25807398557662964\n",
      "0.25809192657470703\n",
      "0.25805285573005676\n",
      "0.25807061791419983\n",
      "0.2580319046974182\n",
      "0.25804954767227173\n",
      "0.2580111026763916\n",
      "0.25802865624427795\n",
      "0.25799044966697693\n",
      "0.25800788402557373\n",
      "0.25796985626220703\n",
      "0.25798723101615906\n",
      "0.25794947147369385\n",
      "0.2579667568206787\n",
      "0.2579292058944702\n",
      "0.25794634222984314\n",
      "0.25790897011756897\n",
      "0.25792598724365234\n",
      "0.25788888335227966\n",
      "0.2579057514667511\n",
      "0.2578689455986023\n",
      "0.25788575410842896\n",
      "0.2578490674495697\n",
      "0.2578657865524292\n",
      "0.25782936811447144\n",
      "0.257845938205719\n",
      "0.25780966877937317\n",
      "0.25782614946365356\n",
      "0.257790207862854\n",
      "0.25780659914016724\n",
      "0.2577708661556244\n",
      "0.25778716802597046\n",
      "0.2577516436576843\n",
      "0.25776782631874084\n",
      "0.2577325105667114\n",
      "0.257748544216156\n",
      "0.2577134370803833\n",
      "0.2577293813228607\n",
      "0.2576945424079895\n",
      "0.25771042704582214\n",
      "0.25767573714256287\n",
      "0.25769147276878357\n",
      "0.25765708088874817\n",
      "0.2576727867126465\n",
      "0.25763851404190063\n",
      "0.2576541304588318\n",
      "0.25762003660202026\n",
      "0.2576355040073395\n",
      "0.25760161876678467\n",
      "0.2576169967651367\n",
      "0.2575833201408386\n",
      "0.2575985789299011\n",
      "0.25756508111953735\n",
      "0.2575801908969879\n",
      "0.25754696130752563\n",
      "0.2575620412826538\n",
      "0.25752896070480347\n",
      "0.2575439214706421\n",
      "0.25751110911369324\n",
      "0.25752589106559753\n",
      "0.2574932277202606\n",
      "0.2575080096721649\n",
      "0.2574755847454071\n",
      "0.2574901878833771\n",
      "0.2574578821659088\n",
      "0.257472425699234\n",
      "0.25744032859802246\n",
      "0.2574547827243805\n",
      "0.25742289423942566\n",
      "0.25743722915649414\n",
      "0.2574055790901184\n",
      "0.2574198544025421\n",
      "0.2573883533477783\n",
      "0.25740256905555725\n",
      "0.25737130641937256\n",
      "0.25738540291786194\n",
      "0.2573542594909668\n",
      "0.2573682367801666\n",
      "0.257337361574173\n",
      "0.2573513090610504\n",
      "0.2573205828666687\n",
      "0.2573343813419342\n",
      "0.2573038637638092\n",
      "0.25731754302978516\n",
      "0.2572871446609497\n",
      "0.25730079412460327\n",
      "0.25727057456970215\n",
      "0.25728416442871094\n",
      "0.25725415349006653\n",
      "0.25726762413978577\n",
      "0.2572377622127533\n",
      "0.2572510838508606\n",
      "0.25722137093544006\n",
      "0.2572346031665802\n",
      "0.257205069065094\n",
      "0.25721824169158936\n",
      "0.2571888864040375\n",
      "0.2572019696235657\n",
      "0.2571728229522705\n",
      "0.2571858763694763\n",
      "0.2571568489074707\n",
      "0.2571697533130646\n",
      "0.2571409344673157\n",
      "0.2571536898612976\n",
      "0.2571250796318054\n",
      "0.25713780522346497\n",
      "0.2571093440055847\n",
      "0.2571220099925995\n",
      "0.2570936679840088\n",
      "0.257106214761734\n",
      "0.25707805156707764\n",
      "0.2570905387401581\n",
      "0.25706255435943604\n",
      "0.25707492232322693\n",
      "0.2570471167564392\n",
      "0.2570594251155853\n",
      "0.25703173875808716\n",
      "0.2570440173149109\n",
      "0.25701650977134705\n",
      "0.2570286691188812\n",
      "0.2570013403892517\n",
      "0.2570134103298187\n",
      "0.25698620080947876\n",
      "0.256998211145401\n",
      "0.256971150636673\n",
      "0.25698307156562805\n",
      "0.25695621967315674\n",
      "0.25696808099746704\n",
      "0.2569413483142853\n",
      "0.2569531202316284\n",
      "0.256926566362381\n",
      "0.2569381892681122\n",
      "0.2569117546081543\n",
      "0.2569233179092407\n",
      "0.25689712166786194\n",
      "0.256908655166626\n",
      "0.25688254833221436\n",
      "0.25689393281936646\n",
      "0.25686800479888916\n",
      "0.25687938928604126\n",
      "0.2568535804748535\n",
      "0.2568647861480713\n",
      "0.25683918595314026\n",
      "0.25685036182403564\n",
      "0.25682494044303894\n",
      "0.25683605670928955\n",
      "0.2568107545375824\n",
      "0.25682181119918823\n",
      "0.256796658039093\n",
      "0.2568076252937317\n",
      "0.2567826211452484\n",
      "0.2567934989929199\n",
      "0.2567686140537262\n",
      "0.25677940249443054\n",
      "0.25675463676452637\n",
      "0.25676536560058594\n",
      "0.2567406892776489\n",
      "0.2567513585090637\n",
      "0.25672686100006104\n",
      "0.25673747062683105\n",
      "0.2567131221294403\n",
      "0.2567235827445984\n",
      "0.25669944286346436\n",
      "0.25670987367630005\n",
      "0.25668588280677795\n",
      "0.2566961944103241\n",
      "0.25667235255241394\n",
      "0.2566826641559601\n",
      "0.2566589117050171\n",
      "0.2566690444946289\n",
      "0.25664544105529785\n",
      "0.25665563344955444\n",
      "0.25663214921951294\n",
      "0.25664228200912476\n",
      "0.2566189467906952\n",
      "0.25662901997566223\n",
      "0.25660577416419983\n",
      "0.25661569833755493\n",
      "0.25659260153770447\n",
      "0.2566024959087372\n",
      "0.25657951831817627\n",
      "0.2565893530845642\n",
      "0.2565665543079376\n",
      "0.2565762996673584\n",
      "0.25655362010002136\n",
      "0.256563276052475\n",
      "0.2565407156944275\n",
      "0.2565503418445587\n",
      "0.2565279006958008\n",
      "0.25653743743896484\n",
      "0.25651511549949646\n",
      "0.2565246522426605\n",
      "0.2565023899078369\n",
      "0.2565118074417114\n",
      "0.25648972392082214\n",
      "0.2564990818500519\n",
      "0.25647711753845215\n",
      "0.2564863860607147\n",
      "0.25646454095840454\n",
      "0.2564737796783447\n",
      "0.2564520835876465\n",
      "0.2564612627029419\n",
      "0.2564396858215332\n",
      "0.2564488351345062\n",
      "0.2564273476600647\n",
      "0.25643643736839294\n",
      "0.2564150393009186\n",
      "0.25642403960227966\n",
      "0.25640279054641724\n",
      "0.25641173124313354\n",
      "0.25639063119888306\n",
      "0.2563995122909546\n",
      "0.2563785910606384\n",
      "0.2563873529434204\n",
      "0.256366491317749\n",
      "0.256375253200531\n",
      "0.25635457038879395\n",
      "0.25636330246925354\n",
      "0.2563426196575165\n",
      "0.2563512325286865\n",
      "0.2563307583332062\n",
      "0.25633931159973145\n",
      "0.25631892681121826\n",
      "0.25632742047309875\n",
      "0.25630712509155273\n",
      "0.25631558895111084\n",
      "0.25629541277885437\n",
      "0.2563038170337677\n",
      "0.2562837600708008\n",
      "0.25629207491874695\n",
      "0.25627216696739197\n",
      "0.25628042221069336\n",
      "0.25626063346862793\n",
      "0.25626885890960693\n",
      "0.2562490701675415\n",
      "0.2562572658061981\n",
      "0.25623762607574463\n",
      "0.25624576210975647\n",
      "0.25622624158859253\n",
      "0.2562343180179596\n",
      "0.2562149167060852\n",
      "0.2562229335308075\n",
      "0.25620365142822266\n",
      "0.2562115788459778\n",
      "0.2561924159526825\n",
      "0.2562003433704376\n",
      "0.2561812996864319\n",
      "0.25618913769721985\n",
      "0.2561701834201813\n",
      "0.25617796182632446\n",
      "0.25615906715393066\n",
      "0.2561667859554291\n",
      "0.25614798069000244\n",
      "0.2561556398868561\n",
      "0.2561369836330414\n"
     ]
    }
   ],
   "source": [
    "for _ in range(1000):\n",
    "\n",
    "    # forward pass\n",
    "    emb = C[X] # (32, 3, 2)\n",
    "    h = torch.tanh(emb.view(-1, 6) @ W1 + b1) # (32, 100)\n",
    "    logits = h @ W2 + b2 # (32, 27)\n",
    "\n",
    "    # ------------Below 3 lines can be very efficiently done with PyTorch in-built function----\n",
    "    # Also F.cross_entropy can be more efficient in forward, backward passes & numerically much well behaved\n",
    "    # counts = logits.exp()\n",
    "    # probs = counts / counts.sum(1, keepdim=True)\n",
    "    # loss = probs[torch.arange(32), Y].log().mean()\n",
    "    # ^^^^^^^^^^^^^^^^^^^^^^^^^^^^^^^^^^^^^^^^^^^^^^^^^^\n",
    "\n",
    "    loss = F.cross_entropy(logits, Y)\n",
    "    print(loss.item())\n",
    "\n",
    "    # backward pass\n",
    "\n",
    "    for p in parameters:\n",
    "        p.grad = None\n",
    "    loss.backward()\n",
    "\n",
    "    # update parameters\n",
    "    for p in parameters:\n",
    "        p.data += -0.1 * p.grad"
   ]
  },
  {
   "cell_type": "markdown",
   "id": "48e4456d",
   "metadata": {},
   "source": [
    "### We are so easily able to overfit \n",
    "    - Coz we have so less data samples (32) to train with\n",
    "        - And we have a lot parameters (~4000) as per data count\n",
    "    - We are able to reduce to 0, but not there yet\n",
    "        - Coz, the starting data from every word --> '...' ----> e/o/... are not very deterministic to learn for model"
   ]
  },
  {
   "cell_type": "code",
   "execution_count": 45,
   "id": "255a5a4d",
   "metadata": {},
   "outputs": [],
   "source": [
    "# build the dataset\n",
    "\n",
    "block_size = 3 # context length: how many characters do we take to predict teh next one\n",
    "X, Y = [], []\n",
    "for w in words:\n",
    "    \n",
    "#     print(w)\n",
    "    context = [0] * block_size # padding with .'s of block_size count\n",
    "    for ch in w + '.':\n",
    "        ix = stoi[ch]\n",
    "        X.append(context)\n",
    "        Y.append(ix)\n",
    "#         print(''.join(itos[i] for i in context), '----->', itos[ix])\n",
    "        context = context[1:] + [ix] # crop & append\n",
    "\n",
    "X = torch.tensor(X)\n",
    "Y = torch.tensor(Y)"
   ]
  },
  {
   "cell_type": "code",
   "execution_count": 46,
   "id": "08ed7fba",
   "metadata": {},
   "outputs": [
    {
     "data": {
      "text/plain": [
       "(torch.Size([228146, 3]), torch.Size([228146]))"
      ]
     },
     "execution_count": 46,
     "metadata": {},
     "output_type": "execute_result"
    }
   ],
   "source": [
    "X.shape, Y.shape"
   ]
  },
  {
   "cell_type": "code",
   "execution_count": 51,
   "id": "d8f9b8fe",
   "metadata": {},
   "outputs": [],
   "source": [
    "g = torch.Generator().manual_seed(2147483647)\n",
    "C = torch.randn((27,2), generator = g)\n",
    "W1 = torch.randn((6,100), generator = g)\n",
    "b1 = torch.randn(100, generator = g)\n",
    "W2 = torch.randn((100,27), generator = g)\n",
    "b2 = torch.randn(27, generator = g)\n",
    "parameters = [C, W1, b1, W2, b2]"
   ]
  },
  {
   "cell_type": "code",
   "execution_count": 52,
   "id": "1e881b4d",
   "metadata": {},
   "outputs": [
    {
     "data": {
      "text/plain": [
       "3481"
      ]
     },
     "execution_count": 52,
     "metadata": {},
     "output_type": "execute_result"
    }
   ],
   "source": [
    "# Total parameters in model\n",
    "sum(p.nelement() for p in parameters)"
   ]
  },
  {
   "cell_type": "code",
   "execution_count": 53,
   "id": "31f45e6b",
   "metadata": {},
   "outputs": [],
   "source": [
    "for p in parameters:\n",
    "    p.requires_grad = True"
   ]
  },
  {
   "cell_type": "code",
   "execution_count": 54,
   "id": "28846842",
   "metadata": {
    "scrolled": false
   },
   "outputs": [
    {
     "name": "stdout",
     "output_type": "stream",
     "text": [
      "19.505229949951172\n",
      "17.08448600769043\n",
      "15.776532173156738\n",
      "14.833343505859375\n",
      "14.002607345581055\n",
      "13.253263473510742\n",
      "12.579920768737793\n",
      "11.983102798461914\n",
      "11.470495223999023\n",
      "11.05185604095459\n",
      "10.709587097167969\n",
      "10.407632827758789\n",
      "10.127808570861816\n",
      "9.864364624023438\n",
      "9.614503860473633\n",
      "9.376440048217773\n",
      "9.148944854736328\n",
      "8.931111335754395\n",
      "8.7222318649292\n",
      "8.521750450134277\n",
      "8.329227447509766\n",
      "8.144325256347656\n",
      "7.96679162979126\n",
      "7.796450614929199\n",
      "7.633185863494873\n",
      "7.476908206939697\n",
      "7.327521800994873\n",
      "7.1848859786987305\n",
      "7.048792362213135\n",
      "6.9189534187316895\n",
      "6.795018672943115\n",
      "6.6766037940979\n",
      "6.563319206237793\n",
      "6.454790115356445\n",
      "6.350669860839844\n",
      "6.250644207000732\n",
      "6.154432773590088\n",
      "6.06178617477417\n",
      "5.972482681274414\n",
      "5.886328220367432\n",
      "5.803147315979004\n",
      "5.722784519195557\n",
      "5.6450958251953125\n",
      "5.5699462890625\n",
      "5.497213840484619\n",
      "5.42678165435791\n",
      "5.358536243438721\n",
      "5.29237699508667\n",
      "5.228204727172852\n",
      "5.165929317474365\n",
      "5.105469703674316\n",
      "5.046748638153076\n",
      "4.9897003173828125\n",
      "4.934262275695801\n",
      "4.880381107330322\n",
      "4.828007221221924\n",
      "4.777096271514893\n",
      "4.727611064910889\n",
      "4.6795148849487305\n",
      "4.6327805519104\n",
      "4.587379455566406\n",
      "4.543290138244629\n",
      "4.500492095947266\n",
      "4.458968162536621\n",
      "4.418701648712158\n",
      "4.379676818847656\n",
      "4.341879367828369\n",
      "4.305293560028076\n",
      "4.269900321960449\n",
      "4.235681533813477\n",
      "4.202613830566406\n",
      "4.170670986175537\n",
      "4.139825820922852\n",
      "4.110045433044434\n",
      "4.08129358291626\n",
      "4.053532600402832\n",
      "4.026721477508545\n",
      "4.000818729400635\n",
      "3.975780963897705\n",
      "3.9515650272369385\n",
      "3.928129196166992\n",
      "3.9054319858551025\n",
      "3.883434534072876\n",
      "3.8620996475219727\n",
      "3.841392755508423\n",
      "3.8212811946868896\n",
      "3.8017351627349854\n",
      "3.7827277183532715\n",
      "3.7642338275909424\n",
      "3.7462308406829834\n",
      "3.728696823120117\n",
      "3.7116124629974365\n",
      "3.694960117340088\n",
      "3.6787240505218506\n",
      "3.662888288497925\n",
      "3.6474387645721436\n",
      "3.6323623657226562\n",
      "3.6176466941833496\n",
      "3.6032798290252686\n",
      "3.589250326156616\n"
     ]
    }
   ],
   "source": [
    "for _ in range(100):\n",
    "\n",
    "    # forward pass\n",
    "    emb = C[X] # (228146, 3, 2)\n",
    "    h = torch.tanh(emb.view(-1, 6) @ W1 + b1) # (32, 100)\n",
    "    logits = h @ W2 + b2 # (32, 27)\n",
    "\n",
    "    loss = F.cross_entropy(logits, Y)\n",
    "    print(loss.item())\n",
    "\n",
    "    # backward pass\n",
    "\n",
    "    for p in parameters:\n",
    "        p.grad = None\n",
    "    loss.backward()\n",
    "\n",
    "    # update parameters\n",
    "    for p in parameters:\n",
    "        p.data += -0.1 * p.grad"
   ]
  },
  {
   "cell_type": "markdown",
   "id": "b61c709a",
   "metadata": {},
   "source": [
    "1. Here we see, significant time taken for each epoch\n",
    "    - Which is due to us doing backprop once for entire data, which is big now.\n",
    "    - So we should think of trying **mini batch**\n",
    "        - We select some portion of dataset -> called **mini batch**\n",
    "            - Then do forward, backward and updates on that mini batch\n",
    "        - Repeat above for other portions (or mini batches)"
   ]
  },
  {
   "cell_type": "code",
   "execution_count": 59,
   "id": "d10207e0",
   "metadata": {},
   "outputs": [
    {
     "name": "stdout",
     "output_type": "stream",
     "text": [
      "Help on built-in function randint in module torch:\n",
      "\n",
      "randint(...)\n",
      "    randint(low=0, high, size, \\*, generator=None, out=None, dtype=None, layout=torch.strided, device=None, requires_grad=False) -> Tensor\n",
      "    \n",
      "    Returns a tensor filled with random integers generated uniformly\n",
      "    between :attr:`low` (inclusive) and :attr:`high` (exclusive).\n",
      "    \n",
      "    The shape of the tensor is defined by the variable argument :attr:`size`.\n",
      "    \n",
      "    .. note::\n",
      "        With the global dtype default (``torch.float32``), this function returns\n",
      "        a tensor with dtype ``torch.int64``.\n",
      "    \n",
      "    Args:\n",
      "        low (int, optional): Lowest integer to be drawn from the distribution. Default: 0.\n",
      "        high (int): One above the highest integer to be drawn from the distribution.\n",
      "        size (tuple): a tuple defining the shape of the output tensor.\n",
      "    \n",
      "    Keyword args:\n",
      "        generator (:class:`torch.Generator`, optional): a pseudorandom number generator for sampling\n",
      "        out (Tensor, optional): the output tensor.\n",
      "        dtype (`torch.dtype`, optional) - the desired data type of returned tensor. Default: if ``None``,\n",
      "            this function returns a tensor with dtype ``torch.int64``.\n",
      "        layout (:class:`torch.layout`, optional): the desired layout of returned Tensor.\n",
      "            Default: ``torch.strided``.\n",
      "        device (:class:`torch.device`, optional): the desired device of returned tensor.\n",
      "            Default: if ``None``, uses the current device for the default tensor type\n",
      "            (see :func:`torch.set_default_tensor_type`). :attr:`device` will be the CPU\n",
      "            for CPU tensor types and the current CUDA device for CUDA tensor types.\n",
      "        requires_grad (bool, optional): If autograd should record operations on the\n",
      "            returned tensor. Default: ``False``.\n",
      "    \n",
      "    Example::\n",
      "    \n",
      "        >>> torch.randint(3, 5, (3,))\n",
      "        tensor([4, 3, 4])\n",
      "    \n",
      "    \n",
      "        >>> torch.randint(10, (2, 2))\n",
      "        tensor([[0, 2],\n",
      "                [5, 5]])\n",
      "    \n",
      "    \n",
      "        >>> torch.randint(3, 10, (2, 2))\n",
      "        tensor([[4, 5],\n",
      "                [6, 7]])\n",
      "\n"
     ]
    }
   ],
   "source": [
    "help(torch.randint)"
   ]
  },
  {
   "cell_type": "code",
   "execution_count": 65,
   "id": "ebffd04c",
   "metadata": {},
   "outputs": [
    {
     "data": {
      "text/plain": [
       "tensor([9, 1, 5, 1, 3])"
      ]
     },
     "execution_count": 65,
     "metadata": {},
     "output_type": "execute_result"
    }
   ],
   "source": [
    "torch.randint(0, 10, size = (5,))"
   ]
  },
  {
   "cell_type": "code",
   "execution_count": 62,
   "id": "0eb7715d",
   "metadata": {},
   "outputs": [
    {
     "data": {
      "text/plain": [
       "tensor([104131, 110237, 222037, 146276,  41848,   1471,  37199, 124182,  21286,\n",
       "         14931, 107066,   1328,  82198, 161433, 221215,  99582,  89910,  41205,\n",
       "        216269, 213003, 226060,  99272, 212229,  79206, 184772, 129148,  62208,\n",
       "        216095,  60742,  99914, 210388, 171347])"
      ]
     },
     "execution_count": 62,
     "metadata": {},
     "output_type": "execute_result"
    }
   ],
   "source": [
    "torch.randint(0, X.shape[0], size=(32,))\n",
    "# getting tensor of 32 (which is our batch_size) integers between (0, number of samples in X)"
   ]
  },
  {
   "cell_type": "code",
   "execution_count": 63,
   "id": "39438c56",
   "metadata": {},
   "outputs": [],
   "source": [
    "g = torch.Generator().manual_seed(2147483647)\n",
    "C = torch.randn((27,2), generator = g)\n",
    "W1 = torch.randn((6,100), generator = g)\n",
    "b1 = torch.randn(100, generator = g)\n",
    "W2 = torch.randn((100,27), generator = g)\n",
    "b2 = torch.randn(27, generator = g)\n",
    "parameters = [C, W1, b1, W2, b2]\n",
    "\n",
    "for p in parameters:\n",
    "    p.requires_grad = True"
   ]
  },
  {
   "cell_type": "code",
   "execution_count": 68,
   "id": "7fe78ad4",
   "metadata": {},
   "outputs": [
    {
     "name": "stdout",
     "output_type": "stream",
     "text": [
      "2.88150954246521\n"
     ]
    }
   ],
   "source": [
    "for _ in range(5000):\n",
    "    \n",
    "    # minibatch construct\n",
    "    ix = torch.randint(0, X.shape[0], (32,))\n",
    "    \n",
    "    # forward pass\n",
    "    emb = C[X[ix]] # (32, 3, 2) again it becomes a batch of size 32\n",
    "    h = torch.tanh(emb.view(-1, 6) @ W1 + b1) # (32, 100)\n",
    "    logits = h @ W2 + b2 # (32, 27)\n",
    "\n",
    "    loss = F.cross_entropy(logits, Y[ix])\n",
    "#     print(loss.item())\n",
    "\n",
    "    # backward pass\n",
    "\n",
    "    for p in parameters:\n",
    "        p.grad = None\n",
    "    loss.backward()\n",
    "\n",
    "    # update parameters\n",
    "    for p in parameters:\n",
    "        p.data += -0.1 * p.grad\n",
    "        \n",
    "print(loss.item())"
   ]
  },
  {
   "cell_type": "code",
   "execution_count": 69,
   "id": "0b3bd28c",
   "metadata": {},
   "outputs": [
    {
     "data": {
      "text/plain": [
       "tensor(2.4967, grad_fn=<NllLossBackward0>)"
      ]
     },
     "execution_count": 69,
     "metadata": {},
     "output_type": "execute_result"
    }
   ],
   "source": [
    "emb = C[X]\n",
    "h = torch.tanh(emb.view(-1, 6) @ W1 + b1)\n",
    "logits = h @ W2 + b2\n",
    "loss = F.cross_entropy(logits, Y)\n",
    "\n",
    "loss # Looking at the loss on entire training data after some training"
   ]
  },
  {
   "cell_type": "markdown",
   "id": "a65794d9",
   "metadata": {},
   "source": [
    "1. But the training is much faster\n",
    "2. Now, due to minibatch, quality of our gradients is not as good\n",
    "    - coz, direction of gradient is not as good as when calculating over entire dataset\n",
    "    - **Meanwhile, in the start, the approximate direction with more steps (faster) is important than correct direction and lesser steps (slower)**"
   ]
  },
  {
   "cell_type": "markdown",
   "id": "07ab48e9",
   "metadata": {},
   "source": [
    "### Finding a decent Learning Rate"
   ]
  },
  {
   "cell_type": "code",
   "execution_count": 76,
   "id": "1513b0d8",
   "metadata": {},
   "outputs": [],
   "source": [
    "lre = torch.linspace(-3, 0, 1000) # learning rate exponents - will give 1000 mumbers b/w (-3, 0)\n",
    "lrs = 10**lre"
   ]
  },
  {
   "cell_type": "code",
   "execution_count": 78,
   "id": "a8badb46",
   "metadata": {},
   "outputs": [],
   "source": [
    "# lrs"
   ]
  },
  {
   "cell_type": "code",
   "execution_count": 88,
   "id": "8e9576f3",
   "metadata": {},
   "outputs": [],
   "source": [
    "g = torch.Generator().manual_seed(2147483647)\n",
    "C = torch.randn((27,2), generator = g)\n",
    "W1 = torch.randn((6,100), generator = g)\n",
    "b1 = torch.randn(100, generator = g)\n",
    "W2 = torch.randn((100,27), generator = g)\n",
    "b2 = torch.randn(27, generator = g)\n",
    "parameters = [C, W1, b1, W2, b2]\n",
    "\n",
    "for p in parameters:\n",
    "    p.requires_grad = True"
   ]
  },
  {
   "cell_type": "code",
   "execution_count": 89,
   "id": "bbd05f11",
   "metadata": {},
   "outputs": [],
   "source": [
    "lri = []\n",
    "lossi = []\n",
    "\n",
    "for i in range(1000):\n",
    "    \n",
    "    # minibatch construct\n",
    "    ix = torch.randint(0, X.shape[0], (32,))\n",
    "    \n",
    "    # forward pass\n",
    "    emb = C[X[ix]] # (32, 3, 2) again it becomes a batch of size 32\n",
    "    h = torch.tanh(emb.view(-1, 6) @ W1 + b1) # (32, 100)\n",
    "    logits = h @ W2 + b2 # (32, 27)\n",
    "\n",
    "    loss = F.cross_entropy(logits, Y[ix])\n",
    "#     print(loss.item())\n",
    "\n",
    "    # backward pass\n",
    "\n",
    "    for p in parameters:\n",
    "        p.grad = None\n",
    "    loss.backward()\n",
    "\n",
    "    # update parameters\n",
    "    lr = lrs[i]\n",
    "    for p in parameters:\n",
    "        p.data += -lr * p.grad\n",
    "        \n",
    "    # track stats\n",
    "    lri.append(lr)\n",
    "    lossi.append(loss.item())\n",
    "        \n",
    "# print(loss.item())"
   ]
  },
  {
   "cell_type": "code",
   "execution_count": 90,
   "id": "b8fc4a47",
   "metadata": {},
   "outputs": [
    {
     "data": {
      "text/plain": [
       "[<matplotlib.lines.Line2D at 0x7f369c7de520>]"
      ]
     },
     "execution_count": 90,
     "metadata": {},
     "output_type": "execute_result"
    },
    {
     "data": {
      "image/png": "[encoded data removed]",
      "text/plain": [
       "<Figure size 432x288 with 1 Axes>"
      ]
     },
     "metadata": {
      "needs_background": "light"
     },
     "output_type": "display_data"
    }
   ],
   "source": [
    "plt.plot(lri, lossi)"
   ]
  },
  {
   "cell_type": "code",
   "execution_count": 91,
   "id": "bb1b9fd6",
   "metadata": {},
   "outputs": [
    {
     "data": {
      "text/plain": [
       "[<matplotlib.lines.Line2D at 0x7f369c7e0700>]"
      ]
     },
     "execution_count": 91,
     "metadata": {},
     "output_type": "execute_result"
    },
    {
     "data": {
      "image/png": "[encoded data removed]",
      "text/plain": [
       "<Figure size 432x288 with 1 Axes>"
      ]
     },
     "metadata": {
      "needs_background": "light"
     },
     "output_type": "display_data"
    }
   ],
   "source": [
    "plt.plot(lre, lossi)"
   ]
  },
  {
   "cell_type": "markdown",
   "id": "ee0cd8a8",
   "metadata": {},
   "source": [
    "### These plots show --> Learning Rate around ~0.1 / LR exponent around -1 are getting best losses"
   ]
  },
  {
   "cell_type": "code",
   "execution_count": 101,
   "id": "d993c1c4",
   "metadata": {},
   "outputs": [],
   "source": [
    "g = torch.Generator().manual_seed(2147483647)\n",
    "C = torch.randn((27,2), generator = g)\n",
    "W1 = torch.randn((6,100), generator = g)\n",
    "b1 = torch.randn(100, generator = g)\n",
    "W2 = torch.randn((100,27), generator = g)\n",
    "b2 = torch.randn(27, generator = g)\n",
    "parameters = [C, W1, b1, W2, b2]\n",
    "\n",
    "for p in parameters:\n",
    "    p.requires_grad = True"
   ]
  },
  {
   "cell_type": "code",
   "execution_count": 104,
   "id": "c058b6f1",
   "metadata": {},
   "outputs": [
    {
     "name": "stdout",
     "output_type": "stream",
     "text": [
      "2.485614061355591\n"
     ]
    }
   ],
   "source": [
    "# lri = []\n",
    "# lossi = []\n",
    "\n",
    "for i in range(10000):\n",
    "    \n",
    "    # minibatch construct\n",
    "    ix = torch.randint(0, X.shape[0], (32,))\n",
    "    \n",
    "    # forward pass\n",
    "    emb = C[X[ix]] # (32, 3, 2) again it becomes a batch of size 32\n",
    "    h = torch.tanh(emb.view(-1, 6) @ W1 + b1) # (32, 100)\n",
    "    logits = h @ W2 + b2 # (32, 27)\n",
    "\n",
    "    loss = F.cross_entropy(logits, Y[ix])\n",
    "#     print(loss.item())\n",
    "\n",
    "    # backward pass\n",
    "\n",
    "    for p in parameters:\n",
    "        p.grad = None\n",
    "    loss.backward()\n",
    "\n",
    "    # update parameters\n",
    "#     lr = lrs[i]\n",
    "    lr = 0.1\n",
    "    for p in parameters:\n",
    "        p.data += -lr * p.grad\n",
    "        \n",
    "#     # track stats\n",
    "#     lri.append(lr)\n",
    "#     lossi.append(loss.item())\n",
    "        \n",
    "print(loss.item())"
   ]
  },
  {
   "cell_type": "code",
   "execution_count": 105,
   "id": "87797999",
   "metadata": {},
   "outputs": [
    {
     "data": {
      "text/plain": [
       "tensor(2.4274, grad_fn=<NllLossBackward0>)"
      ]
     },
     "execution_count": 105,
     "metadata": {},
     "output_type": "execute_result"
    }
   ],
   "source": [
    "emb = C[X]\n",
    "h = torch.tanh(emb.view(-1, 6) @ W1 + b1)\n",
    "logits = h @ W2 + b2\n",
    "loss = F.cross_entropy(logits, Y)\n",
    "\n",
    "loss # Looking at the loss on entire training data after some training"
   ]
  },
  {
   "cell_type": "markdown",
   "id": "00811b95",
   "metadata": {},
   "source": [
    "### We have surpassed bi-gram LM loss already, with around 40,000 epochs"
   ]
  },
  {
   "cell_type": "markdown",
   "id": "e6772323",
   "metadata": {},
   "source": [
    "#### Once the loss reduction slows down, we try WEIGHT DECAY"
   ]
  },
  {
   "cell_type": "code",
   "execution_count": 107,
   "id": "f5d5382b",
   "metadata": {},
   "outputs": [
    {
     "name": "stdout",
     "output_type": "stream",
     "text": [
      "2.4543616771698\n"
     ]
    }
   ],
   "source": [
    "for i in range(10000):\n",
    "    \n",
    "    # minibatch construct\n",
    "    ix = torch.randint(0, X.shape[0], (32,))\n",
    "    \n",
    "    # forward pass\n",
    "    emb = C[X[ix]] # (32, 3, 2) again it becomes a batch of size 32\n",
    "    h = torch.tanh(emb.view(-1, 6) @ W1 + b1) # (32, 100)\n",
    "    logits = h @ W2 + b2 # (32, 27)\n",
    "\n",
    "    loss = F.cross_entropy(logits, Y[ix])\n",
    "#     print(loss.item())\n",
    "\n",
    "    # backward pass\n",
    "\n",
    "    for p in parameters:\n",
    "        p.grad = None\n",
    "    loss.backward()\n",
    "\n",
    "    # update parameters\n",
    "    lr = 0.01\n",
    "    for p in parameters:\n",
    "        p.data += -lr * p.grad\n",
    "\n",
    "print(loss.item())"
   ]
  },
  {
   "cell_type": "code",
   "execution_count": 108,
   "id": "d7748df2",
   "metadata": {},
   "outputs": [
    {
     "data": {
      "text/plain": [
       "tensor(2.3535, grad_fn=<NllLossBackward0>)"
      ]
     },
     "execution_count": 108,
     "metadata": {},
     "output_type": "execute_result"
    }
   ],
   "source": [
    "emb = C[X] # (32, 3, 2) again it becomes a batch of size 32\n",
    "h = torch.tanh(emb.view(-1, 6) @ W1 + b1) # (32, 100)\n",
    "logits = h @ W2 + b2 # (32, 27)\n",
    "loss = F.cross_entropy(logits, Y)\n",
    "\n",
    "loss # Looking at the loss on entire training data after some training"
   ]
  },
  {
   "cell_type": "markdown",
   "id": "b86c96c8",
   "metadata": {},
   "source": [
    "This is summary of how things go in training a model\n",
    " - We find a decent learning rate to start with (do a bit of training)\n",
    " - Do WEIGHT DECAY (say by a factor of 10) - and train again for a bit\n",
    " \n",
    "And we have a trained model\n",
    "\n",
    "---"
   ]
  },
  {
   "cell_type": "markdown",
   "id": "49213d03",
   "metadata": {},
   "source": [
    "### Moving on to train / test splits"
   ]
  },
  {
   "cell_type": "markdown",
   "id": "b81f2f8d",
   "metadata": {},
   "source": [
    "1. Above we had neural net with only ~4000 parameters, but as we go along and our parameters scale up\n",
    "    - The overfitting chances skyrocket (if data is not too big)\n",
    "        - Therefore, the very low **loss** on train data will not imply good performance\n",
    "            - Instead, it would mean the model started memorizing the data\n",
    "2. To remedy this, we has to have a held out set to evaluate performance of our models post training.\n",
    "    - training split, dev/validation split, test split\n",
    "        - 80%, 10%, 10%\n",
    "3. **Training split** - is to train the model parameters\n",
    "4. **Dev/validation split** - to train model hyper-parameters\n",
    "5. **Test split** - to test model performance\n",
    "    - But we must **NOT** evaluate loss of the model on **test split** frequently.\n",
    "        - Coz everytime you evaluate on test split and learn something from it\n",
    "            - then the model starts learning from this data as well"
   ]
  },
  {
   "cell_type": "code",
   "execution_count": 109,
   "id": "21bed6bd",
   "metadata": {},
   "outputs": [
    {
     "name": "stdout",
     "output_type": "stream",
     "text": [
      "torch.Size([182625, 3]) torch.Size([182625])\n",
      "torch.Size([22655, 3]) torch.Size([22655])\n",
      "torch.Size([22866, 3]) torch.Size([22866])\n"
     ]
    }
   ],
   "source": [
    "def build_dataset(words):\n",
    "\n",
    "    block_size = 3 # context length: how many characters do we take to predict teh next one\n",
    "    X, Y = [], []\n",
    "    for w in words:\n",
    "        context = [0] * block_size # padding with .'s of block_size count\n",
    "        for ch in w + '.':\n",
    "            ix = stoi[ch]\n",
    "            X.append(context)\n",
    "            Y.append(ix)\n",
    "    #         print(''.join(itos[i] for i in context), '----->', itos[ix])\n",
    "            context = context[1:] + [ix] # crop & append\n",
    "\n",
    "    X = torch.tensor(X)\n",
    "    Y = torch.tensor(Y)\n",
    "    print(X.shape, Y.shape)\n",
    "    return X,Y\n",
    "\n",
    "import random\n",
    "random.seed(42)\n",
    "random.shuffle(words)\n",
    "n1 = int(0.8 * len(words))\n",
    "n2 = int(0.9 * len(words))\n",
    "\n",
    "Xtr, Ytr = build_dataset(words[:n1])\n",
    "Xdev, Ydev = build_dataset(words[n1:n2])\n",
    "Xte, Yte = build_dataset(words[n2:])"
   ]
  },
  {
   "cell_type": "code",
   "execution_count": 118,
   "id": "f38700be",
   "metadata": {},
   "outputs": [],
   "source": [
    "g = torch.Generator().manual_seed(2147483647)\n",
    "C = torch.randn((27,2), generator = g)\n",
    "W1 = torch.randn((6,300), generator = g)\n",
    "b1 = torch.randn(300, generator = g)\n",
    "W2 = torch.randn((300,27), generator = g)\n",
    "b2 = torch.randn(27, generator = g)\n",
    "parameters = [C, W1, b1, W2, b2]"
   ]
  },
  {
   "cell_type": "code",
   "execution_count": 119,
   "id": "71e46319",
   "metadata": {},
   "outputs": [
    {
     "data": {
      "text/plain": [
       "10281"
      ]
     },
     "execution_count": 119,
     "metadata": {},
     "output_type": "execute_result"
    }
   ],
   "source": [
    "# Total parameters in model\n",
    "sum(p.nelement() for p in parameters)"
   ]
  },
  {
   "cell_type": "code",
   "execution_count": 120,
   "id": "dafae578",
   "metadata": {},
   "outputs": [],
   "source": [
    "for p in parameters:\n",
    "    p.requires_grad = True"
   ]
  },
  {
   "cell_type": "code",
   "execution_count": 139,
   "id": "f94c54a1",
   "metadata": {},
   "outputs": [],
   "source": [
    "lri = []\n",
    "lossi = []\n",
    "stepi = []\n",
    "\n",
    "for i in range(30000):\n",
    "    \n",
    "    # minibatch construct\n",
    "    ix = torch.randint(0, Xtr.shape[0], (32,))\n",
    "    \n",
    "    # forward pass\n",
    "    emb = C[Xtr[ix]] # (32, 3, 2) again it becomes a batch of size 32\n",
    "    h = torch.tanh(emb.view(-1, 6) @ W1 + b1) # (32, 100)\n",
    "    logits = h @ W2 + b2 # (32, 27)\n",
    "\n",
    "    loss = F.cross_entropy(logits, Ytr[ix])\n",
    "    #print(loss.item())\n",
    "\n",
    "    # backward pass\n",
    "\n",
    "    for p in parameters:\n",
    "        p.grad = None\n",
    "    loss.backward()\n",
    "\n",
    "    # update parameters\n",
    "    lr = 0.01\n",
    "    for p in parameters:\n",
    "        p.data += -lr * p.grad\n",
    "    \n",
    "    # track stats\n",
    "    stepi.append(i)\n",
    "    lossi.append(loss.item())\n",
    "        \n",
    "# print(loss.item())"
   ]
  },
  {
   "cell_type": "code",
   "execution_count": 140,
   "id": "c3cce418",
   "metadata": {},
   "outputs": [
    {
     "data": {
      "text/plain": [
       "[<matplotlib.lines.Line2D at 0x7f369b65b700>]"
      ]
     },
     "execution_count": 140,
     "metadata": {},
     "output_type": "execute_result"
    },
    {
     "data": {
      "image/png": "[encoded data removed]",
      "text/plain": [
       "<Figure size 432x288 with 1 Axes>"
      ]
     },
     "metadata": {
      "needs_background": "light"
     },
     "output_type": "display_data"
    }
   ],
   "source": [
    "plt.plot(stepi, lossi)"
   ]
  },
  {
   "cell_type": "code",
   "execution_count": 141,
   "id": "c0e2d02b",
   "metadata": {},
   "outputs": [
    {
     "data": {
      "text/plain": [
       "tensor(2.2288, grad_fn=<NllLossBackward0>)"
      ]
     },
     "execution_count": 141,
     "metadata": {},
     "output_type": "execute_result"
    }
   ],
   "source": [
    "emb = C[Xtr] # (32, 3, 2) again it becomes a batch of size 32\n",
    "h = torch.tanh(emb.view(-1, 6) @ W1 + b1) # (32, 100)\n",
    "logits = h @ W2 + b2 # (32, 27)\n",
    "loss = F.cross_entropy(logits, Ytr)\n",
    "\n",
    "loss # Looking at the loss on entire training data after some training"
   ]
  },
  {
   "cell_type": "code",
   "execution_count": 142,
   "id": "728e65b7",
   "metadata": {},
   "outputs": [
    {
     "data": {
      "text/plain": [
       "tensor(2.2382, grad_fn=<NllLossBackward0>)"
      ]
     },
     "execution_count": 142,
     "metadata": {},
     "output_type": "execute_result"
    }
   ],
   "source": [
    "emb = C[Xdev] # (32, 3, 2) again it becomes a batch of size 32\n",
    "h = torch.tanh(emb.view(-1, 6) @ W1 + b1) # (32, 100)\n",
    "logits = h @ W2 + b2 # (32, 27)\n",
    "loss = F.cross_entropy(logits, Ydev)\n",
    "\n",
    "loss # Looking at the loss on entire training data after some training"
   ]
  },
  {
   "cell_type": "markdown",
   "id": "b77ed6c6",
   "metadata": {},
   "source": [
    "### Before moving on to address the bottleneck of low dimensions of embeddings\n",
    "    - Let's visualize the embeddings in 2-d"
   ]
  },
  {
   "cell_type": "code",
   "execution_count": 143,
   "id": "4f6248a8",
   "metadata": {},
   "outputs": [
    {
     "data": {
      "image/png": "[encoded data removed]",
      "text/plain": [
       "<Figure size 576x576 with 1 Axes>"
      ]
     },
     "metadata": {
      "needs_background": "light"
     },
     "output_type": "display_data"
    }
   ],
   "source": [
    "import matplotlib.pyplot as plt\n",
    "plt.figure(figsize=(8,8))\n",
    "plt.scatter(C[:,0].data, C[:,1].data, s=200)\n",
    "for i in range(C.shape[0]):\n",
    "    plt.text(C[i,0].item(), C[i,1].item(), itos[i], ha='center', va='center', color='white')\n",
    "plt.grid('minor')"
   ]
  },
  {
   "cell_type": "markdown",
   "id": "5a6e664d",
   "metadata": {},
   "source": [
    "### Now let's try with more number of embedding dimensions"
   ]
  },
  {
   "cell_type": "code",
   "execution_count": 144,
   "id": "4ecb4109",
   "metadata": {},
   "outputs": [
    {
     "data": {
      "text/plain": [
       "18167"
      ]
     },
     "execution_count": 144,
     "metadata": {},
     "output_type": "execute_result"
    }
   ],
   "source": [
    "C = torch.randn((27, 20), generator=g)\n",
    "W1 = torch.randn((60, 200), generator=g)\n",
    "b1 = torch.randn(200, generator=g)\n",
    "W2 = torch.randn((200, 27), generator=g)\n",
    "b2 = torch.randn(27, generator=g)\n",
    "parameters = [C, W1, b1, W2, b2]\n",
    "\n",
    "sum(p.nelement() for p in parameters)"
   ]
  },
  {
   "cell_type": "code",
   "execution_count": 145,
   "id": "3b2f0f8b",
   "metadata": {},
   "outputs": [],
   "source": [
    "for p in parameters:\n",
    "    p.requires_grad = True"
   ]
  },
  {
   "cell_type": "code",
   "execution_count": 146,
   "id": "a67d92fe",
   "metadata": {},
   "outputs": [],
   "source": [
    "lri = []\n",
    "lossi = []\n",
    "stepi = []"
   ]
  },
  {
   "cell_type": "code",
   "execution_count": 151,
   "id": "b3bb6f29",
   "metadata": {},
   "outputs": [],
   "source": [
    "for i in range(200000):\n",
    "    \n",
    "    # minibatch construct\n",
    "    ix = torch.randint(0, Xtr.shape[0], (64,))\n",
    "    \n",
    "    # forward pass\n",
    "    emb = C[Xtr[ix]] # (32, 3, 10)\n",
    "    h = torch.tanh(emb.view(-1, 60) @ W1 +b1) # (32, 200)\n",
    "    logits = h @ W2 + b2 # (32, 27)\n",
    "    loss = F.cross_entropy(logits, Ytr[ix])\n",
    "    # print(loss.item())\n",
    "    \n",
    "    # backward pass\n",
    "    for p in parameters:\n",
    "        p.grad = None\n",
    "    loss.backward()\n",
    "    \n",
    "    # update\n",
    "#     lr = 0.01\n",
    "    lr = 0.1 if i < 100000 else 0.01\n",
    "    for p in parameters:\n",
    "        p.data += -lr * p.grad\n",
    "    \n",
    "    # track stats\n",
    "    stepi.append(i)\n",
    "    lossi.append(loss.log10().item())\n",
    "    # we are using log10 here to squash the hockey stick appearance of plot; prints log-loss"
   ]
  },
  {
   "cell_type": "code",
   "execution_count": 152,
   "id": "ae11662e",
   "metadata": {},
   "outputs": [
    {
     "data": {
      "text/plain": [
       "[<matplotlib.lines.Line2D at 0x7f369b787a90>]"
      ]
     },
     "execution_count": 152,
     "metadata": {},
     "output_type": "execute_result"
    },
    {
     "data": {
      "image/png": "[encoded data removed]",
      "text/plain": [
       "<Figure size 432x288 with 1 Axes>"
      ]
     },
     "metadata": {
      "needs_background": "light"
     },
     "output_type": "display_data"
    }
   ],
   "source": [
    "plt.plot(stepi, lossi)"
   ]
  },
  {
   "cell_type": "code",
   "execution_count": 153,
   "id": "310e8351",
   "metadata": {},
   "outputs": [
    {
     "data": {
      "text/plain": [
       "tensor(2.0208, grad_fn=<NllLossBackward0>)"
      ]
     },
     "execution_count": 153,
     "metadata": {},
     "output_type": "execute_result"
    }
   ],
   "source": [
    "# Loss over training set\n",
    "\n",
    "emb = C[Xtr] # (32, 3, 2) again it becomes a batch of size 32\n",
    "h = torch.tanh(emb.view(-1, 60) @ W1 + b1) # (32, 100)\n",
    "logits = h @ W2 + b2 # (32, 27)\n",
    "loss = F.cross_entropy(logits, Ytr)\n",
    "\n",
    "loss # Looking at the loss on entire training data after some training"
   ]
  },
  {
   "cell_type": "code",
   "execution_count": 154,
   "id": "4f0263e2",
   "metadata": {},
   "outputs": [
    {
     "data": {
      "text/plain": [
       "tensor(2.1215, grad_fn=<NllLossBackward0>)"
      ]
     },
     "execution_count": 154,
     "metadata": {},
     "output_type": "execute_result"
    }
   ],
   "source": [
    "# Loss over dev set\n",
    "\n",
    "emb = C[Xdev] # (32, 3, 2) again it becomes a batch of size 32\n",
    "h = torch.tanh(emb.view(-1, 60) @ W1 + b1) # (32, 100)\n",
    "logits = h @ W2 + b2 # (32, 27)\n",
    "loss = F.cross_entropy(logits, Ydev)\n",
    "\n",
    "loss # Looking at the loss on entire training data after some training"
   ]
  },
  {
   "cell_type": "code",
   "execution_count": null,
   "id": "2cc91c83",
   "metadata": {},
   "outputs": [],
   "source": []
  }
 ],
 "metadata": {
  "kernelspec": {
   "display_name": "Python 3 (ipykernel)",
   "language": "python",
   "name": "python3"
  },
  "language_info": {
   "codemirror_mode": {
    "name": "ipython",
    "version": 3
   },
   "file_extension": ".py",
   "mimetype": "text/x-python",
   "name": "python",
   "nbconvert_exporter": "python",
   "pygments_lexer": "ipython3",
   "version": "3.9.13"
  }
 },
 "nbformat": 4,
 "nbformat_minor": 5
}
