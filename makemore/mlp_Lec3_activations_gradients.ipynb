{
 "cells": [
  {
   "cell_type": "code",
   "execution_count": 1,
   "id": "43089d5e",
   "metadata": {},
   "outputs": [],
   "source": [
    "import torch\n",
    "import torch.nn.functional as F\n",
    "import matplotlib.pyplot as plt\n",
    "%matplotlib inline"
   ]
  },
  {
   "cell_type": "code",
   "execution_count": 2,
   "id": "59a11570",
   "metadata": {},
   "outputs": [
    {
     "data": {
      "text/plain": [
       "['emma', 'olivia', 'ava', 'isabella', 'sophia']"
      ]
     },
     "execution_count": 2,
     "metadata": {},
     "output_type": "execute_result"
    }
   ],
   "source": [
    "words = open('names.txt', 'r').read().splitlines()\n",
    "words[:5]"
   ]
  },
  {
   "cell_type": "code",
   "execution_count": 3,
   "id": "5e59b0d6",
   "metadata": {},
   "outputs": [
    {
     "data": {
      "text/plain": [
       "32033"
      ]
     },
     "execution_count": 3,
     "metadata": {},
     "output_type": "execute_result"
    }
   ],
   "source": [
    "len(words)"
   ]
  },
  {
   "cell_type": "code",
   "execution_count": 4,
   "id": "6380da7f",
   "metadata": {},
   "outputs": [
    {
     "name": "stdout",
     "output_type": "stream",
     "text": [
      "{1: 'a', 2: 'b', 3: 'c', 4: 'd', 5: 'e', 6: 'f', 7: 'g', 8: 'h', 9: 'i', 10: 'j', 11: 'k', 12: 'l', 13: 'm', 14: 'n', 15: 'o', 16: 'p', 17: 'q', 18: 'r', 19: 's', 20: 't', 21: 'u', 22: 'v', 23: 'w', 24: 'x', 25: 'y', 26: 'z', 0: '.'}\n"
     ]
    }
   ],
   "source": [
    "# build vocab of characters & integers\n",
    "\n",
    "chars = sorted(list(set(''.join(words))))\n",
    "stoi = {s:i+1 for i,s in enumerate(chars)}\n",
    "stoi['.'] = 0\n",
    "itos = {i:s for s,i in stoi.items()}\n",
    "vocab_size = len(itos)\n",
    "print(itos)"
   ]
  },
  {
   "cell_type": "code",
   "execution_count": 5,
   "id": "a7730ccf",
   "metadata": {},
   "outputs": [
    {
     "name": "stdout",
     "output_type": "stream",
     "text": [
      "torch.Size([182625, 3]) torch.Size([182625])\n",
      "torch.Size([22655, 3]) torch.Size([22655])\n",
      "torch.Size([22866, 3]) torch.Size([22866])\n"
     ]
    }
   ],
   "source": [
    "# build the dataset\n",
    "\n",
    "block_size = 3 # context length: how many characters do we take to predict the next one?\n",
    "\n",
    "def build_dataset(words):\n",
    "    X, Y = [], []\n",
    "    for w in words:\n",
    "        context = [0] * block_size\n",
    "        for ch in w + '.':\n",
    "            ix = stoi[ch]\n",
    "            X.append(context)\n",
    "            Y.append(ix)\n",
    "\n",
    "            context = context[1:] + [ix]\n",
    "    X = torch.tensor(X)\n",
    "    Y = torch.tensor(Y)\n",
    "    print(X.shape, Y.shape)\n",
    "    return X, Y\n",
    "\n",
    "\n",
    "import random\n",
    "random.seed(42)\n",
    "random.shuffle(words)\n",
    "\n",
    "n1 = int(0.8 * len(words))\n",
    "n2 = int(0.9 * len(words))\n",
    "\n",
    "Xtr, Ytr = build_dataset(words[:n1])\n",
    "Xdev, Ydev = build_dataset(words[n1:n2])\n",
    "Xte, Yte = build_dataset(words[n2:])"
   ]
  },
  {
   "cell_type": "code",
   "execution_count": 6,
   "id": "e9646cde",
   "metadata": {},
   "outputs": [],
   "source": [
    "n_embd = 20\n",
    "n_hidden = 200\n",
    "\n",
    "batch_size = 32\n",
    "max_steps = 200000"
   ]
  },
  {
   "cell_type": "markdown",
   "id": "8102bdce",
   "metadata": {},
   "source": [
    "---"
   ]
  },
  {
   "cell_type": "code",
   "execution_count": 7,
   "id": "b243a9a3",
   "metadata": {},
   "outputs": [
    {
     "data": {
      "text/plain": [
       "18167"
      ]
     },
     "execution_count": 7,
     "metadata": {},
     "output_type": "execute_result"
    }
   ],
   "source": [
    "# initializing parameters\n",
    "\n",
    "g = torch.Generator().manual_seed(2147483647)\n",
    "C = torch.randn((vocab_size, n_embd),             generator=g)\n",
    "W1 = torch.randn((n_embd * block_size, n_hidden), generator=g)\n",
    "b1 = torch.randn(n_hidden,                        generator=g)\n",
    "W2 = torch.randn((n_hidden, vocab_size),          generator=g)\n",
    "b2 = torch.randn(vocab_size,                      generator=g)\n",
    "\n",
    "parameters = [C, W1, b1, W2, b2]\n",
    "\n",
    "for p in parameters:\n",
    "    p.requires_grad = True\n",
    "\n",
    "sum(p.nelement() for p in parameters)"
   ]
  },
  {
   "cell_type": "code",
   "execution_count": 8,
   "id": "a265515b",
   "metadata": {},
   "outputs": [],
   "source": [
    "lri = []\n",
    "lossi = []"
   ]
  },
  {
   "cell_type": "code",
   "execution_count": 9,
   "id": "0014c98f",
   "metadata": {},
   "outputs": [
    {
     "name": "stdout",
     "output_type": "stream",
     "text": [
      "      0/ 200000: 27.6236\n",
      "  10000/ 200000: 2.3586\n",
      "  20000/ 200000: 3.3906\n",
      "  30000/ 200000: 2.2856\n",
      "  40000/ 200000: 2.3958\n",
      "  50000/ 200000: 2.6770\n",
      "  60000/ 200000: 2.7533\n",
      "  70000/ 200000: 2.5031\n",
      "  80000/ 200000: 2.0340\n",
      "  90000/ 200000: 2.1700\n",
      " 100000/ 200000: 1.8479\n",
      " 110000/ 200000: 2.1497\n",
      " 120000/ 200000: 1.9937\n",
      " 130000/ 200000: 2.3109\n",
      " 140000/ 200000: 2.2523\n",
      " 150000/ 200000: 2.0581\n",
      " 160000/ 200000: 2.2567\n",
      " 170000/ 200000: 2.3063\n",
      " 180000/ 200000: 1.7550\n",
      " 190000/ 200000: 1.8847\n"
     ]
    }
   ],
   "source": [
    "for i in range(max_steps):\n",
    "    \n",
    "    # minibatch construct\n",
    "    ix = torch.randint(0, Xtr.shape[0], (batch_size,), generator=g)\n",
    "    Xb, Yb = Xtr[ix], Ytr[ix]\n",
    "    \n",
    "    # forward pass\n",
    "    emb = C[Xb]\n",
    "    embcat = emb.view(emb.shape[0], -1)\n",
    "    h = torch.tanh(embcat @ W1 + b1)\n",
    "    logits = h @ W2 + b2\n",
    "    loss = F.cross_entropy(logits, Yb)\n",
    "    \n",
    "    # backward pass\n",
    "    for p in parameters:\n",
    "        p.grad = None\n",
    "    loss.backward()\n",
    "    \n",
    "    # update\n",
    "    lr = 0.1 if i < 100000 else 0.01\n",
    "    for p in parameters:\n",
    "        p.data += -lr * p.grad\n",
    "    \n",
    "    # track stats\n",
    "    if i % 10000 == 0:\n",
    "        print(f'{i:7d}/{max_steps:7d}: {loss.item():.4f}')\n",
    "    lossi.append(loss.log10().item())"
   ]
  },
  {
   "cell_type": "code",
   "execution_count": 10,
   "id": "77b580a7",
   "metadata": {},
   "outputs": [
    {
     "data": {
      "text/plain": [
       "[<matplotlib.lines.Line2D at 0x7f88609db550>]"
      ]
     },
     "execution_count": 10,
     "metadata": {},
     "output_type": "execute_result"
    },
    {
     "data": {
      "image/png": "[encoded data removed]",
      "text/plain": [
       "<Figure size 640x480 with 1 Axes>"
      ]
     },
     "metadata": {},
     "output_type": "display_data"
    }
   ],
   "source": [
    "plt.plot(lossi)"
   ]
  },
  {
   "cell_type": "code",
   "execution_count": 11,
   "id": "492016be",
   "metadata": {},
   "outputs": [
    {
     "name": "stdout",
     "output_type": "stream",
     "text": [
      "train 2.0683655738830566\n",
      "val 2.149495840072632\n"
     ]
    }
   ],
   "source": [
    "@torch.no_grad() # this decorator disables gradient tracking\n",
    "def split_loss(split):\n",
    "    x,y = {\n",
    "        'train': (Xtr, Ytr),\n",
    "        'val': (Xdev, Ydev),\n",
    "        'test': (Xte, Yte)\n",
    "    }[split]\n",
    "    \n",
    "    emb = C[x]\n",
    "    embcat = emb.view(emb.shape[0], -1)\n",
    "    h = torch.tanh(embcat @ W1 + b1)\n",
    "    logits = h @ W2 + b2\n",
    "    loss = F.cross_entropy(logits, y)\n",
    "    print(split, loss.item())\n",
    "\n",
    "split_loss('train')\n",
    "split_loss('val')"
   ]
  },
  {
   "cell_type": "code",
   "execution_count": 12,
   "id": "a8277457",
   "metadata": {},
   "outputs": [
    {
     "name": "stdout",
     "output_type": "stream",
     "text": [
      "chriah.\n",
      "amelle.\n",
      "khi.\n",
      "mili.\n",
      "thiyah.\n",
      "cassie.\n",
      "mahnen.\n",
      "deliah.\n",
      "jareei.\n",
      "ner.\n",
      "kia.\n",
      "chaiiv.\n",
      "kaleigh.\n",
      "ham.\n",
      "por.\n",
      "desian.\n",
      "shon.\n",
      "wai.\n",
      "adii.\n",
      "wazell.\n"
     ]
    }
   ],
   "source": [
    "# sample from the model\n",
    "\n",
    "g = torch.Generator().manual_seed(2147483647 + 10)\n",
    "\n",
    "for _ in range(20):\n",
    "    \n",
    "    out = []\n",
    "    context = [0] * block_size # initialize with all ...\n",
    "    while True:\n",
    "      emb = C[torch.tensor([context])] # (1,block_size,d)\n",
    "      h = torch.tanh(emb.view(1, -1) @ W1 + b1)\n",
    "      logits = h @ W2 + b2\n",
    "      probs = F.softmax(logits, dim=1)\n",
    "      ix = torch.multinomial(probs, num_samples=1, generator=g).item()\n",
    "      context = context[1:] + [ix]\n",
    "      out.append(ix)\n",
    "      if ix == 0:\n",
    "        break\n",
    "    \n",
    "    print(''.join(itos[i] for i in out))"
   ]
  },
  {
   "cell_type": "markdown",
   "id": "2bf968ac",
   "metadata": {},
   "source": [
    "### Here we get slightly better val loss than in last notebook\n",
    "    - Coz, W2 squashed by a factor of 0.01"
   ]
  },
  {
   "cell_type": "markdown",
   "id": "befd0045",
   "metadata": {},
   "source": [
    "# Problem 1: Analyzing BIG initial loss"
   ]
  },
  {
   "cell_type": "markdown",
   "id": "2c586357",
   "metadata": {},
   "source": [
    "## You could get a feel that these parameters are POORLY initialized\n",
    "    - Coz, the loss abruptly starts from 27, and immediately comes around 1 or 2."
   ]
  },
  {
   "cell_type": "markdown",
   "id": "41a9b804",
   "metadata": {},
   "source": [
    "1. In neural networks, we should usually have idea of what **LOSS** to expect when starting training.\n",
    "### Initially, we want to start where all our outcomes are equally likely\n",
    "    - i.e., all 27 characters are equally likely\n",
    "    - Means, 1/27 would be the approx value of logits\n",
    "    - Logits coming out initially:\n",
    "        - Need not be all low, they should initially be approx **equal**\n",
    "            - It'll make the loss in below ballpark"
   ]
  },
  {
   "cell_type": "code",
   "execution_count": 13,
   "id": "3c20884e",
   "metadata": {},
   "outputs": [
    {
     "data": {
      "text/plain": [
       "tensor(3.2958)"
      ]
     },
     "execution_count": 13,
     "metadata": {},
     "output_type": "execute_result"
    }
   ],
   "source": [
    "# Therefore, the initial loss must be somewhere around\n",
    "-(torch.tensor(1/27.)).log()"
   ]
  },
  {
   "cell_type": "markdown",
   "id": "6a69380c",
   "metadata": {},
   "source": [
    "### Let's try to look into initial logits from out training code"
   ]
  },
  {
   "cell_type": "code",
   "execution_count": 14,
   "id": "c6abffbf",
   "metadata": {},
   "outputs": [
    {
     "data": {
      "text/plain": [
       "18167"
      ]
     },
     "execution_count": 14,
     "metadata": {},
     "output_type": "execute_result"
    }
   ],
   "source": [
    "# initializing parameters\n",
    "\n",
    "g = torch.Generator().manual_seed(2147483647)\n",
    "C = torch.randn((vocab_size, n_embd),             generator=g)\n",
    "W1 = torch.randn((n_embd * block_size, n_hidden), generator=g)\n",
    "b1 = torch.randn(n_hidden,                        generator=g)\n",
    "W2 = torch.randn((n_hidden, vocab_size),          generator=g)\n",
    "b2 = torch.randn(vocab_size,                      generator=g)\n",
    "\n",
    "parameters = [C, W1, b1, W2, b2]\n",
    "\n",
    "for p in parameters:\n",
    "    p.requires_grad = True\n",
    "\n",
    "sum(p.nelement() for p in parameters)"
   ]
  },
  {
   "cell_type": "code",
   "execution_count": 15,
   "id": "eb62a347",
   "metadata": {},
   "outputs": [],
   "source": [
    "lri = []\n",
    "lossi = []"
   ]
  },
  {
   "cell_type": "code",
   "execution_count": 16,
   "id": "b6417a3c",
   "metadata": {},
   "outputs": [
    {
     "name": "stdout",
     "output_type": "stream",
     "text": [
      "      0/ 200000: 27.6236\n"
     ]
    }
   ],
   "source": [
    "for i in range(max_steps):\n",
    "    \n",
    "    # minibatch construct\n",
    "    ix = torch.randint(0, Xtr.shape[0], (batch_size,), generator=g)\n",
    "    Xb, Yb = Xtr[ix], Ytr[ix]\n",
    "    \n",
    "    # forward pass\n",
    "    emb = C[Xb]\n",
    "    embcat = emb.view(emb.shape[0], -1)\n",
    "    h = torch.tanh(embcat @ W1 + b1)\n",
    "    logits = h @ W2 + b2\n",
    "    loss = F.cross_entropy(logits, Yb)\n",
    "    \n",
    "    # backward pass\n",
    "    for p in parameters:\n",
    "        p.grad = None\n",
    "    loss.backward()\n",
    "    \n",
    "    # update\n",
    "    lr = 0.1 if i < 100000 else 0.01\n",
    "    for p in parameters:\n",
    "        p.data += -lr * p.grad\n",
    "    \n",
    "    # track stats\n",
    "    if i % 10000 == 0:\n",
    "        print(f'{i:7d}/{max_steps:7d}: {loss.item():.4f}')\n",
    "    lossi.append(loss.log10().item())\n",
    "    \n",
    "    break"
   ]
  },
  {
   "cell_type": "code",
   "execution_count": 17,
   "id": "aac1a91e",
   "metadata": {},
   "outputs": [
    {
     "data": {
      "text/plain": [
       "tensor([  1.9399, -15.0631,  -4.6819,   7.2973,   5.4393, -28.7860,   3.2927,\n",
       "         -9.0707,  -4.3792,  -6.7343,   4.3704,  15.6032,  -4.8591,  18.9556,\n",
       "         -1.1279,   8.9634,  12.0877,   4.5551, -10.7433,   7.4244,   4.8697,\n",
       "        -11.6449,   4.1232,   0.5606,   6.0747,  12.0631,  -5.7886],\n",
       "       grad_fn=<SelectBackward0>)"
      ]
     },
     "execution_count": 17,
     "metadata": {},
     "output_type": "execute_result"
    }
   ],
   "source": [
    "logits[0]"
   ]
  },
  {
   "cell_type": "markdown",
   "id": "e7f69d06",
   "metadata": {},
   "source": [
    "### See the logits are taking extreme values on both sides,\n",
    "    - Which are gives network fake confidence in wrong predictions\n",
    "\n",
    "## Therefore, very very high loss"
   ]
  },
  {
   "cell_type": "markdown",
   "id": "c022e145",
   "metadata": {},
   "source": [
    "### We need logits much much closer to '0'\n",
    "    - logits = h @ W2 + b2\n",
    "    - we have b2 & W2 randomly initialized\n",
    "        - Coz, we want nearly 0, we don't want to be adding any bias terms\n",
    "            - make b2 ---> 0\n",
    "    - Also to get logits close to 0, we want W2 very very small"
   ]
  },
  {
   "cell_type": "code",
   "execution_count": 18,
   "id": "41bf8238",
   "metadata": {},
   "outputs": [
    {
     "data": {
      "text/plain": [
       "18167"
      ]
     },
     "execution_count": 18,
     "metadata": {},
     "output_type": "execute_result"
    }
   ],
   "source": [
    "# initializing parameters\n",
    "\n",
    "g = torch.Generator().manual_seed(2147483647)\n",
    "C = torch.randn((vocab_size, n_embd),             generator=g)\n",
    "W1 = torch.randn((n_embd * block_size, n_hidden), generator=g)\n",
    "b1 = torch.randn(n_hidden,                        generator=g)\n",
    "W2 = torch.randn((n_hidden, vocab_size),          generator=g) * 0.01\n",
    "b2 = torch.randn(vocab_size,                      generator=g) * 0\n",
    "\n",
    "parameters = [C, W1, b1, W2, b2]\n",
    "\n",
    "for p in parameters:\n",
    "    p.requires_grad = True\n",
    "\n",
    "sum(p.nelement() for p in parameters)"
   ]
  },
  {
   "cell_type": "code",
   "execution_count": 19,
   "id": "64f97630",
   "metadata": {},
   "outputs": [],
   "source": [
    "lri = []\n",
    "lossi = []"
   ]
  },
  {
   "cell_type": "code",
   "execution_count": 20,
   "id": "934548e2",
   "metadata": {},
   "outputs": [
    {
     "name": "stdout",
     "output_type": "stream",
     "text": [
      "      0/ 200000: 3.3006\n"
     ]
    }
   ],
   "source": [
    "for i in range(max_steps):\n",
    "    \n",
    "    # minibatch construct\n",
    "    ix = torch.randint(0, Xtr.shape[0], (batch_size,), generator=g)\n",
    "    Xb, Yb = Xtr[ix], Ytr[ix]\n",
    "    \n",
    "    # forward pass\n",
    "    emb = C[Xb]\n",
    "    embcat = emb.view(emb.shape[0], -1)\n",
    "    h = torch.tanh(embcat @ W1 + b1)\n",
    "    logits = h @ W2 + b2\n",
    "    loss = F.cross_entropy(logits, Yb)\n",
    "    \n",
    "    # backward pass\n",
    "    for p in parameters:\n",
    "        p.grad = None\n",
    "    loss.backward()\n",
    "    \n",
    "    # update\n",
    "    lr = 0.1 if i < 100000 else 0.01\n",
    "    for p in parameters:\n",
    "        p.data += -lr * p.grad\n",
    "    \n",
    "    # track stats\n",
    "    if i % 10000 == 0:\n",
    "        print(f'{i:7d}/{max_steps:7d}: {loss.item():.4f}')\n",
    "    lossi.append(loss.log10().item())\n",
    "    \n",
    "    break"
   ]
  },
  {
   "cell_type": "markdown",
   "id": "2e0a6380",
   "metadata": {},
   "source": [
    "#### -------------->> We can see in very first iteration, loss is very low now (as compared to 32) <<--------------"
   ]
  },
  {
   "cell_type": "code",
   "execution_count": 21,
   "id": "736092a9",
   "metadata": {},
   "outputs": [
    {
     "data": {
      "text/plain": [
       "tensor([ 0.0223, -0.1616, -0.0419,  0.0881,  0.0624, -0.2927,  0.0251, -0.0794,\n",
       "        -0.0459, -0.0611,  0.0518,  0.1440, -0.0472,  0.1987, -0.0023,  0.1019,\n",
       "         0.1311,  0.0285, -0.1018,  0.0611,  0.0551, -0.1174,  0.0407,  0.0174,\n",
       "         0.0552,  0.1073, -0.0653], grad_fn=<SelectBackward0>)"
      ]
     },
     "execution_count": 21,
     "metadata": {},
     "output_type": "execute_result"
    }
   ],
   "source": [
    "logits[0]"
   ]
  },
  {
   "cell_type": "code",
   "execution_count": 22,
   "id": "005153a1",
   "metadata": {},
   "outputs": [
    {
     "data": {
      "text/plain": [
       "18167"
      ]
     },
     "execution_count": 22,
     "metadata": {},
     "output_type": "execute_result"
    }
   ],
   "source": [
    "# initializing parameters\n",
    "\n",
    "g = torch.Generator().manual_seed(2147483647)\n",
    "C = torch.randn((vocab_size, n_embd),             generator=g)\n",
    "W1 = torch.randn((n_embd * block_size, n_hidden), generator=g)\n",
    "b1 = torch.randn(n_hidden,                        generator=g)\n",
    "W2 = torch.randn((n_hidden, vocab_size),          generator=g) * 0.01\n",
    "b2 = torch.randn(vocab_size,                      generator=g) * 0\n",
    "\n",
    "parameters = [C, W1, b1, W2, b2]\n",
    "\n",
    "for p in parameters:\n",
    "    p.requires_grad = True\n",
    "\n",
    "sum(p.nelement() for p in parameters)"
   ]
  },
  {
   "cell_type": "code",
   "execution_count": 23,
   "id": "1dafbbfc",
   "metadata": {},
   "outputs": [
    {
     "name": "stdout",
     "output_type": "stream",
     "text": [
      "      0/ 200000: 3.3006\n",
      "  10000/ 200000: 2.0741\n",
      "  20000/ 200000: 2.8459\n",
      "  30000/ 200000: 2.3756\n",
      "  40000/ 200000: 2.3108\n",
      "  50000/ 200000: 2.6182\n",
      "  60000/ 200000: 2.8379\n",
      "  70000/ 200000: 2.4886\n",
      "  80000/ 200000: 2.1391\n",
      "  90000/ 200000: 2.2671\n",
      " 100000/ 200000: 1.7832\n",
      " 110000/ 200000: 2.1521\n",
      " 120000/ 200000: 1.9627\n",
      " 130000/ 200000: 2.2624\n",
      " 140000/ 200000: 2.2098\n",
      " 150000/ 200000: 1.9764\n",
      " 160000/ 200000: 2.3625\n",
      " 170000/ 200000: 2.1684\n",
      " 180000/ 200000: 1.8394\n",
      " 190000/ 200000: 1.8926\n"
     ]
    }
   ],
   "source": [
    "# Training completely\n",
    "\n",
    "for i in range(max_steps):\n",
    "    \n",
    "    # minibatch construct\n",
    "    ix = torch.randint(0, Xtr.shape[0], (batch_size,), generator=g)\n",
    "    Xb, Yb = Xtr[ix], Ytr[ix]\n",
    "    \n",
    "    # forward pass\n",
    "    emb = C[Xb]\n",
    "    embcat = emb.view(emb.shape[0], -1)\n",
    "    h = torch.tanh(embcat @ W1 + b1)\n",
    "    logits = h @ W2 + b2\n",
    "    loss = F.cross_entropy(logits, Yb)\n",
    "    \n",
    "    # backward pass\n",
    "    for p in parameters:\n",
    "        p.grad = None\n",
    "    loss.backward()\n",
    "    \n",
    "    # update\n",
    "    lr = 0.1 if i < 100000 else 0.01\n",
    "    for p in parameters:\n",
    "        p.data += -lr * p.grad\n",
    "    \n",
    "    # track stats\n",
    "    if i % 10000 == 0:\n",
    "        print(f'{i:7d}/{max_steps:7d}: {loss.item():.4f}')\n",
    "    lossi.append(loss.log10().item())"
   ]
  },
  {
   "cell_type": "code",
   "execution_count": 24,
   "id": "c4fea08a",
   "metadata": {},
   "outputs": [
    {
     "name": "stdout",
     "output_type": "stream",
     "text": [
      "train 2.0474190711975098\n",
      "val 2.1241793632507324\n"
     ]
    }
   ],
   "source": [
    "@torch.no_grad() # this decorator disables gradient tracking\n",
    "def split_loss(split):\n",
    "    x,y = {\n",
    "        'train': (Xtr, Ytr),\n",
    "        'val': (Xdev, Ydev),\n",
    "        'test': (Xte, Yte)\n",
    "    }[split]\n",
    "    \n",
    "    emb = C[x]\n",
    "    embcat = emb.view(emb.shape[0], -1)\n",
    "    h = torch.tanh(embcat @ W1 + b1)\n",
    "    logits = h @ W2 + b2\n",
    "    loss = F.cross_entropy(logits, y)\n",
    "    print(split, loss.item())\n",
    "\n",
    "split_loss('train')\n",
    "split_loss('val')"
   ]
  },
  {
   "cell_type": "code",
   "execution_count": 25,
   "id": "f660e88e",
   "metadata": {},
   "outputs": [
    {
     "data": {
      "text/plain": [
       "[<matplotlib.lines.Line2D at 0x7f6598b65a60>]"
      ]
     },
     "execution_count": 25,
     "metadata": {},
     "output_type": "execute_result"
    },
    {
     "data": {
      "image/png": "[encoded data removed]",
      "text/plain": [
       "<Figure size 432x288 with 1 Axes>"
      ]
     },
     "metadata": {
      "needs_background": "light"
     },
     "output_type": "display_data"
    }
   ],
   "source": [
    "plt.plot(lossi)\n",
    "\n",
    "# Loss no longer has hockey shape\n",
    "# Coz, we took away big squashing iteration from training"
   ]
  },
  {
   "cell_type": "markdown",
   "id": "76894801",
   "metadata": {},
   "source": [
    "#### Val Loss - a bit lower now with same amount of training"
   ]
  },
  {
   "cell_type": "markdown",
   "id": "f8cf53a6",
   "metadata": {},
   "source": [
    "# Problem 2: Issue with 'h'"
   ]
  },
  {
   "cell_type": "code",
   "execution_count": 26,
   "id": "5f3fbb4a",
   "metadata": {},
   "outputs": [
    {
     "data": {
      "text/plain": [
       "18167"
      ]
     },
     "execution_count": 26,
     "metadata": {},
     "output_type": "execute_result"
    }
   ],
   "source": [
    "# initializing parameters\n",
    "\n",
    "g = torch.Generator().manual_seed(2147483647)\n",
    "C = torch.randn((vocab_size, n_embd),             generator=g)\n",
    "W1 = torch.randn((n_embd * block_size, n_hidden), generator=g)\n",
    "b1 = torch.randn(n_hidden,                        generator=g)\n",
    "W2 = torch.randn((n_hidden, vocab_size),          generator=g) * 0.01\n",
    "b2 = torch.randn(vocab_size,                      generator=g) * 0\n",
    "\n",
    "parameters = [C, W1, b1, W2, b2]\n",
    "\n",
    "for p in parameters:\n",
    "    p.requires_grad = True\n",
    "\n",
    "sum(p.nelement() for p in parameters)"
   ]
  },
  {
   "cell_type": "code",
   "execution_count": 27,
   "id": "ff242d4d",
   "metadata": {},
   "outputs": [
    {
     "name": "stdout",
     "output_type": "stream",
     "text": [
      "      0/ 200000: 3.3006\n"
     ]
    }
   ],
   "source": [
    "# Training completely\n",
    "\n",
    "for i in range(max_steps):\n",
    "    \n",
    "    # minibatch construct\n",
    "    ix = torch.randint(0, Xtr.shape[0], (batch_size,), generator=g)\n",
    "    Xb, Yb = Xtr[ix], Ytr[ix]\n",
    "    \n",
    "    # forward pass\n",
    "    emb = C[Xb]\n",
    "    embcat = emb.view(emb.shape[0], -1)\n",
    "    hpreact = embcat @ W1 + b1\n",
    "    h = torch.tanh(hpreact)\n",
    "    logits = h @ W2 + b2\n",
    "    loss = F.cross_entropy(logits, Yb)\n",
    "    \n",
    "    # backward pass\n",
    "    for p in parameters:\n",
    "        p.grad = None\n",
    "    loss.backward()\n",
    "    \n",
    "    # update\n",
    "    lr = 0.1 if i < 100000 else 0.01\n",
    "    for p in parameters:\n",
    "        p.data += -lr * p.grad\n",
    "    \n",
    "    # track stats\n",
    "    if i % 10000 == 0:\n",
    "        print(f'{i:7d}/{max_steps:7d}: {loss.item():.4f}')\n",
    "    lossi.append(loss.log10().item())\n",
    "    \n",
    "    break"
   ]
  },
  {
   "cell_type": "markdown",
   "id": "d93fd57d",
   "metadata": {},
   "source": [
    "#### Now 'logits' are okay, let look at 'h'"
   ]
  },
  {
   "cell_type": "code",
   "execution_count": 28,
   "id": "b584e936",
   "metadata": {},
   "outputs": [
    {
     "data": {
      "text/plain": [
       "tensor([[-0.9996,  1.0000,  1.0000,  ..., -1.0000,  1.0000, -0.8630],\n",
       "        [ 0.9998,  1.0000, -1.0000,  ...,  1.0000,  1.0000, -0.9956],\n",
       "        [-0.4379,  0.5210,  0.9982,  ..., -1.0000, -1.0000, -0.8215],\n",
       "        ...,\n",
       "        [ 1.0000,  1.0000,  0.9265,  ...,  0.6167, -0.9602,  1.0000],\n",
       "        [ 1.0000,  1.0000,  0.9296,  ...,  1.0000,  1.0000, -0.9102],\n",
       "        [-0.9554,  0.9997, -1.0000,  ...,  1.0000,  0.9442, -0.8189]],\n",
       "       grad_fn=<TanhBackward0>)"
      ]
     },
     "execution_count": 28,
     "metadata": {},
     "output_type": "execute_result"
    }
   ],
   "source": [
    "h # see there are many 1s and -1s"
   ]
  },
  {
   "cell_type": "code",
   "execution_count": 29,
   "id": "4612bd7e",
   "metadata": {},
   "outputs": [
    {
     "data": {
      "text/plain": [
       "(torch.Size([32, 200]), torch.Size([6400]))"
      ]
     },
     "execution_count": 29,
     "metadata": {},
     "output_type": "execute_result"
    }
   ],
   "source": [
    "h.shape, h.view(-1).shape"
   ]
  },
  {
   "cell_type": "code",
   "execution_count": 30,
   "id": "eade7c53",
   "metadata": {},
   "outputs": [
    {
     "data": {
      "image/png": "[encoded data removed]",
      "text/plain": [
       "<Figure size 432x288 with 1 Axes>"
      ]
     },
     "metadata": {
      "needs_background": "light"
     },
     "output_type": "display_data"
    }
   ],
   "source": [
    "plt.hist(h.view(-1).tolist(), 100)\n",
    "plt.show()"
   ]
  },
  {
   "cell_type": "markdown",
   "id": "4c83d43b",
   "metadata": {},
   "source": [
    "#### See that most of the activations 'h' - are 1 or -1.\n",
    "\n",
    "#### To further investigate, lets look at 'hpreact'"
   ]
  },
  {
   "cell_type": "code",
   "execution_count": 31,
   "id": "2b7a905e",
   "metadata": {},
   "outputs": [
    {
     "data": {
      "text/plain": [
       "tensor([[ -4.3160,  15.5984,   8.7359,  ...,  -7.7758,  16.9325,  -1.3048],\n",
       "        [  4.7077,   8.7443,  -5.8499,  ...,  14.2167,   8.7446,  -3.0594],\n",
       "        [ -0.4696,   0.5778,   3.5113,  ...,  -8.4818, -17.3020,  -1.1614],\n",
       "        ...,\n",
       "        [  9.7110,  13.2891,   1.6333,  ...,   0.7197,  -1.9481,  14.6777],\n",
       "        [  5.6733,  13.6989,   1.6552,  ...,  12.3228,   7.3850,  -1.5288],\n",
       "        [ -1.8900,   4.4814,  -8.3921,  ...,  10.2091,   1.7756,  -1.1535]],\n",
       "       grad_fn=<AddBackward0>)"
      ]
     },
     "execution_count": 31,
     "metadata": {},
     "output_type": "execute_result"
    }
   ],
   "source": [
    "hpreact"
   ]
  },
  {
   "cell_type": "code",
   "execution_count": 32,
   "id": "8d0a3c0b",
   "metadata": {},
   "outputs": [
    {
     "data": {
      "image/png": "[encoded data removed]",
      "text/plain": [
       "<Figure size 432x288 with 1 Axes>"
      ]
     },
     "metadata": {
      "needs_background": "light"
     },
     "output_type": "display_data"
    }
   ],
   "source": [
    "plt.hist(hpreact.view(-1).tolist(), 100)\n",
    "plt.show()"
   ]
  },
  {
   "cell_type": "markdown",
   "id": "60dae7f2",
   "metadata": {},
   "source": [
    "### Lots of numbers are again taking extreme values\n",
    "    - Gradient of tanh ---> (1 - t**2) * out.grad\n",
    "        - when input to tanh becomes extreme in either directions\n",
    "            - t becomes almost -1 or 1\n",
    "                - Making the term (1 - t**2) almost 0\n",
    "    - This property stops gradient (out.grad) from flowing backwards\n",
    "    - Also, the slope of tanh curve towards extreme is tending to 0\n",
    "    \n",
    "    - Whereas, when t ~ 0\n",
    "        - gradient passes through easily"
   ]
  },
  {
   "cell_type": "code",
   "execution_count": 33,
   "id": "52f3b551",
   "metadata": {},
   "outputs": [
    {
     "data": {
      "text/plain": [
       "<matplotlib.image.AxesImage at 0x7f65988fe310>"
      ]
     },
     "execution_count": 33,
     "metadata": {},
     "output_type": "execute_result"
    },
    {
     "data": {
      "image/png": "[encoded data removed]",
      "text/plain": [
       "<Figure size 1440x720 with 1 Axes>"
      ]
     },
     "metadata": {
      "needs_background": "light"
     },
     "output_type": "display_data"
    }
   ],
   "source": [
    "# visualizing the activations h\n",
    "\n",
    "plt.figure(figsize=(20,10))\n",
    "plt.imshow(h.abs() > 0.99, cmap='gray', interpolation='nearest')\n",
    "\n",
    "# 32 examples in y-axis\n",
    "# 200 neurons in x-axis\n",
    "\n",
    "## We see that a lot of neurons activations are landing above 0.99 (shown in WHITE)"
   ]
  },
  {
   "cell_type": "markdown",
   "id": "0341d0ce",
   "metadata": {},
   "source": [
    "### Let's tweak initialization of W1 & b1 to handle this issue"
   ]
  },
  {
   "cell_type": "code",
   "execution_count": 34,
   "id": "dc645949",
   "metadata": {},
   "outputs": [
    {
     "data": {
      "text/plain": [
       "18167"
      ]
     },
     "execution_count": 34,
     "metadata": {},
     "output_type": "execute_result"
    }
   ],
   "source": [
    "# initializing parameters\n",
    "\n",
    "g = torch.Generator().manual_seed(2147483647)\n",
    "C = torch.randn((vocab_size, n_embd),             generator=g)\n",
    "W1 = torch.randn((n_embd * block_size, n_hidden), generator=g) * 0.15\n",
    "b1 = torch.randn(n_hidden,                        generator=g) * 0.1\n",
    "W2 = torch.randn((n_hidden, vocab_size),          generator=g) * 0.01\n",
    "b2 = torch.randn(vocab_size,                      generator=g) * 0\n",
    "\n",
    "parameters = [C, W1, b1, W2, b2]\n",
    "\n",
    "for p in parameters:\n",
    "    p.requires_grad = True\n",
    "\n",
    "sum(p.nelement() for p in parameters)"
   ]
  },
  {
   "cell_type": "code",
   "execution_count": 35,
   "id": "84420273",
   "metadata": {},
   "outputs": [
    {
     "name": "stdout",
     "output_type": "stream",
     "text": [
      "      0/ 200000: 3.2999\n"
     ]
    }
   ],
   "source": [
    "# Training completely\n",
    "\n",
    "for i in range(max_steps):\n",
    "    \n",
    "    # minibatch construct\n",
    "    ix = torch.randint(0, Xtr.shape[0], (batch_size,), generator=g)\n",
    "    Xb, Yb = Xtr[ix], Ytr[ix]\n",
    "    \n",
    "    # forward pass\n",
    "    emb = C[Xb]\n",
    "    embcat = emb.view(emb.shape[0], -1)\n",
    "    hpreact = embcat @ W1 + b1\n",
    "    h = torch.tanh(hpreact)\n",
    "    logits = h @ W2 + b2\n",
    "    loss = F.cross_entropy(logits, Yb)\n",
    "    \n",
    "    # backward pass\n",
    "    for p in parameters:\n",
    "        p.grad = None\n",
    "    loss.backward()\n",
    "    \n",
    "    # update\n",
    "    lr = 0.1 if i < 100000 else 0.01\n",
    "    for p in parameters:\n",
    "        p.data += -lr * p.grad\n",
    "    \n",
    "    # track stats\n",
    "    if i % 10000 == 0:\n",
    "        print(f'{i:7d}/{max_steps:7d}: {loss.item():.4f}')\n",
    "    lossi.append(loss.log10().item())\n",
    "    \n",
    "    break"
   ]
  },
  {
   "cell_type": "markdown",
   "id": "63387370",
   "metadata": {},
   "source": [
    "#### Now 'logits' are okay, let look at 'h'"
   ]
  },
  {
   "cell_type": "code",
   "execution_count": 36,
   "id": "d5f775c7",
   "metadata": {},
   "outputs": [
    {
     "data": {
      "text/plain": [
       "tensor([[-0.5913,  0.9769,  0.8683,  ..., -0.8221,  0.9868, -0.2857],\n",
       "        [ 0.5875,  0.8328, -0.6972,  ...,  0.9725,  0.8560, -0.5058],\n",
       "        [-0.1024, -0.0279,  0.4948,  ..., -0.8536, -0.9896, -0.2658],\n",
       "        ...,\n",
       "        [ 0.8905,  0.9544,  0.2550,  ...,  0.1106, -0.3147,  0.9707],\n",
       "        [ 0.6744,  0.9596,  0.2581,  ...,  0.9519,  0.7910, -0.3163],\n",
       "        [-0.3057,  0.5062, -0.8463,  ...,  0.9112,  0.2286, -0.2647]],\n",
       "       grad_fn=<TanhBackward0>)"
      ]
     },
     "execution_count": 36,
     "metadata": {},
     "output_type": "execute_result"
    }
   ],
   "source": [
    "h # see there are many 1s and -1s"
   ]
  },
  {
   "cell_type": "code",
   "execution_count": 37,
   "id": "86f25a91",
   "metadata": {},
   "outputs": [
    {
     "data": {
      "text/plain": [
       "(torch.Size([32, 200]), torch.Size([6400]))"
      ]
     },
     "execution_count": 37,
     "metadata": {},
     "output_type": "execute_result"
    }
   ],
   "source": [
    "h.shape, h.view(-1).shape"
   ]
  },
  {
   "cell_type": "code",
   "execution_count": 38,
   "id": "b82d51d8",
   "metadata": {},
   "outputs": [
    {
     "data": {
      "image/png": "[encoded data removed]",
      "text/plain": [
       "<Figure size 432x288 with 1 Axes>"
      ]
     },
     "metadata": {
      "needs_background": "light"
     },
     "output_type": "display_data"
    }
   ],
   "source": [
    "plt.hist(h.view(-1).tolist(), 50)\n",
    "plt.show()"
   ]
  },
  {
   "cell_type": "markdown",
   "id": "bdd79c4b",
   "metadata": {},
   "source": [
    "#### See that most of the activations 'h' - are 1 or -1.\n",
    "\n",
    "#### To further investigate, lets look at 'hpreact'"
   ]
  },
  {
   "cell_type": "code",
   "execution_count": 39,
   "id": "59d97452",
   "metadata": {},
   "outputs": [
    {
     "data": {
      "text/plain": [
       "tensor([[-0.6797,  2.2252,  1.3261,  ..., -1.1632,  2.5063, -0.2939],\n",
       "        [ 0.6739,  1.1971, -0.8617,  ...,  2.1356,  1.2781, -0.5571],\n",
       "        [-0.1027, -0.0279,  0.5424,  ..., -1.2691, -2.6289, -0.2724],\n",
       "        ...,\n",
       "        [ 1.4244,  1.8788,  0.2607,  ...,  0.1111, -0.3258,  2.1035],\n",
       "        [ 0.8187,  1.9403,  0.2640,  ...,  1.8516,  1.0742, -0.3275],\n",
       "        [-0.3158,  0.5577, -1.2431,  ...,  1.5345,  0.2328, -0.2712]],\n",
       "       grad_fn=<AddBackward0>)"
      ]
     },
     "execution_count": 39,
     "metadata": {},
     "output_type": "execute_result"
    }
   ],
   "source": [
    "hpreact"
   ]
  },
  {
   "cell_type": "code",
   "execution_count": 40,
   "id": "2138d65e",
   "metadata": {},
   "outputs": [
    {
     "data": {
      "image/png": "[encoded data removed]",
      "text/plain": [
       "<Figure size 432x288 with 1 Axes>"
      ]
     },
     "metadata": {
      "needs_background": "light"
     },
     "output_type": "display_data"
    }
   ],
   "source": [
    "plt.hist(hpreact.view(-1).tolist(), 50)\n",
    "plt.show()"
   ]
  },
  {
   "cell_type": "code",
   "execution_count": 41,
   "id": "53cdcaa1",
   "metadata": {},
   "outputs": [
    {
     "data": {
      "text/plain": [
       "<matplotlib.image.AxesImage at 0x7f6598504610>"
      ]
     },
     "execution_count": 41,
     "metadata": {},
     "output_type": "execute_result"
    },
    {
     "data": {
      "image/png": "[encoded data removed]",
      "text/plain": [
       "<Figure size 1440x720 with 1 Axes>"
      ]
     },
     "metadata": {
      "needs_background": "light"
     },
     "output_type": "display_data"
    }
   ],
   "source": [
    "# visualizing the activations h\n",
    "\n",
    "plt.figure(figsize=(20,10))\n",
    "plt.imshow(h.abs() > 0.99, cmap='gray', interpolation='nearest')\n",
    "\n",
    "# 32 examples in y-axis\n",
    "# 200 neurons in x-axis\n",
    "\n",
    "## Now we get most activations below 0.99 (shown in BLACK)"
   ]
  },
  {
   "cell_type": "markdown",
   "id": "77f69a68",
   "metadata": {},
   "source": [
    "### ------------>> Complete the training with both improvements <<------------"
   ]
  },
  {
   "cell_type": "code",
   "execution_count": 42,
   "id": "31243d19",
   "metadata": {},
   "outputs": [
    {
     "data": {
      "text/plain": [
       "18167"
      ]
     },
     "execution_count": 42,
     "metadata": {},
     "output_type": "execute_result"
    }
   ],
   "source": [
    "# initializing parameters\n",
    "\n",
    "g = torch.Generator().manual_seed(2147483647)\n",
    "C = torch.randn((vocab_size, n_embd),             generator=g)\n",
    "W1 = torch.randn((n_embd * block_size, n_hidden), generator=g) * 0.15\n",
    "b1 = torch.randn(n_hidden,                        generator=g) * 0.1\n",
    "W2 = torch.randn((n_hidden, vocab_size),          generator=g) * 0.01\n",
    "b2 = torch.randn(vocab_size,                      generator=g) * 0\n",
    "\n",
    "parameters = [C, W1, b1, W2, b2]\n",
    "\n",
    "for p in parameters:\n",
    "    p.requires_grad = True\n",
    "\n",
    "sum(p.nelement() for p in parameters)"
   ]
  },
  {
   "cell_type": "code",
   "execution_count": 43,
   "id": "ab2c0b79",
   "metadata": {},
   "outputs": [
    {
     "name": "stdout",
     "output_type": "stream",
     "text": [
      "      0/ 200000: 3.2999\n",
      "  10000/ 200000: 2.0512\n",
      "  20000/ 200000: 2.7255\n",
      "  30000/ 200000: 2.2408\n",
      "  40000/ 200000: 2.1843\n",
      "  50000/ 200000: 2.4287\n",
      "  60000/ 200000: 2.5718\n",
      "  70000/ 200000: 2.2844\n",
      "  80000/ 200000: 1.9442\n",
      "  90000/ 200000: 2.0770\n",
      " 100000/ 200000: 1.7253\n",
      " 110000/ 200000: 1.9746\n",
      " 120000/ 200000: 1.9718\n",
      " 130000/ 200000: 2.2139\n",
      " 140000/ 200000: 2.1614\n",
      " 150000/ 200000: 1.9444\n",
      " 160000/ 200000: 2.2914\n",
      " 170000/ 200000: 2.1319\n",
      " 180000/ 200000: 1.6743\n",
      " 190000/ 200000: 1.8167\n"
     ]
    }
   ],
   "source": [
    "for i in range(max_steps):\n",
    "    \n",
    "    # minibatch construct\n",
    "    ix = torch.randint(0, Xtr.shape[0], (batch_size,), generator=g)\n",
    "    Xb, Yb = Xtr[ix], Ytr[ix]\n",
    "    \n",
    "    # forward pass\n",
    "    emb = C[Xb]\n",
    "    embcat = emb.view(emb.shape[0], -1)\n",
    "    hpreact = embcat @ W1 + b1\n",
    "    h = torch.tanh(hpreact)\n",
    "    logits = h @ W2 + b2\n",
    "    loss = F.cross_entropy(logits, Yb)\n",
    "    \n",
    "    # backward pass\n",
    "    for p in parameters:\n",
    "        p.grad = None\n",
    "    loss.backward()\n",
    "    \n",
    "    # update\n",
    "    lr = 0.1 if i < 100000 else 0.01\n",
    "    for p in parameters:\n",
    "        p.data += -lr * p.grad\n",
    "    \n",
    "    # track stats\n",
    "    if i % 10000 == 0:\n",
    "        print(f'{i:7d}/{max_steps:7d}: {loss.item():.4f}')\n",
    "    lossi.append(loss.log10().item())"
   ]
  },
  {
   "cell_type": "code",
   "execution_count": null,
   "id": "0e4d7ea5",
   "metadata": {},
   "outputs": [],
   "source": []
  }
 ],
 "metadata": {
  "kernelspec": {
   "display_name": "Python 3 (ipykernel)",
   "language": "python",
   "name": "python3"
  },
  "language_info": {
   "codemirror_mode": {
    "name": "ipython",
    "version": 3
   },
   "file_extension": ".py",
   "mimetype": "text/x-python",
   "name": "python",
   "nbconvert_exporter": "python",
   "pygments_lexer": "ipython3",
   "version": "3.10.10"
  }
 },
 "nbformat": 4,
 "nbformat_minor": 5
}
