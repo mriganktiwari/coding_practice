{
 "cells": [
  {
   "cell_type": "code",
   "execution_count": 1,
   "id": "43089d5e",
   "metadata": {
    "scrolled": true
   },
   "outputs": [
    {
     "name": "stderr",
     "output_type": "stream",
     "text": [
      "/home/mrigank/miniconda3/envs/fast/lib/python3.9/site-packages/tqdm/auto.py:22: TqdmWarning: IProgress not found. Please update jupyter and ipywidgets. See https://ipywidgets.readthedocs.io/en/stable/user_install.html\n",
      "  from .autonotebook import tqdm as notebook_tqdm\n"
     ]
    }
   ],
   "source": [
    "import torch\n",
    "import torch.nn.functional as F\n",
    "import matplotlib.pyplot as plt\n",
    "%matplotlib inline"
   ]
  },
  {
   "cell_type": "code",
   "execution_count": 2,
   "id": "59a11570",
   "metadata": {},
   "outputs": [
    {
     "data": {
      "text/plain": [
       "['emma', 'olivia', 'ava', 'isabella', 'sophia']"
      ]
     },
     "execution_count": 2,
     "metadata": {},
     "output_type": "execute_result"
    }
   ],
   "source": [
    "words = open('names.txt', 'r').read().splitlines()\n",
    "words[:5]"
   ]
  },
  {
   "cell_type": "code",
   "execution_count": 3,
   "id": "5e59b0d6",
   "metadata": {},
   "outputs": [
    {
     "data": {
      "text/plain": [
       "32033"
      ]
     },
     "execution_count": 3,
     "metadata": {},
     "output_type": "execute_result"
    }
   ],
   "source": [
    "len(words)"
   ]
  },
  {
   "cell_type": "code",
   "execution_count": 4,
   "id": "6380da7f",
   "metadata": {},
   "outputs": [
    {
     "name": "stdout",
     "output_type": "stream",
     "text": [
      "{1: 'a', 2: 'b', 3: 'c', 4: 'd', 5: 'e', 6: 'f', 7: 'g', 8: 'h', 9: 'i', 10: 'j', 11: 'k', 12: 'l', 13: 'm', 14: 'n', 15: 'o', 16: 'p', 17: 'q', 18: 'r', 19: 's', 20: 't', 21: 'u', 22: 'v', 23: 'w', 24: 'x', 25: 'y', 26: 'z', 0: '.'}\n"
     ]
    }
   ],
   "source": [
    "# build vocab of characters & integers\n",
    "\n",
    "chars = sorted(list(set(''.join(words))))\n",
    "stoi = {s:i+1 for i,s in enumerate(chars)}\n",
    "stoi['.'] = 0\n",
    "itos = {i:s for s,i in stoi.items()}\n",
    "vocab_size = len(itos)\n",
    "print(itos)"
   ]
  },
  {
   "cell_type": "code",
   "execution_count": 5,
   "id": "a7730ccf",
   "metadata": {},
   "outputs": [
    {
     "name": "stdout",
     "output_type": "stream",
     "text": [
      "torch.Size([182625, 3]) torch.Size([182625])\n",
      "torch.Size([22655, 3]) torch.Size([22655])\n",
      "torch.Size([22866, 3]) torch.Size([22866])\n"
     ]
    }
   ],
   "source": [
    "# build the dataset\n",
    "\n",
    "block_size = 3 # context length: how many characters do we take to predict the next one?\n",
    "\n",
    "def build_dataset(words):\n",
    "    X, Y = [], []\n",
    "    for w in words:\n",
    "        context = [0] * block_size\n",
    "        for ch in w + '.':\n",
    "            ix = stoi[ch]\n",
    "            X.append(context)\n",
    "            Y.append(ix)\n",
    "\n",
    "            context = context[1:] + [ix]\n",
    "    X = torch.tensor(X)\n",
    "    Y = torch.tensor(Y)\n",
    "    print(X.shape, Y.shape)\n",
    "    return X, Y\n",
    "\n",
    "\n",
    "import random\n",
    "random.seed(42)\n",
    "random.shuffle(words)\n",
    "\n",
    "n1 = int(0.8 * len(words))\n",
    "n2 = int(0.9 * len(words))\n",
    "\n",
    "Xtr, Ytr = build_dataset(words[:n1])\n",
    "Xdev, Ydev = build_dataset(words[n1:n2])\n",
    "Xte, Yte = build_dataset(words[n2:])"
   ]
  },
  {
   "cell_type": "code",
   "execution_count": 6,
   "id": "8f6cee08",
   "metadata": {},
   "outputs": [],
   "source": [
    "n_embd = 20\n",
    "n_hidden = 200\n",
    "\n",
    "batch_size = 32\n",
    "max_steps = 200000"
   ]
  },
  {
   "cell_type": "code",
   "execution_count": 7,
   "id": "2333fc97",
   "metadata": {},
   "outputs": [
    {
     "data": {
      "text/plain": [
       "18167"
      ]
     },
     "execution_count": 7,
     "metadata": {},
     "output_type": "execute_result"
    }
   ],
   "source": [
    "# initializing parameters\n",
    "\n",
    "g = torch.Generator().manual_seed(2147483647)\n",
    "C = torch.randn((vocab_size, n_embd),             generator=g)\n",
    "W1 = torch.randn((n_embd * block_size, n_hidden), generator=g) * (5/3)/ 30**0.5 #0.15\n",
    "b1 = torch.randn(n_hidden,                        generator=g) * 0.1\n",
    "W2 = torch.randn((n_hidden, vocab_size),          generator=g) * 0.01\n",
    "b2 = torch.randn(vocab_size,                      generator=g) * 0\n",
    "\n",
    "parameters = [C, W1, b1, W2, b2]\n",
    "\n",
    "for p in parameters:\n",
    "    p.requires_grad = True\n",
    "\n",
    "sum(p.nelement() for p in parameters)"
   ]
  },
  {
   "cell_type": "code",
   "execution_count": 8,
   "id": "509f5cc6",
   "metadata": {},
   "outputs": [],
   "source": [
    "lri = []\n",
    "lossi = []"
   ]
  },
  {
   "cell_type": "code",
   "execution_count": 9,
   "id": "031ae989",
   "metadata": {},
   "outputs": [
    {
     "name": "stdout",
     "output_type": "stream",
     "text": [
      "      0/ 200000: 3.3032\n",
      "  10000/ 200000: 2.0484\n",
      "  20000/ 200000: 2.8247\n",
      "  30000/ 200000: 2.2985\n",
      "  40000/ 200000: 2.1025\n",
      "  50000/ 200000: 2.4764\n",
      "  60000/ 200000: 2.6015\n",
      "  70000/ 200000: 2.3140\n",
      "  80000/ 200000: 1.9098\n",
      "  90000/ 200000: 2.0857\n",
      " 100000/ 200000: 1.7765\n",
      " 110000/ 200000: 1.9925\n",
      " 120000/ 200000: 1.9428\n",
      " 130000/ 200000: 2.2242\n",
      " 140000/ 200000: 2.1578\n",
      " 150000/ 200000: 2.0473\n",
      " 160000/ 200000: 2.4547\n",
      " 170000/ 200000: 2.1142\n",
      " 180000/ 200000: 1.6728\n",
      " 190000/ 200000: 1.8863\n"
     ]
    }
   ],
   "source": [
    "for i in range(max_steps):\n",
    "    \n",
    "    # minibatch construct\n",
    "    ix = torch.randint(0, Xtr.shape[0], (batch_size,), generator=g)\n",
    "    Xb, Yb = Xtr[ix], Ytr[ix]\n",
    "    \n",
    "    # forward pass\n",
    "    emb = C[Xb]\n",
    "    embcat = emb.view(emb.shape[0], -1)\n",
    "    hpreact = embcat @ W1 + b1\n",
    "    h = torch.tanh(hpreact)\n",
    "    logits = h @ W2 + b2\n",
    "    loss = F.cross_entropy(logits, Yb)\n",
    "    \n",
    "    # backward pass\n",
    "    for p in parameters:\n",
    "        p.grad = None\n",
    "    loss.backward()\n",
    "    \n",
    "    # update\n",
    "    lr = 0.1 if i < 100000 else 0.01\n",
    "    for p in parameters:\n",
    "        p.data += -lr * p.grad\n",
    "    \n",
    "    # track stats\n",
    "    if i % 10000 == 0:\n",
    "        print(f'{i:7d}/{max_steps:7d}: {loss.item():.4f}')\n",
    "    lossi.append(loss.log10().item())"
   ]
  },
  {
   "cell_type": "code",
   "execution_count": 10,
   "id": "c4fea08a",
   "metadata": {},
   "outputs": [
    {
     "name": "stdout",
     "output_type": "stream",
     "text": [
      "train 2.0070888996124268\n",
      "val 2.0923452377319336\n"
     ]
    }
   ],
   "source": [
    "@torch.no_grad() # this decorator disables gradient tracking\n",
    "def split_loss(split):\n",
    "    x,y = {\n",
    "        'train': (Xtr, Ytr),\n",
    "        'val': (Xdev, Ydev),\n",
    "        'test': (Xte, Yte)\n",
    "    }[split]\n",
    "    \n",
    "    emb = C[x]\n",
    "    embcat = emb.view(emb.shape[0], -1)\n",
    "    h = torch.tanh(embcat @ W1 + b1)\n",
    "    logits = h @ W2 + b2\n",
    "    loss = F.cross_entropy(logits, y)\n",
    "    print(split, loss.item())\n",
    "\n",
    "split_loss('train')\n",
    "split_loss('val')"
   ]
  },
  {
   "cell_type": "markdown",
   "id": "9e982073",
   "metadata": {},
   "source": [
    "## Issue with scaling manually all the W and b parameters - to ensure unit Gaussian nature throughout the network\n",
    "\n",
    "- It's hard to decide scaling when it comes to networks with large number of layers."
   ]
  },
  {
   "cell_type": "markdown",
   "id": "2eeca66f",
   "metadata": {},
   "source": [
    "---"
   ]
  },
  {
   "cell_type": "markdown",
   "id": "35a962b1",
   "metadata": {},
   "source": [
    "# Precise setting of such scalings, is not that important: Due to some modern innovations.\n",
    "\n",
    "1. Batch Norm (https://arxiv.org/pdf/1502.03167.pdf)\n",
    "    - Idea was, if we wish to keep the activations throughout the network in **unit Gaussian** range\n",
    "        - Why don't just **normalize** then with mean & std, which would maintain the desired distribution\n",
    "2. "
   ]
  },
  {
   "cell_type": "code",
   "execution_count": 11,
   "id": "f87cdda8",
   "metadata": {},
   "outputs": [
    {
     "data": {
      "text/plain": [
       "torch.Size([1, 200])"
      ]
     },
     "execution_count": 11,
     "metadata": {},
     "output_type": "execute_result"
    }
   ],
   "source": [
    "# Mean of the activations over a batch: so a neuron will have a mean & std calculated across batch examples\n",
    "hpreact.mean(dim=0, keepdim=True).shape"
   ]
  },
  {
   "cell_type": "code",
   "execution_count": 12,
   "id": "1d0cab6f",
   "metadata": {},
   "outputs": [
    {
     "data": {
      "text/plain": [
       "torch.Size([1, 200])"
      ]
     },
     "execution_count": 12,
     "metadata": {},
     "output_type": "execute_result"
    }
   ],
   "source": [
    "hpreact.std(dim=0, keepdim=True).shape"
   ]
  },
  {
   "cell_type": "code",
   "execution_count": 13,
   "id": "f8cdccac",
   "metadata": {},
   "outputs": [
    {
     "data": {
      "text/plain": [
       "18367"
      ]
     },
     "execution_count": 13,
     "metadata": {},
     "output_type": "execute_result"
    }
   ],
   "source": [
    "# initializing parameters\n",
    "\n",
    "g = torch.Generator().manual_seed(2147483647)\n",
    "C = torch.randn((vocab_size, n_embd),             generator=g)\n",
    "W1 = torch.randn((n_embd * block_size, n_hidden), generator=g) * (5/3)/ 30**0.5 #0.15\n",
    "# b1 = torch.randn(n_hidden,                        generator=g) * 0.1\n",
    "W2 = torch.randn((n_hidden, vocab_size),          generator=g) * 0.01\n",
    "b2 = torch.randn(vocab_size,                      generator=g) * 0\n",
    "\n",
    "# Scaling params for batch-norm\n",
    "bngain = torch.ones((1, n_hidden))\n",
    "bnbias = torch.zeros((1, n_hidden))\n",
    "\n",
    "# parameters = [C, W1, b1, W2, b2]\n",
    "parameters = [C, W1, W2, b2, bngain, bnbias]\n",
    "\n",
    "for p in parameters:\n",
    "    p.requires_grad = True\n",
    "\n",
    "sum(p.nelement() for p in parameters)"
   ]
  },
  {
   "cell_type": "code",
   "execution_count": 14,
   "id": "3fbbc2f6",
   "metadata": {
    "scrolled": true
   },
   "outputs": [
    {
     "name": "stdout",
     "output_type": "stream",
     "text": [
      "      0/ 200000: 3.2924\n",
      "  10000/ 200000: 2.2866\n",
      "  20000/ 200000: 2.2139\n",
      "  30000/ 200000: 2.1443\n",
      "  40000/ 200000: 2.3116\n",
      "  50000/ 200000: 1.9430\n",
      "  60000/ 200000: 2.4954\n",
      "  70000/ 200000: 2.3500\n",
      "  80000/ 200000: 2.4079\n",
      "  90000/ 200000: 2.3009\n",
      " 100000/ 200000: 2.0993\n",
      " 110000/ 200000: 1.9806\n",
      " 120000/ 200000: 1.6657\n",
      " 130000/ 200000: 1.9281\n",
      " 140000/ 200000: 2.3242\n",
      " 150000/ 200000: 2.4478\n",
      " 160000/ 200000: 2.0123\n",
      " 170000/ 200000: 2.4992\n",
      " 180000/ 200000: 2.2298\n",
      " 190000/ 200000: 2.1871\n"
     ]
    }
   ],
   "source": [
    "for i in range(max_steps):\n",
    "    \n",
    "    # minibatch construct\n",
    "    ix = torch.randint(0, Xtr.shape[0], (batch_size,), generator=g)\n",
    "    Xb, Yb = Xtr[ix], Ytr[ix]\n",
    "    \n",
    "    # forward pass\n",
    "    emb = C[Xb]\n",
    "    embcat = emb.view(emb.shape[0], -1)\n",
    "    \n",
    "    ## -------------------------------------------------------------------------------------------\n",
    "    ## Normalizing the hpreact, with it's mean & std\n",
    "    ## This would not give good performance yet\n",
    "    ## Coz, we want the activation firings to be roughly \"unit Gaussian\" at initialization\n",
    "    ## But, DON'T want then to be forced Gaussian always\n",
    "    \n",
    "#     hpreact = embcat @ W1 + b1\n",
    "#     hpreact = (hpreact - hpreact.mean(dim=0, keepdim=True)) / hpreact.std(dim=0, keepdim=True)\n",
    "    ## -------------------------------------------------------------------------------------------\n",
    "    \n",
    "    \n",
    "    ## -------------------------------------------------------------------------------------------\n",
    "    ## To handle not standardising (normalizing) always:\n",
    "    ## Paper introduces an additional component - \"Scaling & shifting\"\n",
    "        ## Take normalized inputs:\n",
    "            ## normalize then with some GAIN\n",
    "            ## offset with some BIAS\n",
    "                ## Also, due to this, the b1 bias added below, would not serve any purpose\n",
    "    \n",
    "    hpreact = embcat @ W1 # + b1\n",
    "    hpreact = (bngain * (hpreact - hpreact.mean(0, keepdim=True)) / hpreact.std(0, keepdim=True)) + bnbias\n",
    "    ## This above treatment to hpreact will make\n",
    "    ## all neurons firing at unit Gaussian - at INITIALIZATION\n",
    "        ## As bngain is 1s, bnbias is 0s\n",
    "    ## And as optimization starts - they will start to adjust\n",
    "    ## -------------------------------------------------------------------------------------------\n",
    "    \n",
    "    h = torch.tanh(hpreact)\n",
    "    logits = h @ W2 + b2\n",
    "    loss = F.cross_entropy(logits, Yb)\n",
    "    \n",
    "    # backward pass\n",
    "    for p in parameters:\n",
    "        p.grad = None\n",
    "    loss.backward()\n",
    "    \n",
    "    # update\n",
    "    lr = 0.1 if i < 100000 else 0.01\n",
    "    for p in parameters:\n",
    "        p.data += -lr * p.grad\n",
    "    \n",
    "    # track stats\n",
    "    if i % 10000 == 0:\n",
    "        print(f'{i:7d}/{max_steps:7d}: {loss.item():.4f}')\n",
    "    lossi.append(loss.log10().item())"
   ]
  },
  {
   "cell_type": "code",
   "execution_count": 15,
   "id": "3732954b",
   "metadata": {},
   "outputs": [
    {
     "data": {
      "text/plain": [
       "[<matplotlib.lines.Line2D at 0x7f46e0121940>]"
      ]
     },
     "execution_count": 15,
     "metadata": {},
     "output_type": "execute_result"
    },
    {
     "data": {
      "image/png": "[encoded data removed]",
      "text/plain": [
       "<Figure size 432x288 with 1 Axes>"
      ]
     },
     "metadata": {
      "needs_background": "light"
     },
     "output_type": "display_data"
    }
   ],
   "source": [
    "plt.plot(lossi)"
   ]
  },
  {
   "cell_type": "code",
   "execution_count": 16,
   "id": "e105061e",
   "metadata": {},
   "outputs": [
    {
     "name": "stdout",
     "output_type": "stream",
     "text": [
      "train 2.044732093811035\n",
      "val 2.0971972942352295\n"
     ]
    }
   ],
   "source": [
    "@torch.no_grad() # this decorator disables gradient tracking\n",
    "def split_loss(split):\n",
    "    x,y = {\n",
    "        'train': (Xtr, Ytr),\n",
    "        'val': (Xdev, Ydev),\n",
    "        'test': (Xte, Yte)\n",
    "    }[split]\n",
    "    \n",
    "    emb = C[x]\n",
    "    embcat = emb.view(emb.shape[0], -1)\n",
    "    # h = torch.tanh(embcat @ W1 + b1)\n",
    "    hpreact = embcat @ W1 # + b1\n",
    "    hpreact = bngain * (hpreact - hpreact.mean(0, keepdim=True)) / hpreact.std(0, keepdim=True) + bnbias\n",
    "    # hpreact = bngain * (hpreact - bnmean_running) / bnstd_running + bnbias\n",
    "    h = torch.tanh(hpreact) # (N, n_hidden)\n",
    "    logits = h @ W2 + b2\n",
    "    loss = F.cross_entropy(logits, y)\n",
    "    print(split, loss.item())\n",
    "\n",
    "split_loss('train')\n",
    "split_loss('val')"
   ]
  },
  {
   "cell_type": "markdown",
   "id": "3a116766",
   "metadata": {},
   "source": [
    "## We will not see any improvement in performance\n",
    "- Coz, we are dealing with very small NN right now\n",
    "- Also, we already had scaled W's decently, so **Batch Norm** does not have much to do here\n",
    "---"
   ]
  },
  {
   "cell_type": "markdown",
   "id": "271ac3c6",
   "metadata": {},
   "source": [
    "## In future scenarios, where we'll have much larger networks - with Residual connections, CNNs etc, setting scales for all W matrices will become intractable\n",
    "- And then we can see **Batch Norm** giving gains\n",
    "- Then careful scaling of **W's** initialization would not be required\n",
    "---"
   ]
  },
  {
   "cell_type": "markdown",
   "id": "eb7eeec7",
   "metadata": {},
   "source": [
    "## Batch Norm has a COST attached to it\n",
    "- Till now, an example was only depending on model parameters to produce its logits.\n",
    "    - But with introduction of **Batch Norm** through a batch\n",
    "        - A mathematical coupling of examples happens in forward & backward pass\n",
    "- So, now the logits produced by an example is not only a function of its inputs & model params\n",
    "    - But also, of other examples in the **batch**\n",
    "- Suppose an example's **h** is going to jitter according to the samples that come into the batch with it\n",
    "\n",
    "### It might seem like a BUG / UNDESIRABLE\n",
    "### But it will turn out (as we'll see) as some kind of REGULARIZATION effect\n",
    "- Also some kind of **data augmentation**\n",
    "\n",
    "### This property of mathematical coupling b/w examples in a batch is still UNDESIRABLE\n",
    "- So there exist other form of normalization methods, where normalizing across batch is not done\n",
    "    - Layer Norm\n",
    "    - Instance Norm\n",
    "    - Group Norm\n",
    "---"
   ]
  },
  {
   "cell_type": "markdown",
   "id": "4304c082",
   "metadata": {},
   "source": [
    "# ??? Problem: \n",
    "- How to we feed in single example during TEST to generate logits\n",
    "- Coz, the network is now trained to calculate (mean, std) over a batch for **Batch Norm**"
   ]
  },
  {
   "cell_type": "markdown",
   "id": "b31e01b1",
   "metadata": {},
   "source": [
    "## Solution (proposed in paper):\n",
    "- Fix and clamp a **bnmean** and **bnstd**\n",
    "    Now we can pass a single test example to test the performance\n",
    "- 2 ways to do it:\n",
    "    1. After **training** completes, find a fix value for both and clamp them for testing purpose\n",
    "    2. Instead calculate both in a **running** manner while training\n",
    "        - On the side of training, **we calculate running mean & std of batch norm**"
   ]
  },
  {
   "cell_type": "code",
   "execution_count": 17,
   "id": "6b35f032",
   "metadata": {},
   "outputs": [
    {
     "data": {
      "text/plain": [
       "18367"
      ]
     },
     "execution_count": 17,
     "metadata": {},
     "output_type": "execute_result"
    }
   ],
   "source": [
    "# initializing parameters\n",
    "\n",
    "g = torch.Generator().manual_seed(2147483647)\n",
    "C = torch.randn((vocab_size, n_embd),             generator=g)\n",
    "W1 = torch.randn((n_embd * block_size, n_hidden), generator=g) * (5/3)/ 30**0.5 #0.15\n",
    "# b1 = torch.randn(n_hidden,                        generator=g) * 0.1\n",
    "W2 = torch.randn((n_hidden, vocab_size),          generator=g) * 0.01\n",
    "b2 = torch.randn(vocab_size,                      generator=g) * 0\n",
    "\n",
    "# Scaling params for batch-norm\n",
    "bngain = torch.ones((1, n_hidden))\n",
    "bnbias = torch.zeros((1, n_hidden))\n",
    "\n",
    "bnmean_running = torch.zeros((1, n_hidden)) # Coz, initially hpreact will come out to be unit Gaussian, by the way of W init\n",
    "bnstd_running = torch.ones((1, n_hidden))\n",
    "\n",
    "# parameters = [C, W1, b1, W2, b2]\n",
    "parameters = [C, W1, W2, b2, bngain, bnbias]\n",
    "\n",
    "for p in parameters:\n",
    "    p.requires_grad = True\n",
    "\n",
    "sum(p.nelement() for p in parameters)"
   ]
  },
  {
   "cell_type": "code",
   "execution_count": 18,
   "id": "1522d19d",
   "metadata": {},
   "outputs": [
    {
     "name": "stdout",
     "output_type": "stream",
     "text": [
      "      0/ 200000: 3.2924\n",
      "  10000/ 200000: 2.2866\n",
      "  20000/ 200000: 2.2139\n",
      "  30000/ 200000: 2.1443\n",
      "  40000/ 200000: 2.3116\n",
      "  50000/ 200000: 1.9430\n",
      "  60000/ 200000: 2.4954\n",
      "  70000/ 200000: 2.3500\n",
      "  80000/ 200000: 2.4079\n",
      "  90000/ 200000: 2.3009\n",
      " 100000/ 200000: 2.0993\n",
      " 110000/ 200000: 1.9806\n",
      " 120000/ 200000: 1.6657\n",
      " 130000/ 200000: 1.9281\n",
      " 140000/ 200000: 2.3242\n",
      " 150000/ 200000: 2.4478\n",
      " 160000/ 200000: 2.0123\n",
      " 170000/ 200000: 2.4992\n",
      " 180000/ 200000: 2.2298\n",
      " 190000/ 200000: 2.1871\n"
     ]
    }
   ],
   "source": [
    "for i in range(max_steps):\n",
    "    \n",
    "    # minibatch construct\n",
    "    ix = torch.randint(0, Xtr.shape[0], (batch_size,), generator=g)\n",
    "    Xb, Yb = Xtr[ix], Ytr[ix]\n",
    "    \n",
    "    # forward pass\n",
    "    emb = C[Xb]\n",
    "    embcat = emb.view(emb.shape[0], -1)\n",
    "    hpreact = embcat @ W1 # + b1\n",
    "    \n",
    "    bnmeani = hpreact.mean(0, keepdim=True)\n",
    "    bnstdi = hpreact.std(0, keepdim=True)\n",
    "    hpreact = bngain * (hpreact - bnmeani) / bnstdi + bnbias\n",
    "    \n",
    "    with torch.no_grad():\n",
    "        \n",
    "        # mostly what it was earlier, just a small update in the direction of mean of batch\n",
    "        bnmean_running = 0.999 * bnmean_running + 0.001 * bnmeani\n",
    "        \n",
    "        # mostly what it was earlier, just a small update in the direction of std of batch\n",
    "        bnstd_running = 0.999 * bnstd_running + 0.0001 * bnstdi\n",
    "\n",
    "    h = torch.tanh(hpreact)\n",
    "    logits = h @ W2 + b2\n",
    "    loss = F.cross_entropy(logits, Yb)\n",
    "    \n",
    "    # backward pass\n",
    "    for p in parameters:\n",
    "        p.grad = None\n",
    "    loss.backward()\n",
    "    \n",
    "    # update\n",
    "    lr = 0.1 if i < 100000 else 0.01\n",
    "    for p in parameters:\n",
    "        p.data += -lr * p.grad\n",
    "    \n",
    "    # track stats\n",
    "    if i % 10000 == 0:\n",
    "        print(f'{i:7d}/{max_steps:7d}: {loss.item():.4f}')\n",
    "    lossi.append(loss.log10().item())"
   ]
  },
  {
   "cell_type": "code",
   "execution_count": 19,
   "id": "70babdab",
   "metadata": {},
   "outputs": [
    {
     "name": "stdout",
     "output_type": "stream",
     "text": [
      "train 2.9740841388702393\n",
      "val 3.0694797039031982\n"
     ]
    }
   ],
   "source": [
    "@torch.no_grad() # this decorator disables gradient tracking\n",
    "def split_loss(split):\n",
    "    x,y = {\n",
    "        'train': (Xtr, Ytr),\n",
    "        'val': (Xdev, Ydev),\n",
    "        'test': (Xte, Yte)\n",
    "    }[split]\n",
    "    \n",
    "    emb = C[x]\n",
    "    embcat = emb.view(emb.shape[0], -1)\n",
    "    # h = torch.tanh(embcat @ W1 + b1)\n",
    "    hpreact = embcat @ W1 # + b1\n",
    "#     hpreact = bngain * (hpreact - hpreact.mean(0, keepdim=True)) / hpreact.std(0, keepdim=True) + bnbias\n",
    "    hpreact = bngain * (hpreact - bnmean_running) / bnstd_running + bnbias\n",
    "    h = torch.tanh(hpreact) # (N, n_hidden)\n",
    "    logits = h @ W2 + b2\n",
    "    loss = F.cross_entropy(logits, y)\n",
    "    print(split, loss.item())\n",
    "\n",
    "split_loss('train')\n",
    "split_loss('val')"
   ]
  },
  {
   "cell_type": "code",
   "execution_count": null,
   "id": "1f6bbbc0",
   "metadata": {},
   "outputs": [],
   "source": []
  }
 ],
 "metadata": {
  "kernelspec": {
   "display_name": "Python 3 (ipykernel)",
   "language": "python",
   "name": "python3"
  },
  "language_info": {
   "codemirror_mode": {
    "name": "ipython",
    "version": 3
   },
   "file_extension": ".py",
   "mimetype": "text/x-python",
   "name": "python",
   "nbconvert_exporter": "python",
   "pygments_lexer": "ipython3",
   "version": "3.9.13"
  }
 },
 "nbformat": 4,
 "nbformat_minor": 5
}
