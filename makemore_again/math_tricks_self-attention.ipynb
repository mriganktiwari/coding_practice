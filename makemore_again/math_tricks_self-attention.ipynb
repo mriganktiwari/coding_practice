{
 "cells": [
  {
   "cell_type": "code",
   "execution_count": 1,
   "id": "3a513e2f",
   "metadata": {},
   "outputs": [],
   "source": [
    "import torch"
   ]
  },
  {
   "cell_type": "code",
   "execution_count": 2,
   "id": "32c0a31e",
   "metadata": {},
   "outputs": [],
   "source": [
    "B,T,C = 4,8,2"
   ]
  },
  {
   "cell_type": "code",
   "execution_count": 3,
   "id": "7bd96ba5",
   "metadata": {},
   "outputs": [
    {
     "data": {
      "text/plain": [
       "torch.Size([4, 8, 2])"
      ]
     },
     "execution_count": 3,
     "metadata": {},
     "output_type": "execute_result"
    }
   ],
   "source": [
    "x = torch.randn(B,T,C) # (B,T,C)\n",
    "x.shape"
   ]
  },
  {
   "cell_type": "code",
   "execution_count": 10,
   "id": "5bec7bc5",
   "metadata": {},
   "outputs": [
    {
     "data": {
      "text/plain": [
       "tensor([[-0.0585, -1.4621],\n",
       "        [-0.1025, -0.9740],\n",
       "        [-0.0708,  0.0954],\n",
       "        [-0.5929, -0.4518],\n",
       "        [ 1.2725, -0.8707],\n",
       "        [-0.3340,  0.8821],\n",
       "        [-0.2869,  1.3561],\n",
       "        [-1.4222,  0.1716]])"
      ]
     },
     "execution_count": 10,
     "metadata": {},
     "output_type": "execute_result"
    }
   ],
   "source": [
    "x[0]"
   ]
  },
  {
   "cell_type": "markdown",
   "id": "fe7ad0e4",
   "metadata": {},
   "source": [
    "# # version 1"
   ]
  },
  {
   "cell_type": "code",
   "execution_count": 9,
   "id": "def18a36",
   "metadata": {},
   "outputs": [
    {
     "data": {
      "text/plain": [
       "tensor([[-0.0585, -1.4621],\n",
       "        [-0.0805, -1.2181],\n",
       "        [-0.0773, -0.7803],\n",
       "        [-0.2062, -0.6981],\n",
       "        [ 0.0896, -0.7327],\n",
       "        [ 0.0190, -0.4635],\n",
       "        [-0.0247, -0.2036],\n",
       "        [-0.1994, -0.1567]])"
      ]
     },
     "execution_count": 9,
     "metadata": {},
     "output_type": "execute_result"
    }
   ],
   "source": [
    "xbow = torch.zeros(B,T,C)\n",
    "for b in range(B):\n",
    "    for t in range(T):\n",
    "        xprev = x[b,:t+1,:] # (t,C)\n",
    "        xbow[b,t] = torch.mean(xprev, dim=0, keepdims=True)\n",
    "xbow[0]"
   ]
  },
  {
   "cell_type": "markdown",
   "id": "ad280a56",
   "metadata": {},
   "source": [
    "# # version 2"
   ]
  },
  {
   "cell_type": "code",
   "execution_count": 35,
   "id": "1943dec6",
   "metadata": {},
   "outputs": [
    {
     "name": "stdout",
     "output_type": "stream",
     "text": [
      "tensor([[1.0000, 0.0000, 0.0000],\n",
      "        [0.5000, 0.5000, 0.0000],\n",
      "        [0.3333, 0.3333, 0.3333]])\n",
      "----------\n",
      "tensor([[7., 7.],\n",
      "        [0., 0.],\n",
      "        [0., 6.]])\n",
      "----------\n",
      "tensor([[7.0000, 7.0000],\n",
      "        [3.5000, 3.5000],\n",
      "        [2.3333, 4.3333]])\n"
     ]
    }
   ],
   "source": [
    "# toy example\n",
    "\n",
    "a = torch.ones(3,3)\n",
    "a = torch.tril(a) # makes the tensor a lower triangle matrix\n",
    "a = a / torch.sum(a, dim=1, keepdim=True) # normalizing the lower triangle matrix to create averaging effect while information sharing\n",
    "b = torch.randint(0,10, (3,2)).float()\n",
    "c = a @ b\n",
    "\n",
    "print(a)\n",
    "print('----------')\n",
    "print(b)\n",
    "print('----------')\n",
    "print(c)"
   ]
  },
  {
   "cell_type": "code",
   "execution_count": 36,
   "id": "387da1b9",
   "metadata": {},
   "outputs": [
    {
     "data": {
      "text/plain": [
       "tensor([[1.0000, 0.0000, 0.0000, 0.0000, 0.0000, 0.0000, 0.0000, 0.0000],\n",
       "        [0.5000, 0.5000, 0.0000, 0.0000, 0.0000, 0.0000, 0.0000, 0.0000],\n",
       "        [0.3333, 0.3333, 0.3333, 0.0000, 0.0000, 0.0000, 0.0000, 0.0000],\n",
       "        [0.2500, 0.2500, 0.2500, 0.2500, 0.0000, 0.0000, 0.0000, 0.0000],\n",
       "        [0.2000, 0.2000, 0.2000, 0.2000, 0.2000, 0.0000, 0.0000, 0.0000],\n",
       "        [0.1667, 0.1667, 0.1667, 0.1667, 0.1667, 0.1667, 0.0000, 0.0000],\n",
       "        [0.1429, 0.1429, 0.1429, 0.1429, 0.1429, 0.1429, 0.1429, 0.0000],\n",
       "        [0.1250, 0.1250, 0.1250, 0.1250, 0.1250, 0.1250, 0.1250, 0.1250]])"
      ]
     },
     "execution_count": 36,
     "metadata": {},
     "output_type": "execute_result"
    }
   ],
   "source": [
    "# doing the above in batched manner\n",
    "# weighted aggregation - wei will be the weights to do the aggregation\n",
    "wei = torch.tril(torch.ones(T,T))\n",
    "wei = wei / torch.sum(wei, dim=1, keepdim=True)\n",
    "wei"
   ]
  },
  {
   "cell_type": "code",
   "execution_count": 37,
   "id": "ec8a98e5",
   "metadata": {},
   "outputs": [
    {
     "data": {
      "text/plain": [
       "tensor([[-0.0585, -1.4621],\n",
       "        [-0.0805, -1.2181],\n",
       "        [-0.0773, -0.7803],\n",
       "        [-0.2062, -0.6981],\n",
       "        [ 0.0896, -0.7327],\n",
       "        [ 0.0190, -0.4635],\n",
       "        [-0.0247, -0.2036],\n",
       "        [-0.1994, -0.1567]])"
      ]
     },
     "execution_count": 37,
     "metadata": {},
     "output_type": "execute_result"
    }
   ],
   "source": [
    "xbow2 = wei @ x # (T,T) @ (B,T,C) --> (B,T,C)\n",
    "xbow2[0]"
   ]
  },
  {
   "cell_type": "code",
   "execution_count": 38,
   "id": "406433b3",
   "metadata": {},
   "outputs": [
    {
     "data": {
      "text/plain": [
       "True"
      ]
     },
     "execution_count": 38,
     "metadata": {},
     "output_type": "execute_result"
    }
   ],
   "source": [
    "torch.allclose(xbow, xbow2)"
   ]
  },
  {
   "cell_type": "markdown",
   "id": "6890e93b",
   "metadata": {},
   "source": [
    "# # version 3"
   ]
  },
  {
   "cell_type": "code",
   "execution_count": 44,
   "id": "d0d76673",
   "metadata": {},
   "outputs": [
    {
     "data": {
      "text/plain": [
       "tensor([[1., 0., 0., 0., 0., 0., 0., 0.],\n",
       "        [1., 1., 0., 0., 0., 0., 0., 0.],\n",
       "        [1., 1., 1., 0., 0., 0., 0., 0.],\n",
       "        [1., 1., 1., 1., 0., 0., 0., 0.],\n",
       "        [1., 1., 1., 1., 1., 0., 0., 0.],\n",
       "        [1., 1., 1., 1., 1., 1., 0., 0.],\n",
       "        [1., 1., 1., 1., 1., 1., 1., 0.],\n",
       "        [1., 1., 1., 1., 1., 1., 1., 1.]])"
      ]
     },
     "execution_count": 44,
     "metadata": {},
     "output_type": "execute_result"
    }
   ],
   "source": [
    "tril = torch.tril(torch.ones(T,T))\n",
    "tril"
   ]
  },
  {
   "cell_type": "code",
   "execution_count": 42,
   "id": "4a4f628f",
   "metadata": {},
   "outputs": [
    {
     "data": {
      "text/plain": [
       "tensor([[1.0000, 0.0000, 0.0000, 0.0000, 0.0000, 0.0000, 0.0000, 0.0000],\n",
       "        [0.5000, 0.5000, 0.0000, 0.0000, 0.0000, 0.0000, 0.0000, 0.0000],\n",
       "        [0.3333, 0.3333, 0.3333, 0.0000, 0.0000, 0.0000, 0.0000, 0.0000],\n",
       "        [0.2500, 0.2500, 0.2500, 0.2500, 0.0000, 0.0000, 0.0000, 0.0000],\n",
       "        [0.2000, 0.2000, 0.2000, 0.2000, 0.2000, 0.0000, 0.0000, 0.0000],\n",
       "        [0.1667, 0.1667, 0.1667, 0.1667, 0.1667, 0.1667, 0.0000, 0.0000],\n",
       "        [0.1429, 0.1429, 0.1429, 0.1429, 0.1429, 0.1429, 0.1429, 0.0000],\n",
       "        [0.1250, 0.1250, 0.1250, 0.1250, 0.1250, 0.1250, 0.1250, 0.1250]])"
      ]
     },
     "execution_count": 42,
     "metadata": {},
     "output_type": "execute_result"
    }
   ],
   "source": [
    "# using Softmax\n",
    "\n",
    "wei = torch.zeros(T,T)\n",
    "wei = wei.masked_fill(tril==0, float('-inf'))\n",
    "wei = torch.nn.functional.softmax(wei, dim=1)\n",
    "wei"
   ]
  },
  {
   "cell_type": "code",
   "execution_count": 43,
   "id": "c4b8b2d1",
   "metadata": {},
   "outputs": [
    {
     "data": {
      "text/plain": [
       "True"
      ]
     },
     "execution_count": 43,
     "metadata": {},
     "output_type": "execute_result"
    }
   ],
   "source": [
    "xbow3 = wei @ x\n",
    "torch.allclose(xbow, xbow3)"
   ]
  },
  {
   "cell_type": "code",
   "execution_count": null,
   "id": "10f98c83",
   "metadata": {},
   "outputs": [],
   "source": []
  }
 ],
 "metadata": {
  "kernelspec": {
   "display_name": "Python 3 (ipykernel)",
   "language": "python",
   "name": "python3"
  },
  "language_info": {
   "codemirror_mode": {
    "name": "ipython",
    "version": 3
   },
   "file_extension": ".py",
   "mimetype": "text/x-python",
   "name": "python",
   "nbconvert_exporter": "python",
   "pygments_lexer": "ipython3",
   "version": "3.11.4"
  }
 },
 "nbformat": 4,
 "nbformat_minor": 5
}
